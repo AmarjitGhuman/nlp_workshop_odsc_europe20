{
  "nbformat": 4,
  "nbformat_minor": 0,
  "metadata": {
    "colab": {
      "name": "07_Text_Representation_Pre-Trained_Embeddings_Transfer_Learning.ipynb",
      "provenance": [],
      "collapsed_sections": [],
      "machine_shape": "hm"
    },
    "kernelspec": {
      "name": "python3",
      "display_name": "Python 3"
    },
    "accelerator": "GPU",
    "widgets": {
      "application/vnd.jupyter.widget-state+json": {
        "c20b15af035b4b4fb97a58ce12adddcc": {
          "model_module": "@jupyter-widgets/controls",
          "model_name": "HBoxModel",
          "state": {
            "_view_name": "HBoxView",
            "_dom_classes": [],
            "_model_name": "HBoxModel",
            "_view_module": "@jupyter-widgets/controls",
            "_model_module_version": "1.5.0",
            "_view_count": null,
            "_view_module_version": "1.5.0",
            "box_style": "",
            "layout": "IPY_MODEL_6d82f9fa083542b8bf48462231348485",
            "_model_module": "@jupyter-widgets/controls",
            "children": [
              "IPY_MODEL_1d35f68ff0b1444f9ae1fa93c89aaae2",
              "IPY_MODEL_23d9ece5f88a4908bfd158fcdd343663"
            ]
          }
        },
        "6d82f9fa083542b8bf48462231348485": {
          "model_module": "@jupyter-widgets/base",
          "model_name": "LayoutModel",
          "state": {
            "_view_name": "LayoutView",
            "grid_template_rows": null,
            "right": null,
            "justify_content": null,
            "_view_module": "@jupyter-widgets/base",
            "overflow": null,
            "_model_module_version": "1.2.0",
            "_view_count": null,
            "flex_flow": null,
            "width": null,
            "min_width": null,
            "border": null,
            "align_items": null,
            "bottom": null,
            "_model_module": "@jupyter-widgets/base",
            "top": null,
            "grid_column": null,
            "overflow_y": null,
            "overflow_x": null,
            "grid_auto_flow": null,
            "grid_area": null,
            "grid_template_columns": null,
            "flex": null,
            "_model_name": "LayoutModel",
            "justify_items": null,
            "grid_row": null,
            "max_height": null,
            "align_content": null,
            "visibility": null,
            "align_self": null,
            "height": null,
            "min_height": null,
            "padding": null,
            "grid_auto_rows": null,
            "grid_gap": null,
            "max_width": null,
            "order": null,
            "_view_module_version": "1.2.0",
            "grid_template_areas": null,
            "object_position": null,
            "object_fit": null,
            "grid_auto_columns": null,
            "margin": null,
            "display": null,
            "left": null
          }
        },
        "1d35f68ff0b1444f9ae1fa93c89aaae2": {
          "model_module": "@jupyter-widgets/controls",
          "model_name": "FloatProgressModel",
          "state": {
            "_view_name": "ProgressView",
            "style": "IPY_MODEL_5cfd3fc0c3e440f7b62063693c987644",
            "_dom_classes": [],
            "description": "Downloading: 100%",
            "_model_name": "FloatProgressModel",
            "bar_style": "success",
            "max": 231508,
            "_view_module": "@jupyter-widgets/controls",
            "_model_module_version": "1.5.0",
            "value": 231508,
            "_view_count": null,
            "_view_module_version": "1.5.0",
            "orientation": "horizontal",
            "min": 0,
            "description_tooltip": null,
            "_model_module": "@jupyter-widgets/controls",
            "layout": "IPY_MODEL_4cfcc8503c31480a974e3973a11a97c9"
          }
        },
        "23d9ece5f88a4908bfd158fcdd343663": {
          "model_module": "@jupyter-widgets/controls",
          "model_name": "HTMLModel",
          "state": {
            "_view_name": "HTMLView",
            "style": "IPY_MODEL_8593a1c67ae64db9b394fc452db66cb4",
            "_dom_classes": [],
            "description": "",
            "_model_name": "HTMLModel",
            "placeholder": "​",
            "_view_module": "@jupyter-widgets/controls",
            "_model_module_version": "1.5.0",
            "value": " 232k/232k [00:00&lt;00:00, 307kB/s]",
            "_view_count": null,
            "_view_module_version": "1.5.0",
            "description_tooltip": null,
            "_model_module": "@jupyter-widgets/controls",
            "layout": "IPY_MODEL_de4bafcc56594327a2c1eddfb1233ec5"
          }
        },
        "5cfd3fc0c3e440f7b62063693c987644": {
          "model_module": "@jupyter-widgets/controls",
          "model_name": "ProgressStyleModel",
          "state": {
            "_view_name": "StyleView",
            "_model_name": "ProgressStyleModel",
            "description_width": "initial",
            "_view_module": "@jupyter-widgets/base",
            "_model_module_version": "1.5.0",
            "_view_count": null,
            "_view_module_version": "1.2.0",
            "bar_color": null,
            "_model_module": "@jupyter-widgets/controls"
          }
        },
        "4cfcc8503c31480a974e3973a11a97c9": {
          "model_module": "@jupyter-widgets/base",
          "model_name": "LayoutModel",
          "state": {
            "_view_name": "LayoutView",
            "grid_template_rows": null,
            "right": null,
            "justify_content": null,
            "_view_module": "@jupyter-widgets/base",
            "overflow": null,
            "_model_module_version": "1.2.0",
            "_view_count": null,
            "flex_flow": null,
            "width": null,
            "min_width": null,
            "border": null,
            "align_items": null,
            "bottom": null,
            "_model_module": "@jupyter-widgets/base",
            "top": null,
            "grid_column": null,
            "overflow_y": null,
            "overflow_x": null,
            "grid_auto_flow": null,
            "grid_area": null,
            "grid_template_columns": null,
            "flex": null,
            "_model_name": "LayoutModel",
            "justify_items": null,
            "grid_row": null,
            "max_height": null,
            "align_content": null,
            "visibility": null,
            "align_self": null,
            "height": null,
            "min_height": null,
            "padding": null,
            "grid_auto_rows": null,
            "grid_gap": null,
            "max_width": null,
            "order": null,
            "_view_module_version": "1.2.0",
            "grid_template_areas": null,
            "object_position": null,
            "object_fit": null,
            "grid_auto_columns": null,
            "margin": null,
            "display": null,
            "left": null
          }
        },
        "8593a1c67ae64db9b394fc452db66cb4": {
          "model_module": "@jupyter-widgets/controls",
          "model_name": "DescriptionStyleModel",
          "state": {
            "_view_name": "StyleView",
            "_model_name": "DescriptionStyleModel",
            "description_width": "",
            "_view_module": "@jupyter-widgets/base",
            "_model_module_version": "1.5.0",
            "_view_count": null,
            "_view_module_version": "1.2.0",
            "_model_module": "@jupyter-widgets/controls"
          }
        },
        "de4bafcc56594327a2c1eddfb1233ec5": {
          "model_module": "@jupyter-widgets/base",
          "model_name": "LayoutModel",
          "state": {
            "_view_name": "LayoutView",
            "grid_template_rows": null,
            "right": null,
            "justify_content": null,
            "_view_module": "@jupyter-widgets/base",
            "overflow": null,
            "_model_module_version": "1.2.0",
            "_view_count": null,
            "flex_flow": null,
            "width": null,
            "min_width": null,
            "border": null,
            "align_items": null,
            "bottom": null,
            "_model_module": "@jupyter-widgets/base",
            "top": null,
            "grid_column": null,
            "overflow_y": null,
            "overflow_x": null,
            "grid_auto_flow": null,
            "grid_area": null,
            "grid_template_columns": null,
            "flex": null,
            "_model_name": "LayoutModel",
            "justify_items": null,
            "grid_row": null,
            "max_height": null,
            "align_content": null,
            "visibility": null,
            "align_self": null,
            "height": null,
            "min_height": null,
            "padding": null,
            "grid_auto_rows": null,
            "grid_gap": null,
            "max_width": null,
            "order": null,
            "_view_module_version": "1.2.0",
            "grid_template_areas": null,
            "object_position": null,
            "object_fit": null,
            "grid_auto_columns": null,
            "margin": null,
            "display": null,
            "left": null
          }
        },
        "0658c99e1a85404b8e6a5362d794d196": {
          "model_module": "@jupyter-widgets/controls",
          "model_name": "HBoxModel",
          "state": {
            "_view_name": "HBoxView",
            "_dom_classes": [],
            "_model_name": "HBoxModel",
            "_view_module": "@jupyter-widgets/controls",
            "_model_module_version": "1.5.0",
            "_view_count": null,
            "_view_module_version": "1.5.0",
            "box_style": "",
            "layout": "IPY_MODEL_4482dba6377c4c16899d41eb2442870c",
            "_model_module": "@jupyter-widgets/controls",
            "children": [
              "IPY_MODEL_56e9d22fdd1748beb2184abee8cccec0",
              "IPY_MODEL_73acdaefc7c74647a4d58826f78b96bb"
            ]
          }
        },
        "4482dba6377c4c16899d41eb2442870c": {
          "model_module": "@jupyter-widgets/base",
          "model_name": "LayoutModel",
          "state": {
            "_view_name": "LayoutView",
            "grid_template_rows": null,
            "right": null,
            "justify_content": null,
            "_view_module": "@jupyter-widgets/base",
            "overflow": null,
            "_model_module_version": "1.2.0",
            "_view_count": null,
            "flex_flow": null,
            "width": null,
            "min_width": null,
            "border": null,
            "align_items": null,
            "bottom": null,
            "_model_module": "@jupyter-widgets/base",
            "top": null,
            "grid_column": null,
            "overflow_y": null,
            "overflow_x": null,
            "grid_auto_flow": null,
            "grid_area": null,
            "grid_template_columns": null,
            "flex": null,
            "_model_name": "LayoutModel",
            "justify_items": null,
            "grid_row": null,
            "max_height": null,
            "align_content": null,
            "visibility": null,
            "align_self": null,
            "height": null,
            "min_height": null,
            "padding": null,
            "grid_auto_rows": null,
            "grid_gap": null,
            "max_width": null,
            "order": null,
            "_view_module_version": "1.2.0",
            "grid_template_areas": null,
            "object_position": null,
            "object_fit": null,
            "grid_auto_columns": null,
            "margin": null,
            "display": null,
            "left": null
          }
        },
        "56e9d22fdd1748beb2184abee8cccec0": {
          "model_module": "@jupyter-widgets/controls",
          "model_name": "FloatProgressModel",
          "state": {
            "_view_name": "ProgressView",
            "style": "IPY_MODEL_5c763f11dfe54bdbb2dbb92d440bb95c",
            "_dom_classes": [],
            "description": "Downloading: 100%",
            "_model_name": "FloatProgressModel",
            "bar_style": "success",
            "max": 433,
            "_view_module": "@jupyter-widgets/controls",
            "_model_module_version": "1.5.0",
            "value": 433,
            "_view_count": null,
            "_view_module_version": "1.5.0",
            "orientation": "horizontal",
            "min": 0,
            "description_tooltip": null,
            "_model_module": "@jupyter-widgets/controls",
            "layout": "IPY_MODEL_76501fe001cf4a2d94f57793223b8321"
          }
        },
        "73acdaefc7c74647a4d58826f78b96bb": {
          "model_module": "@jupyter-widgets/controls",
          "model_name": "HTMLModel",
          "state": {
            "_view_name": "HTMLView",
            "style": "IPY_MODEL_72a3b7b99705474a87633fd7d9ab1f39",
            "_dom_classes": [],
            "description": "",
            "_model_name": "HTMLModel",
            "placeholder": "​",
            "_view_module": "@jupyter-widgets/controls",
            "_model_module_version": "1.5.0",
            "value": " 433/433 [00:06&lt;00:00, 62.3B/s]",
            "_view_count": null,
            "_view_module_version": "1.5.0",
            "description_tooltip": null,
            "_model_module": "@jupyter-widgets/controls",
            "layout": "IPY_MODEL_c5db30c2ee9c4ec593a10373c729d9ed"
          }
        },
        "5c763f11dfe54bdbb2dbb92d440bb95c": {
          "model_module": "@jupyter-widgets/controls",
          "model_name": "ProgressStyleModel",
          "state": {
            "_view_name": "StyleView",
            "_model_name": "ProgressStyleModel",
            "description_width": "initial",
            "_view_module": "@jupyter-widgets/base",
            "_model_module_version": "1.5.0",
            "_view_count": null,
            "_view_module_version": "1.2.0",
            "bar_color": null,
            "_model_module": "@jupyter-widgets/controls"
          }
        },
        "76501fe001cf4a2d94f57793223b8321": {
          "model_module": "@jupyter-widgets/base",
          "model_name": "LayoutModel",
          "state": {
            "_view_name": "LayoutView",
            "grid_template_rows": null,
            "right": null,
            "justify_content": null,
            "_view_module": "@jupyter-widgets/base",
            "overflow": null,
            "_model_module_version": "1.2.0",
            "_view_count": null,
            "flex_flow": null,
            "width": null,
            "min_width": null,
            "border": null,
            "align_items": null,
            "bottom": null,
            "_model_module": "@jupyter-widgets/base",
            "top": null,
            "grid_column": null,
            "overflow_y": null,
            "overflow_x": null,
            "grid_auto_flow": null,
            "grid_area": null,
            "grid_template_columns": null,
            "flex": null,
            "_model_name": "LayoutModel",
            "justify_items": null,
            "grid_row": null,
            "max_height": null,
            "align_content": null,
            "visibility": null,
            "align_self": null,
            "height": null,
            "min_height": null,
            "padding": null,
            "grid_auto_rows": null,
            "grid_gap": null,
            "max_width": null,
            "order": null,
            "_view_module_version": "1.2.0",
            "grid_template_areas": null,
            "object_position": null,
            "object_fit": null,
            "grid_auto_columns": null,
            "margin": null,
            "display": null,
            "left": null
          }
        },
        "72a3b7b99705474a87633fd7d9ab1f39": {
          "model_module": "@jupyter-widgets/controls",
          "model_name": "DescriptionStyleModel",
          "state": {
            "_view_name": "StyleView",
            "_model_name": "DescriptionStyleModel",
            "description_width": "",
            "_view_module": "@jupyter-widgets/base",
            "_model_module_version": "1.5.0",
            "_view_count": null,
            "_view_module_version": "1.2.0",
            "_model_module": "@jupyter-widgets/controls"
          }
        },
        "c5db30c2ee9c4ec593a10373c729d9ed": {
          "model_module": "@jupyter-widgets/base",
          "model_name": "LayoutModel",
          "state": {
            "_view_name": "LayoutView",
            "grid_template_rows": null,
            "right": null,
            "justify_content": null,
            "_view_module": "@jupyter-widgets/base",
            "overflow": null,
            "_model_module_version": "1.2.0",
            "_view_count": null,
            "flex_flow": null,
            "width": null,
            "min_width": null,
            "border": null,
            "align_items": null,
            "bottom": null,
            "_model_module": "@jupyter-widgets/base",
            "top": null,
            "grid_column": null,
            "overflow_y": null,
            "overflow_x": null,
            "grid_auto_flow": null,
            "grid_area": null,
            "grid_template_columns": null,
            "flex": null,
            "_model_name": "LayoutModel",
            "justify_items": null,
            "grid_row": null,
            "max_height": null,
            "align_content": null,
            "visibility": null,
            "align_self": null,
            "height": null,
            "min_height": null,
            "padding": null,
            "grid_auto_rows": null,
            "grid_gap": null,
            "max_width": null,
            "order": null,
            "_view_module_version": "1.2.0",
            "grid_template_areas": null,
            "object_position": null,
            "object_fit": null,
            "grid_auto_columns": null,
            "margin": null,
            "display": null,
            "left": null
          }
        },
        "47fb96fdf6624c4ca5ae8993e1da0e14": {
          "model_module": "@jupyter-widgets/controls",
          "model_name": "HBoxModel",
          "state": {
            "_view_name": "HBoxView",
            "_dom_classes": [],
            "_model_name": "HBoxModel",
            "_view_module": "@jupyter-widgets/controls",
            "_model_module_version": "1.5.0",
            "_view_count": null,
            "_view_module_version": "1.5.0",
            "box_style": "",
            "layout": "IPY_MODEL_0506af3bd1b04ce3aa124408aa121351",
            "_model_module": "@jupyter-widgets/controls",
            "children": [
              "IPY_MODEL_280bca4d668f46f9b57ad10382134e4e",
              "IPY_MODEL_400b8646b3e545ec866e783161976147"
            ]
          }
        },
        "0506af3bd1b04ce3aa124408aa121351": {
          "model_module": "@jupyter-widgets/base",
          "model_name": "LayoutModel",
          "state": {
            "_view_name": "LayoutView",
            "grid_template_rows": null,
            "right": null,
            "justify_content": null,
            "_view_module": "@jupyter-widgets/base",
            "overflow": null,
            "_model_module_version": "1.2.0",
            "_view_count": null,
            "flex_flow": null,
            "width": null,
            "min_width": null,
            "border": null,
            "align_items": null,
            "bottom": null,
            "_model_module": "@jupyter-widgets/base",
            "top": null,
            "grid_column": null,
            "overflow_y": null,
            "overflow_x": null,
            "grid_auto_flow": null,
            "grid_area": null,
            "grid_template_columns": null,
            "flex": null,
            "_model_name": "LayoutModel",
            "justify_items": null,
            "grid_row": null,
            "max_height": null,
            "align_content": null,
            "visibility": null,
            "align_self": null,
            "height": null,
            "min_height": null,
            "padding": null,
            "grid_auto_rows": null,
            "grid_gap": null,
            "max_width": null,
            "order": null,
            "_view_module_version": "1.2.0",
            "grid_template_areas": null,
            "object_position": null,
            "object_fit": null,
            "grid_auto_columns": null,
            "margin": null,
            "display": null,
            "left": null
          }
        },
        "280bca4d668f46f9b57ad10382134e4e": {
          "model_module": "@jupyter-widgets/controls",
          "model_name": "FloatProgressModel",
          "state": {
            "_view_name": "ProgressView",
            "style": "IPY_MODEL_6c5b92e821204106a803d51da93900f6",
            "_dom_classes": [],
            "description": "Downloading: 100%",
            "_model_name": "FloatProgressModel",
            "bar_style": "success",
            "max": 536063208,
            "_view_module": "@jupyter-widgets/controls",
            "_model_module_version": "1.5.0",
            "value": 536063208,
            "_view_count": null,
            "_view_module_version": "1.5.0",
            "orientation": "horizontal",
            "min": 0,
            "description_tooltip": null,
            "_model_module": "@jupyter-widgets/controls",
            "layout": "IPY_MODEL_a5b548bbfb7b4c54adf51fa6b2d14018"
          }
        },
        "400b8646b3e545ec866e783161976147": {
          "model_module": "@jupyter-widgets/controls",
          "model_name": "HTMLModel",
          "state": {
            "_view_name": "HTMLView",
            "style": "IPY_MODEL_4c5542d6b97c40f2a587cb52fab88689",
            "_dom_classes": [],
            "description": "",
            "_model_name": "HTMLModel",
            "placeholder": "​",
            "_view_module": "@jupyter-widgets/controls",
            "_model_module_version": "1.5.0",
            "value": " 536M/536M [00:06&lt;00:00, 82.4MB/s]",
            "_view_count": null,
            "_view_module_version": "1.5.0",
            "description_tooltip": null,
            "_model_module": "@jupyter-widgets/controls",
            "layout": "IPY_MODEL_66055fa240b44df981504fc930a836e7"
          }
        },
        "6c5b92e821204106a803d51da93900f6": {
          "model_module": "@jupyter-widgets/controls",
          "model_name": "ProgressStyleModel",
          "state": {
            "_view_name": "StyleView",
            "_model_name": "ProgressStyleModel",
            "description_width": "initial",
            "_view_module": "@jupyter-widgets/base",
            "_model_module_version": "1.5.0",
            "_view_count": null,
            "_view_module_version": "1.2.0",
            "bar_color": null,
            "_model_module": "@jupyter-widgets/controls"
          }
        },
        "a5b548bbfb7b4c54adf51fa6b2d14018": {
          "model_module": "@jupyter-widgets/base",
          "model_name": "LayoutModel",
          "state": {
            "_view_name": "LayoutView",
            "grid_template_rows": null,
            "right": null,
            "justify_content": null,
            "_view_module": "@jupyter-widgets/base",
            "overflow": null,
            "_model_module_version": "1.2.0",
            "_view_count": null,
            "flex_flow": null,
            "width": null,
            "min_width": null,
            "border": null,
            "align_items": null,
            "bottom": null,
            "_model_module": "@jupyter-widgets/base",
            "top": null,
            "grid_column": null,
            "overflow_y": null,
            "overflow_x": null,
            "grid_auto_flow": null,
            "grid_area": null,
            "grid_template_columns": null,
            "flex": null,
            "_model_name": "LayoutModel",
            "justify_items": null,
            "grid_row": null,
            "max_height": null,
            "align_content": null,
            "visibility": null,
            "align_self": null,
            "height": null,
            "min_height": null,
            "padding": null,
            "grid_auto_rows": null,
            "grid_gap": null,
            "max_width": null,
            "order": null,
            "_view_module_version": "1.2.0",
            "grid_template_areas": null,
            "object_position": null,
            "object_fit": null,
            "grid_auto_columns": null,
            "margin": null,
            "display": null,
            "left": null
          }
        },
        "4c5542d6b97c40f2a587cb52fab88689": {
          "model_module": "@jupyter-widgets/controls",
          "model_name": "DescriptionStyleModel",
          "state": {
            "_view_name": "StyleView",
            "_model_name": "DescriptionStyleModel",
            "description_width": "",
            "_view_module": "@jupyter-widgets/base",
            "_model_module_version": "1.5.0",
            "_view_count": null,
            "_view_module_version": "1.2.0",
            "_model_module": "@jupyter-widgets/controls"
          }
        },
        "66055fa240b44df981504fc930a836e7": {
          "model_module": "@jupyter-widgets/base",
          "model_name": "LayoutModel",
          "state": {
            "_view_name": "LayoutView",
            "grid_template_rows": null,
            "right": null,
            "justify_content": null,
            "_view_module": "@jupyter-widgets/base",
            "overflow": null,
            "_model_module_version": "1.2.0",
            "_view_count": null,
            "flex_flow": null,
            "width": null,
            "min_width": null,
            "border": null,
            "align_items": null,
            "bottom": null,
            "_model_module": "@jupyter-widgets/base",
            "top": null,
            "grid_column": null,
            "overflow_y": null,
            "overflow_x": null,
            "grid_auto_flow": null,
            "grid_area": null,
            "grid_template_columns": null,
            "flex": null,
            "_model_name": "LayoutModel",
            "justify_items": null,
            "grid_row": null,
            "max_height": null,
            "align_content": null,
            "visibility": null,
            "align_self": null,
            "height": null,
            "min_height": null,
            "padding": null,
            "grid_auto_rows": null,
            "grid_gap": null,
            "max_width": null,
            "order": null,
            "_view_module_version": "1.2.0",
            "grid_template_areas": null,
            "object_position": null,
            "object_fit": null,
            "grid_auto_columns": null,
            "margin": null,
            "display": null,
            "left": null
          }
        }
      }
    }
  },
  "cells": [
    {
      "cell_type": "markdown",
      "metadata": {
        "id": "QVemECCPfYg0",
        "colab_type": "text"
      },
      "source": [
        "# Text Representation and Semantic Meaning with Transfer Learning (Pre-trained Embeddings)\n",
        "\n",
        "![](https://i.imgur.com/7SXKckD.png)\n",
        "\n",
        "Transfer Learning is the power of leveraging already trained models and tune \\ adapt them to our own downstream tasks."
      ]
    },
    {
      "cell_type": "markdown",
      "metadata": {
        "id": "YHruWvqUgO-x",
        "colab_type": "text"
      },
      "source": [
        "# Finding semantic similarity with Pre-trained Embeddings\n",
        "\n",
        "Here we will leverage already pre-trained embedding models \\ deep learning models to extract embeddings from sentences and find out their semantic similarity.\n",
        "\n",
        "Models we will look at:\n",
        "\n",
        "1. Pre-trained Word2Vec Embeddings from Google\n",
        "2. BERT"
      ]
    },
    {
      "cell_type": "markdown",
      "metadata": {
        "id": "hRDuVi6fgsSM",
        "colab_type": "text"
      },
      "source": [
        "# Create a sample corpus"
      ]
    },
    {
      "cell_type": "code",
      "metadata": {
        "id": "uwM52iwoJTtN",
        "colab_type": "code",
        "colab": {}
      },
      "source": [
        "sentences = ['He is sitting near the river bank',\n",
        "             'He is sitting in the bank to get some cash',\n",
        "             'The elephant is sitting near the bank of the river',\n",
        "             'The bank is closed so he cannot get any money today']"
      ],
      "execution_count": 77,
      "outputs": []
    },
    {
      "cell_type": "markdown",
      "metadata": {
        "id": "M78a7Gwfgv9V",
        "colab_type": "text"
      },
      "source": [
        "# Get Pre-trained Google Word2Vec Embeddings\n",
        "\n",
        "The word2vec model takes a text corpus as input and produces the word vectors as output. It first constructs a vocabulary from the training text data and then learns vector representation of words. The resulting word vector file can be used as features in many natural language processing and machine learning applications.\n",
        "\n",
        "We are publishing pre-trained vectors trained on part of Google News dataset (about 100 billion words). The model contains 300-dimensional vectors for 3 million words and phrases. \n",
        "\n",
        "The archive is available in the link below: \n",
        "\n",
        "Source: https://code.google.com/archive/p/word2vec/"
      ]
    },
    {
      "cell_type": "code",
      "metadata": {
        "id": "5qLfCpxFJ2Eq",
        "colab_type": "code",
        "colab": {
          "base_uri": "https://localhost:8080/",
          "height": 204
        },
        "outputId": "db149c9e-15f1-40c8-a47e-355c1595f2b2"
      },
      "source": [
        "!wget https://s3.amazonaws.com/dl4j-distribution/GoogleNews-vectors-negative300.bin.gz"
      ],
      "execution_count": 78,
      "outputs": [
        {
          "output_type": "stream",
          "text": [
            "--2020-09-17 23:04:05--  https://s3.amazonaws.com/dl4j-distribution/GoogleNews-vectors-negative300.bin.gz\n",
            "Resolving s3.amazonaws.com (s3.amazonaws.com)... 52.216.78.78\n",
            "Connecting to s3.amazonaws.com (s3.amazonaws.com)|52.216.78.78|:443... connected.\n",
            "HTTP request sent, awaiting response... 200 OK\n",
            "Length: 1647046227 (1.5G) [application/x-gzip]\n",
            "Saving to: ‘GoogleNews-vectors-negative300.bin.gz’\n",
            "\n",
            "GoogleNews-vectors- 100%[===================>]   1.53G  10.7MB/s    in 1m 46s  \n",
            "\n",
            "2020-09-17 23:05:51 (14.9 MB/s) - ‘GoogleNews-vectors-negative300.bin.gz’ saved [1647046227/1647046227]\n",
            "\n"
          ],
          "name": "stdout"
        }
      ]
    },
    {
      "cell_type": "code",
      "metadata": {
        "id": "3beGTNCkKeQM",
        "colab_type": "code",
        "colab": {}
      },
      "source": [
        "!gunzip GoogleNews-vectors-negative300.bin"
      ],
      "execution_count": 6,
      "outputs": []
    },
    {
      "cell_type": "code",
      "metadata": {
        "id": "WCvh9TgtLsI8",
        "colab_type": "code",
        "colab": {
          "base_uri": "https://localhost:8080/",
          "height": 68
        },
        "outputId": "55c53c5a-f484-483d-e6e5-2db2d5f3627c"
      },
      "source": [
        "!ls -l --block-size=MB"
      ],
      "execution_count": 8,
      "outputs": [
        {
          "output_type": "stream",
          "text": [
            "total 3645MB\n",
            "-rw-r--r-- 1 root root 3645MB Mar  5  2015 GoogleNews-vectors-negative300.bin\n",
            "drwxr-xr-x 1 root root    1MB Sep 16 16:29 sample_data\n"
          ],
          "name": "stdout"
        }
      ]
    },
    {
      "cell_type": "markdown",
      "metadata": {
        "id": "AN6nWR_qhGVC",
        "colab_type": "text"
      },
      "source": [
        "# Load Word2Vec Embeddings in a Word2Vec Model"
      ]
    },
    {
      "cell_type": "code",
      "metadata": {
        "id": "kglDziMrL4Gb",
        "colab_type": "code",
        "colab": {
          "base_uri": "https://localhost:8080/",
          "height": 71
        },
        "outputId": "d10d5c86-fdb8-43ba-def6-81c6de8d189b"
      },
      "source": [
        "from gensim.models import KeyedVectors\n",
        "\n",
        "w2v_model = KeyedVectors.load_word2vec_format('GoogleNews-vectors-negative300.bin', binary=True)"
      ],
      "execution_count": 81,
      "outputs": [
        {
          "output_type": "stream",
          "text": [
            "/usr/local/lib/python3.6/dist-packages/smart_open/smart_open_lib.py:254: UserWarning: This function is deprecated, use smart_open.open instead. See the migration notes for details: https://github.com/RaRe-Technologies/smart_open/blob/master/README.rst#migrating-to-the-new-open-function\n",
            "  'See the migration notes for details: %s' % _MIGRATION_NOTES_URL\n"
          ],
          "name": "stderr"
        }
      ]
    },
    {
      "cell_type": "code",
      "metadata": {
        "id": "lihSZ46JMESj",
        "colab_type": "code",
        "colab": {
          "base_uri": "https://localhost:8080/",
          "height": 34
        },
        "outputId": "3b72df81-314f-472a-df9b-71953f95c6de"
      },
      "source": [
        "w2v_model"
      ],
      "execution_count": 82,
      "outputs": [
        {
          "output_type": "execute_result",
          "data": {
            "text/plain": [
              "<gensim.models.keyedvectors.Word2VecKeyedVectors at 0x7faf132ae438>"
            ]
          },
          "metadata": {
            "tags": []
          },
          "execution_count": 82
        }
      ]
    },
    {
      "cell_type": "markdown",
      "metadata": {
        "id": "hT7tLxt_hJ_V",
        "colab_type": "text"
      },
      "source": [
        "# Sample embedding from already trained Word2Vec Model"
      ]
    },
    {
      "cell_type": "code",
      "metadata": {
        "id": "nbm_VbbyMOOg",
        "colab_type": "code",
        "colab": {
          "base_uri": "https://localhost:8080/",
          "height": 1000
        },
        "outputId": "2b6aad87-ddcd-4115-d9ad-5677067f0282"
      },
      "source": [
        "w2v_model['bank']"
      ],
      "execution_count": 83,
      "outputs": [
        {
          "output_type": "execute_result",
          "data": {
            "text/plain": [
              "array([ 2.19726562e-02,  1.34765625e-01, -5.78613281e-02,  5.56640625e-02,\n",
              "        9.91210938e-02, -1.40625000e-01, -3.03649902e-03,  1.87988281e-02,\n",
              "        2.53906250e-01, -4.88281250e-02, -1.63574219e-02, -1.33666992e-02,\n",
              "        6.25000000e-02,  6.07910156e-02, -9.22851562e-02,  3.12500000e-01,\n",
              "        1.38282776e-04, -1.34765625e-01, -4.32128906e-02,  1.16699219e-01,\n",
              "        2.22656250e-01, -9.81445312e-02,  4.51660156e-02, -2.23388672e-02,\n",
              "        5.17578125e-02, -2.41210938e-01, -1.11328125e-01,  9.71679688e-02,\n",
              "        2.28515625e-01, -1.08642578e-02, -4.02832031e-02, -1.83105469e-02,\n",
              "        3.10546875e-01,  3.88183594e-02, -2.85156250e-01, -2.06054688e-01,\n",
              "        3.69140625e-01, -5.24902344e-02,  1.30859375e-01,  1.51367188e-01,\n",
              "        1.59179688e-01, -2.36328125e-01,  7.47070312e-02, -5.54199219e-02,\n",
              "       -8.64257812e-02, -2.28515625e-01,  2.44140625e-03,  8.11767578e-03,\n",
              "       -1.62109375e-01,  1.46484375e-01,  1.40625000e-01, -3.82995605e-03,\n",
              "        1.09375000e-01,  1.14257812e-01, -1.19140625e-01, -7.12890625e-02,\n",
              "       -3.53515625e-01,  2.00195312e-01,  5.76171875e-02, -3.67187500e-01,\n",
              "       -2.42919922e-02, -3.97949219e-02, -1.48437500e-01,  4.61425781e-02,\n",
              "        5.00488281e-03, -1.23535156e-01, -7.32421875e-02,  7.47070312e-02,\n",
              "       -3.54003906e-02,  6.98242188e-02,  8.88671875e-02,  3.41796875e-02,\n",
              "        2.65625000e-01, -2.01416016e-02, -2.49023438e-01,  1.73828125e-01,\n",
              "       -3.44238281e-02,  1.74804688e-01,  2.61718750e-01, -9.03320312e-03,\n",
              "       -1.58203125e-01, -2.02148438e-01,  1.15234375e-01,  2.17773438e-01,\n",
              "       -1.08032227e-02,  1.94335938e-01, -2.87109375e-01, -3.93066406e-02,\n",
              "        5.12695312e-02, -8.88671875e-02,  5.95703125e-02,  1.46484375e-01,\n",
              "        6.93359375e-02, -3.06640625e-01, -1.74804688e-01, -3.63281250e-01,\n",
              "        7.42187500e-02, -3.34472656e-02,  1.60156250e-01,  7.50732422e-03,\n",
              "       -1.55029297e-02, -6.59179688e-02,  3.49121094e-02,  8.78906250e-02,\n",
              "        3.55468750e-01, -1.52343750e-01, -6.78710938e-02, -3.01513672e-02,\n",
              "        1.83593750e-01, -1.85546875e-01, -9.66796875e-02, -1.19140625e-01,\n",
              "       -2.34375000e-01, -1.76757812e-01, -6.29882812e-02,  1.53320312e-01,\n",
              "       -8.31604004e-04,  2.47070312e-01, -1.02233887e-03,  1.77734375e-01,\n",
              "        8.05664062e-02, -1.36718750e-01, -1.19140625e-01,  7.86132812e-02,\n",
              "        1.24511719e-01, -1.78710938e-01,  6.68945312e-02,  5.66406250e-02,\n",
              "       -6.44531250e-02,  2.50244141e-02, -4.66308594e-02, -7.76367188e-02,\n",
              "       -2.40478516e-02, -1.31835938e-01,  4.68750000e-02, -1.23046875e-01,\n",
              "       -2.32421875e-01, -1.94335938e-01, -2.12890625e-01,  4.37011719e-02,\n",
              "        8.05664062e-02, -4.41406250e-01, -1.62353516e-02,  1.71875000e-01,\n",
              "       -1.69921875e-01,  1.20117188e-01,  4.85839844e-02,  2.44140625e-01,\n",
              "        7.81250000e-02,  1.16210938e-01, -2.88085938e-02,  4.80957031e-02,\n",
              "       -1.15234375e-01,  1.03027344e-01, -3.66210938e-02, -5.82885742e-03,\n",
              "       -4.98046875e-02,  1.12792969e-01,  2.41210938e-01,  2.91015625e-01,\n",
              "       -1.33666992e-02,  1.53320312e-01,  1.76757812e-01, -8.17871094e-03,\n",
              "       -1.72851562e-01, -6.39648438e-02,  2.40234375e-01, -7.32421875e-02,\n",
              "       -4.12597656e-02,  3.95507812e-02, -3.22265625e-01,  1.36718750e-01,\n",
              "       -1.38671875e-01, -2.04101562e-01,  7.27539062e-02,  1.03515625e-01,\n",
              "        1.08032227e-02,  7.47070312e-02,  1.80664062e-01, -1.62109375e-01,\n",
              "        4.58984375e-02, -3.19824219e-02, -1.10351562e-01, -3.04687500e-01,\n",
              "       -9.71679688e-02, -3.41796875e-01,  2.18505859e-02,  3.90625000e-01,\n",
              "       -6.44531250e-02,  1.17675781e-01, -2.65625000e-01, -1.69677734e-02,\n",
              "       -2.50000000e-01,  5.46875000e-02, -5.41992188e-02,  1.00097656e-01,\n",
              "       -2.04101562e-01, -1.00097656e-01,  4.41894531e-02, -2.46093750e-01,\n",
              "       -2.83203125e-01,  1.10351562e-01,  8.20312500e-02,  1.07910156e-01,\n",
              "        4.37011719e-02,  2.21679688e-01,  1.04492188e-01,  2.05078125e-01,\n",
              "        4.56542969e-02, -2.87109375e-01,  1.01562500e-01, -9.32617188e-02,\n",
              "        2.55859375e-01,  1.68945312e-01,  6.22558594e-02, -9.17968750e-02,\n",
              "       -1.38671875e-01, -3.46679688e-02, -1.65039062e-01, -1.11328125e-01,\n",
              "        4.98046875e-02,  1.25976562e-01,  6.10351562e-02, -3.88183594e-02,\n",
              "       -1.14257812e-01,  2.67578125e-01, -2.69775391e-02,  1.71875000e-01,\n",
              "       -4.10156250e-02, -7.81250000e-03,  7.91015625e-02, -1.10351562e-01,\n",
              "       -2.03125000e-01, -6.56127930e-03, -1.08886719e-01, -2.27539062e-01,\n",
              "        1.26953125e-01,  2.53906250e-02, -9.61914062e-02,  4.76074219e-02,\n",
              "        1.67968750e-01,  1.81884766e-02, -1.04492188e-01,  7.66601562e-02,\n",
              "        9.57031250e-02, -2.79296875e-01,  2.08984375e-01, -1.52343750e-01,\n",
              "        1.49414062e-01,  2.44140625e-01, -1.57226562e-01, -1.95312500e-01,\n",
              "       -3.80859375e-02,  1.70898438e-01, -6.44531250e-02, -1.07421875e-01,\n",
              "        1.50390625e-01,  1.15722656e-01, -4.37011719e-02,  1.41601562e-01,\n",
              "        3.24707031e-02,  1.92871094e-02,  3.83300781e-02, -2.03857422e-02,\n",
              "       -1.81884766e-02,  4.39453125e-01, -1.67236328e-02, -1.20605469e-01,\n",
              "       -2.73437500e-01, -6.78710938e-02, -1.52343750e-01,  1.41601562e-01,\n",
              "       -5.61523438e-02,  4.95605469e-02, -7.37304688e-02, -3.05175781e-03,\n",
              "        1.82617188e-01, -2.95410156e-02,  4.56542969e-02, -2.19726562e-02,\n",
              "        6.46972656e-03, -3.68652344e-02, -4.68750000e-02,  1.18408203e-02,\n",
              "       -6.88476562e-02, -4.56542969e-02,  1.02996826e-03,  1.00097656e-01,\n",
              "       -1.22558594e-01,  1.68945312e-01, -1.57226562e-01,  7.17773438e-02,\n",
              "       -9.17968750e-02, -3.97949219e-02,  1.08886719e-01, -1.92871094e-02,\n",
              "       -1.45507812e-01, -5.56640625e-02, -3.83300781e-02, -3.18359375e-01],\n",
              "      dtype=float32)"
            ]
          },
          "metadata": {
            "tags": []
          },
          "execution_count": 83
        }
      ]
    },
    {
      "cell_type": "markdown",
      "metadata": {
        "id": "tc_5fkMvhOsf",
        "colab_type": "text"
      },
      "source": [
        "# Document Embeddings from Averaging Word Embeddings"
      ]
    },
    {
      "cell_type": "code",
      "metadata": {
        "id": "gIPqel6eMQC2",
        "colab_type": "code",
        "colab": {}
      },
      "source": [
        "import numpy as np\n",
        "\n",
        "def average_word_vectors(words, model, vocabulary, num_features):\n",
        "    \n",
        "    feature_vector = np.zeros((num_features,),dtype=\"float64\")\n",
        "    nwords = 0.\n",
        "    \n",
        "    for word in words:\n",
        "        if word in vocabulary: \n",
        "            nwords = nwords + 1.\n",
        "            feature_vector = np.add(feature_vector, model[word])\n",
        "    \n",
        "    if nwords:\n",
        "        feature_vector = np.divide(feature_vector, nwords)\n",
        "        \n",
        "    return feature_vector\n",
        "\n",
        "\n",
        "def averaged_word_vectorizer(corpus, model, num_features):\n",
        "    vocabulary = set(model.index2word)\n",
        "    features = [average_word_vectors(tokenized_sentence, model, vocabulary, num_features)\n",
        "                    for tokenized_sentence in corpus]\n",
        "    return np.array(features)"
      ],
      "execution_count": 18,
      "outputs": []
    },
    {
      "cell_type": "markdown",
      "metadata": {
        "id": "UvPE3fq-hUlE",
        "colab_type": "text"
      },
      "source": [
        "# Observe Similarity based on Word2Vec Embeddings"
      ]
    },
    {
      "cell_type": "code",
      "metadata": {
        "id": "6s21IRclMaQa",
        "colab_type": "code",
        "colab": {}
      },
      "source": [
        "w2v_vectors = averaged_word_vectorizer(sentences, model=w2v_model, num_features=300)"
      ],
      "execution_count": 84,
      "outputs": []
    },
    {
      "cell_type": "code",
      "metadata": {
        "id": "yZ3OEtpyUrXo",
        "colab_type": "code",
        "colab": {
          "base_uri": "https://localhost:8080/",
          "height": 85
        },
        "outputId": "734835bd-24c3-4662-d74e-1383c8455265"
      },
      "source": [
        "sentences"
      ],
      "execution_count": 86,
      "outputs": [
        {
          "output_type": "execute_result",
          "data": {
            "text/plain": [
              "['He is sitting near the river bank',\n",
              " 'He is sitting in the bank to get some cash',\n",
              " 'The elephant is sitting near the bank of the river',\n",
              " 'The bank is closed so he cannot get any money today']"
            ]
          },
          "metadata": {
            "tags": []
          },
          "execution_count": 86
        }
      ]
    },
    {
      "cell_type": "code",
      "metadata": {
        "id": "V6SYdcIeMy-1",
        "colab_type": "code",
        "colab": {
          "base_uri": "https://localhost:8080/",
          "height": 173
        },
        "outputId": "6b14ba50-eff1-4c75-941e-929c7732cf87"
      },
      "source": [
        "from sklearn.metrics.pairwise import cosine_similarity\n",
        "import pandas as pd\n",
        "\n",
        "similarity_matrix = cosine_similarity(w2v_vectors)\n",
        "similarity_df = pd.DataFrame(similarity_matrix)\n",
        "similarity_df"
      ],
      "execution_count": 85,
      "outputs": [
        {
          "output_type": "execute_result",
          "data": {
            "text/html": [
              "<div>\n",
              "<style scoped>\n",
              "    .dataframe tbody tr th:only-of-type {\n",
              "        vertical-align: middle;\n",
              "    }\n",
              "\n",
              "    .dataframe tbody tr th {\n",
              "        vertical-align: top;\n",
              "    }\n",
              "\n",
              "    .dataframe thead th {\n",
              "        text-align: right;\n",
              "    }\n",
              "</style>\n",
              "<table border=\"1\" class=\"dataframe\">\n",
              "  <thead>\n",
              "    <tr style=\"text-align: right;\">\n",
              "      <th></th>\n",
              "      <th>0</th>\n",
              "      <th>1</th>\n",
              "      <th>2</th>\n",
              "      <th>3</th>\n",
              "    </tr>\n",
              "  </thead>\n",
              "  <tbody>\n",
              "    <tr>\n",
              "      <th>0</th>\n",
              "      <td>1.000000</td>\n",
              "      <td>0.980478</td>\n",
              "      <td>0.989551</td>\n",
              "      <td>0.956270</td>\n",
              "    </tr>\n",
              "    <tr>\n",
              "      <th>1</th>\n",
              "      <td>0.980478</td>\n",
              "      <td>1.000000</td>\n",
              "      <td>0.979031</td>\n",
              "      <td>0.967277</td>\n",
              "    </tr>\n",
              "    <tr>\n",
              "      <th>2</th>\n",
              "      <td>0.989551</td>\n",
              "      <td>0.979031</td>\n",
              "      <td>1.000000</td>\n",
              "      <td>0.969750</td>\n",
              "    </tr>\n",
              "    <tr>\n",
              "      <th>3</th>\n",
              "      <td>0.956270</td>\n",
              "      <td>0.967277</td>\n",
              "      <td>0.969750</td>\n",
              "      <td>1.000000</td>\n",
              "    </tr>\n",
              "  </tbody>\n",
              "</table>\n",
              "</div>"
            ],
            "text/plain": [
              "          0         1         2         3\n",
              "0  1.000000  0.980478  0.989551  0.956270\n",
              "1  0.980478  1.000000  0.979031  0.967277\n",
              "2  0.989551  0.979031  1.000000  0.969750\n",
              "3  0.956270  0.967277  0.969750  1.000000"
            ]
          },
          "metadata": {
            "tags": []
          },
          "execution_count": 85
        }
      ]
    },
    {
      "cell_type": "markdown",
      "metadata": {
        "id": "tUR0Ejzihabp",
        "colab_type": "text"
      },
      "source": [
        "# Pre-trained Transformer Embeddings (BERT)\n",
        "\n",
        "![](https://i.imgur.com/dDd5ZbP.png)"
      ]
    },
    {
      "cell_type": "code",
      "metadata": {
        "id": "uf2K6PozNh0O",
        "colab_type": "code",
        "colab": {
          "base_uri": "https://localhost:8080/",
          "height": 595
        },
        "outputId": "6841e76e-4669-4e47-f9aa-817bf75cfd4d"
      },
      "source": [
        "!pip install transformers"
      ],
      "execution_count": 23,
      "outputs": [
        {
          "output_type": "stream",
          "text": [
            "Collecting transformers\n",
            "\u001b[?25l  Downloading https://files.pythonhosted.org/packages/ae/05/c8c55b600308dc04e95100dc8ad8a244dd800fe75dfafcf1d6348c6f6209/transformers-3.1.0-py3-none-any.whl (884kB)\n",
            "\u001b[K     |████████████████████████████████| 890kB 2.8MB/s \n",
            "\u001b[?25hCollecting sentencepiece!=0.1.92\n",
            "\u001b[?25l  Downloading https://files.pythonhosted.org/packages/d4/a4/d0a884c4300004a78cca907a6ff9a5e9fe4f090f5d95ab341c53d28cbc58/sentencepiece-0.1.91-cp36-cp36m-manylinux1_x86_64.whl (1.1MB)\n",
            "\u001b[K     |████████████████████████████████| 1.1MB 15.7MB/s \n",
            "\u001b[?25hRequirement already satisfied: numpy in /usr/local/lib/python3.6/dist-packages (from transformers) (1.18.5)\n",
            "Requirement already satisfied: packaging in /usr/local/lib/python3.6/dist-packages (from transformers) (20.4)\n",
            "Requirement already satisfied: filelock in /usr/local/lib/python3.6/dist-packages (from transformers) (3.0.12)\n",
            "Collecting tokenizers==0.8.1.rc2\n",
            "\u001b[?25l  Downloading https://files.pythonhosted.org/packages/80/83/8b9fccb9e48eeb575ee19179e2bdde0ee9a1904f97de5f02d19016b8804f/tokenizers-0.8.1rc2-cp36-cp36m-manylinux1_x86_64.whl (3.0MB)\n",
            "\u001b[K     |████████████████████████████████| 3.0MB 21.1MB/s \n",
            "\u001b[?25hCollecting sacremoses\n",
            "\u001b[?25l  Downloading https://files.pythonhosted.org/packages/7d/34/09d19aff26edcc8eb2a01bed8e98f13a1537005d31e95233fd48216eed10/sacremoses-0.0.43.tar.gz (883kB)\n",
            "\u001b[K     |████████████████████████████████| 890kB 33.2MB/s \n",
            "\u001b[?25hRequirement already satisfied: regex!=2019.12.17 in /usr/local/lib/python3.6/dist-packages (from transformers) (2019.12.20)\n",
            "Requirement already satisfied: dataclasses; python_version < \"3.7\" in /usr/local/lib/python3.6/dist-packages (from transformers) (0.7)\n",
            "Requirement already satisfied: tqdm>=4.27 in /usr/local/lib/python3.6/dist-packages (from transformers) (4.41.1)\n",
            "Requirement already satisfied: requests in /usr/local/lib/python3.6/dist-packages (from transformers) (2.23.0)\n",
            "Requirement already satisfied: pyparsing>=2.0.2 in /usr/local/lib/python3.6/dist-packages (from packaging->transformers) (2.4.7)\n",
            "Requirement already satisfied: six in /usr/local/lib/python3.6/dist-packages (from packaging->transformers) (1.15.0)\n",
            "Requirement already satisfied: click in /usr/local/lib/python3.6/dist-packages (from sacremoses->transformers) (7.1.2)\n",
            "Requirement already satisfied: joblib in /usr/local/lib/python3.6/dist-packages (from sacremoses->transformers) (0.16.0)\n",
            "Requirement already satisfied: urllib3!=1.25.0,!=1.25.1,<1.26,>=1.21.1 in /usr/local/lib/python3.6/dist-packages (from requests->transformers) (1.24.3)\n",
            "Requirement already satisfied: chardet<4,>=3.0.2 in /usr/local/lib/python3.6/dist-packages (from requests->transformers) (3.0.4)\n",
            "Requirement already satisfied: certifi>=2017.4.17 in /usr/local/lib/python3.6/dist-packages (from requests->transformers) (2020.6.20)\n",
            "Requirement already satisfied: idna<3,>=2.5 in /usr/local/lib/python3.6/dist-packages (from requests->transformers) (2.10)\n",
            "Building wheels for collected packages: sacremoses\n",
            "  Building wheel for sacremoses (setup.py) ... \u001b[?25l\u001b[?25hdone\n",
            "  Created wheel for sacremoses: filename=sacremoses-0.0.43-cp36-none-any.whl size=893257 sha256=855f135f323282a5399254f5e11bd8dade7e3984e68ca2f0fc00980b4d720435\n",
            "  Stored in directory: /root/.cache/pip/wheels/29/3c/fd/7ce5c3f0666dab31a50123635e6fb5e19ceb42ce38d4e58f45\n",
            "Successfully built sacremoses\n",
            "Installing collected packages: sentencepiece, tokenizers, sacremoses, transformers\n",
            "Successfully installed sacremoses-0.0.43 sentencepiece-0.1.91 tokenizers-0.8.1rc2 transformers-3.1.0\n"
          ],
          "name": "stdout"
        }
      ]
    },
    {
      "cell_type": "markdown",
      "metadata": {
        "id": "QX0FS4LMiF_a",
        "colab_type": "text"
      },
      "source": [
        "# BERT for Feature Extraction\n",
        "\n",
        "![](https://i.imgur.com/4uYtfkQ.png)"
      ]
    },
    {
      "cell_type": "markdown",
      "metadata": {
        "id": "-PZt74Z2j3oN",
        "colab_type": "text"
      },
      "source": [
        "# Load Pre-trained BERT Model"
      ]
    },
    {
      "cell_type": "code",
      "metadata": {
        "id": "WMBDAADGN33s",
        "colab_type": "code",
        "colab": {
          "base_uri": "https://localhost:8080/",
          "height": 249,
          "referenced_widgets": [
            "c20b15af035b4b4fb97a58ce12adddcc",
            "6d82f9fa083542b8bf48462231348485",
            "1d35f68ff0b1444f9ae1fa93c89aaae2",
            "23d9ece5f88a4908bfd158fcdd343663",
            "5cfd3fc0c3e440f7b62063693c987644",
            "4cfcc8503c31480a974e3973a11a97c9",
            "8593a1c67ae64db9b394fc452db66cb4",
            "de4bafcc56594327a2c1eddfb1233ec5",
            "0658c99e1a85404b8e6a5362d794d196",
            "4482dba6377c4c16899d41eb2442870c",
            "56e9d22fdd1748beb2184abee8cccec0",
            "73acdaefc7c74647a4d58826f78b96bb",
            "5c763f11dfe54bdbb2dbb92d440bb95c",
            "76501fe001cf4a2d94f57793223b8321",
            "72a3b7b99705474a87633fd7d9ab1f39",
            "c5db30c2ee9c4ec593a10373c729d9ed",
            "47fb96fdf6624c4ca5ae8993e1da0e14",
            "0506af3bd1b04ce3aa124408aa121351",
            "280bca4d668f46f9b57ad10382134e4e",
            "400b8646b3e545ec866e783161976147",
            "6c5b92e821204106a803d51da93900f6",
            "a5b548bbfb7b4c54adf51fa6b2d14018",
            "4c5542d6b97c40f2a587cb52fab88689",
            "66055fa240b44df981504fc930a836e7"
          ]
        },
        "outputId": "b24bf943-1c4d-46c8-f224-044af38be761"
      },
      "source": [
        "import tensorflow as tf\n",
        "from transformers import BertTokenizer, TFBertModel\n",
        "\n",
        "tokenizer = BertTokenizer.from_pretrained('bert-base-uncased')\n",
        "model = TFBertModel.from_pretrained('bert-base-uncased')"
      ],
      "execution_count": 24,
      "outputs": [
        {
          "output_type": "display_data",
          "data": {
            "application/vnd.jupyter.widget-view+json": {
              "model_id": "c20b15af035b4b4fb97a58ce12adddcc",
              "version_minor": 0,
              "version_major": 2
            },
            "text/plain": [
              "HBox(children=(FloatProgress(value=0.0, description='Downloading', max=231508.0, style=ProgressStyle(descripti…"
            ]
          },
          "metadata": {
            "tags": []
          }
        },
        {
          "output_type": "stream",
          "text": [
            "\n"
          ],
          "name": "stdout"
        },
        {
          "output_type": "display_data",
          "data": {
            "application/vnd.jupyter.widget-view+json": {
              "model_id": "0658c99e1a85404b8e6a5362d794d196",
              "version_minor": 0,
              "version_major": 2
            },
            "text/plain": [
              "HBox(children=(FloatProgress(value=0.0, description='Downloading', max=433.0, style=ProgressStyle(description_…"
            ]
          },
          "metadata": {
            "tags": []
          }
        },
        {
          "output_type": "stream",
          "text": [
            "\n"
          ],
          "name": "stdout"
        },
        {
          "output_type": "display_data",
          "data": {
            "application/vnd.jupyter.widget-view+json": {
              "model_id": "47fb96fdf6624c4ca5ae8993e1da0e14",
              "version_minor": 0,
              "version_major": 2
            },
            "text/plain": [
              "HBox(children=(FloatProgress(value=0.0, description='Downloading', max=536063208.0, style=ProgressStyle(descri…"
            ]
          },
          "metadata": {
            "tags": []
          }
        },
        {
          "output_type": "stream",
          "text": [
            "\n"
          ],
          "name": "stdout"
        },
        {
          "output_type": "stream",
          "text": [
            "Some weights of the model checkpoint at bert-base-uncased were not used when initializing TFBertModel: ['nsp___cls', 'mlm___cls']\n",
            "- This IS expected if you are initializing TFBertModel from the checkpoint of a model trained on another task or with another architecture (e.g. initializing a BertForSequenceClassification model from a BertForPretraining model).\n",
            "- This IS NOT expected if you are initializing TFBertModel from the checkpoint of a model that you expect to be exactly identical (initializing a BertForSequenceClassification model from a BertForSequenceClassification model).\n",
            "All the weights of TFBertModel were initialized from the model checkpoint at bert-base-uncased.\n",
            "If your task is similar to the task the model of the checkpoint was trained on, you can already use TFBertModel for predictions without further training.\n"
          ],
          "name": "stderr"
        }
      ]
    },
    {
      "cell_type": "markdown",
      "metadata": {
        "id": "YD01Cenxj7gS",
        "colab_type": "text"
      },
      "source": [
        "# Sample Encoding and Feature Extraction"
      ]
    },
    {
      "cell_type": "code",
      "metadata": {
        "id": "p768USyXOExG",
        "colab_type": "code",
        "colab": {
          "base_uri": "https://localhost:8080/",
          "height": 34
        },
        "outputId": "9f916608-a9c3-48b0-806f-87bca5956926"
      },
      "source": [
        "token_ids = tokenizer.encode(\"Hello, how are you?\")\n",
        "token_ids"
      ],
      "execution_count": 28,
      "outputs": [
        {
          "output_type": "execute_result",
          "data": {
            "text/plain": [
              "[101, 7592, 1010, 2129, 2024, 2017, 1029, 102]"
            ]
          },
          "metadata": {
            "tags": []
          },
          "execution_count": 28
        }
      ]
    },
    {
      "cell_type": "code",
      "metadata": {
        "id": "1G4OpuJVOMuR",
        "colab_type": "code",
        "colab": {
          "base_uri": "https://localhost:8080/",
          "height": 34
        },
        "outputId": "f910ddb1-a1a5-4df6-fd7b-378198070b95"
      },
      "source": [
        "[\"<\"+tokenizer.decode([item])+\">\" for item in token_ids]"
      ],
      "execution_count": 30,
      "outputs": [
        {
          "output_type": "execute_result",
          "data": {
            "text/plain": [
              "['<[CLS]>', '<hello>', '<,>', '<how>', '<are>', '<you>', '<?>', '<[SEP]>']"
            ]
          },
          "metadata": {
            "tags": []
          },
          "execution_count": 30
        }
      ]
    },
    {
      "cell_type": "code",
      "metadata": {
        "id": "Z0NjpDkSOtAk",
        "colab_type": "code",
        "colab": {
          "base_uri": "https://localhost:8080/",
          "height": 68
        },
        "outputId": "43566abf-1440-4363-dbe1-f4243bf29cff"
      },
      "source": [
        "tf.constant(tokenizer.encode(\"Hello, my dog is cute\"))[None, :]"
      ],
      "execution_count": 31,
      "outputs": [
        {
          "output_type": "execute_result",
          "data": {
            "text/plain": [
              "<tf.Tensor: shape=(1, 8), dtype=int32, numpy=\n",
              "array([[  101,  7592,  1010,  2026,  3899,  2003, 10140,   102]],\n",
              "      dtype=int32)>"
            ]
          },
          "metadata": {
            "tags": []
          },
          "execution_count": 31
        }
      ]
    },
    {
      "cell_type": "code",
      "metadata": {
        "id": "AmgqO25eOu3t",
        "colab_type": "code",
        "colab": {}
      },
      "source": [
        "token_emb, pooled_emb = model(np.array([token_ids]))"
      ],
      "execution_count": 48,
      "outputs": []
    },
    {
      "cell_type": "code",
      "metadata": {
        "id": "FFz--2_yN9eQ",
        "colab_type": "code",
        "colab": {
          "base_uri": "https://localhost:8080/",
          "height": 34
        },
        "outputId": "33a0d323-ff9a-441e-dc26-61a5a375e7b3"
      },
      "source": [
        "token_emb[0].shape, pooled_emb[0].shape"
      ],
      "execution_count": 49,
      "outputs": [
        {
          "output_type": "execute_result",
          "data": {
            "text/plain": [
              "(TensorShape([8, 768]), TensorShape([768]))"
            ]
          },
          "metadata": {
            "tags": []
          },
          "execution_count": 49
        }
      ]
    },
    {
      "cell_type": "markdown",
      "metadata": {
        "id": "PNt6meY3kCkw",
        "colab_type": "text"
      },
      "source": [
        "# BERT Tokenization of Sequences of Text\n",
        "\n",
        "#### Input IDs\n",
        "The input ids are often the only required parameters to be passed to the model as input. They are token indices, numerical representations of tokens building the sequences that will be used as input by the model.\n",
        "\n",
        "<br/>\n",
        "\n",
        "#### Attention mask\n",
        "The attention mask is an optional argument used when batching sequences together. This argument indicates to the model which tokens should be attended to, and which should not.\n",
        "\n",
        "<br/>\n",
        "\n",
        "#### Token Type IDs\n",
        "Some models’ purpose is to do sequence classification or question answering. These require two different sequences to be joined in a single “input_ids” entry, which usually is performed with the help of special tokens, such as the classifier ([CLS]) and separator ([SEP]) tokens. For example, the BERT model builds its two sequence input as such:\n",
        "\n",
        "```\n",
        ">>> # [CLS] SEQUENCE_A [SEP] SEQUENCE_B [SEP]\n",
        "```\n",
        "\n",
        "https://huggingface.co/transformers/glossary.html#token-type-ids"
      ]
    },
    {
      "cell_type": "code",
      "metadata": {
        "id": "KQmF0_RWPazM",
        "colab_type": "code",
        "colab": {
          "base_uri": "https://localhost:8080/",
          "height": 54
        },
        "outputId": "25b20e3e-149e-44d5-9f72-9bb5e9aba508"
      },
      "source": [
        "tokenizer(sentences)"
      ],
      "execution_count": 50,
      "outputs": [
        {
          "output_type": "execute_result",
          "data": {
            "text/plain": [
              "{'input_ids': [[101, 2002, 2003, 3564, 2379, 1996, 2314, 2924, 102], [101, 2002, 3791, 2000, 2131, 2070, 5356, 2013, 1996, 2924, 102], [101, 2002, 2003, 3564, 2379, 1996, 2924, 1997, 2637, 2311, 102]], 'token_type_ids': [[0, 0, 0, 0, 0, 0, 0, 0, 0], [0, 0, 0, 0, 0, 0, 0, 0, 0, 0, 0], [0, 0, 0, 0, 0, 0, 0, 0, 0, 0, 0]], 'attention_mask': [[1, 1, 1, 1, 1, 1, 1, 1, 1], [1, 1, 1, 1, 1, 1, 1, 1, 1, 1, 1], [1, 1, 1, 1, 1, 1, 1, 1, 1, 1, 1]]}"
            ]
          },
          "metadata": {
            "tags": []
          },
          "execution_count": 50
        }
      ]
    },
    {
      "cell_type": "code",
      "metadata": {
        "id": "ORdRwNMePklH",
        "colab_type": "code",
        "colab": {
          "base_uri": "https://localhost:8080/",
          "height": 85
        },
        "outputId": "e04fcb6c-3b85-448e-8814-84ca92ac4e63"
      },
      "source": [
        "bert_token_ids = tokenizer(sentences)['input_ids']\n",
        "bert_token_ids"
      ],
      "execution_count": 87,
      "outputs": [
        {
          "output_type": "execute_result",
          "data": {
            "text/plain": [
              "[[101, 2002, 2003, 3564, 2379, 1996, 2314, 2924, 102],\n",
              " [101, 2002, 2003, 3564, 1999, 1996, 2924, 2000, 2131, 2070, 5356, 102],\n",
              " [101, 1996, 10777, 2003, 3564, 2379, 1996, 2924, 1997, 1996, 2314, 102],\n",
              " [101, 1996, 2924, 2003, 2701, 2061, 2002, 3685, 2131, 2151, 2769, 2651, 102]]"
            ]
          },
          "metadata": {
            "tags": []
          },
          "execution_count": 87
        }
      ]
    },
    {
      "cell_type": "markdown",
      "metadata": {
        "id": "Y_ES577ulgJK",
        "colab_type": "text"
      },
      "source": [
        "# Types of BERT Embeddings\n",
        "\n",
        "There are mainly two types of embeddings we can get from BERT\n",
        "\n",
        "1. Embeddings of each token (which we can combine together using a strategy e.g mean later on)\n",
        "2. Overall pooled embedding of a fixed 1-D Vector (output of the first i.e [CLS] token from the top layer)"
      ]
    },
    {
      "cell_type": "markdown",
      "metadata": {
        "id": "sOnZaGYhl5hJ",
        "colab_type": "text"
      },
      "source": [
        "## Pooled Embedding\n",
        "\n",
        "BERT encoder produces a sequence of hidden states. For classification tasks, this sequence ultimately needs to be reduced to a single vector. There are multiple ways of converting this sequence to a single vector representation of a sentence. One is max/mean pooling. Another is applying attention. The authors, however, opt to go with a much simpler method: simply taking the hidden state corresponding to the first token.\n",
        "\n",
        "To make this pooling scheme work, BERT prepends a [CLS] token (short for \"classification\") to the start of each sentence (this is essentially like a start-of-sentence token).\n",
        "\n",
        "![](https://i.imgur.com/LODFglb.png)\n",
        "\n",
        "[Source](https://mlexplained.com/2019/01/07/paper-dissected-bert-pre-training-of-deep-bidirectional-transformers-for-language-understanding-explained/)\n",
        "\n",
        "\n",
        "__If you really want to dive into the details, you can check the source code of BERT in [these lines here](https://github.com/google-research/bert/blob/cc7051dc592802f501e8a6f71f8fb3cf9de95dc9/modeling.py#L224-L232) which show how this happens__"
      ]
    },
    {
      "cell_type": "markdown",
      "metadata": {
        "id": "0VDgir0imd7N",
        "colab_type": "text"
      },
      "source": [
        "## Token Embeddings\n",
        "\n",
        "We can get the 1-D Embeddings for each and every token in our sentences. Typically this can be visualized as follows.\n",
        "\n",
        "![](https://i.imgur.com/ckzQGKC.png)\n",
        "\n",
        "[Source](https://medium.com/@_init_/why-bert-has-3-embedding-layers-and-their-implementation-details-9c261108e28a)\n",
        "\n",
        "We can average out these embeddings to get a document embedding. There are other better strategies too."
      ]
    },
    {
      "cell_type": "code",
      "metadata": {
        "id": "1L5heZzlPnIx",
        "colab_type": "code",
        "colab": {}
      },
      "source": [
        "token_emb = np.array([model(np.array([tokens]))[0] for tokens in bert_token_ids])\n",
        "pooled_emb = np.array([model(np.array([tokens]))[1] for tokens in bert_token_ids])"
      ],
      "execution_count": 88,
      "outputs": []
    },
    {
      "cell_type": "code",
      "metadata": {
        "id": "yFbirXq1RzOa",
        "colab_type": "code",
        "colab": {
          "base_uri": "https://localhost:8080/",
          "height": 34
        },
        "outputId": "2a8b38aa-42e9-4506-e2cf-9db1c9c67f6f"
      },
      "source": [
        "pooled_emb = np.array([item[0] for item in pooled_emb])\n",
        "pooled_emb.shape"
      ],
      "execution_count": 89,
      "outputs": [
        {
          "output_type": "execute_result",
          "data": {
            "text/plain": [
              "(4, 768)"
            ]
          },
          "metadata": {
            "tags": []
          },
          "execution_count": 89
        }
      ]
    },
    {
      "cell_type": "markdown",
      "metadata": {
        "id": "yZXwXH6_m61X",
        "colab_type": "text"
      },
      "source": [
        "# Semantic Similarity based on Pooled BERT Embeddings"
      ]
    },
    {
      "cell_type": "code",
      "metadata": {
        "id": "qbZ2xgR9VAog",
        "colab_type": "code",
        "colab": {
          "base_uri": "https://localhost:8080/",
          "height": 85
        },
        "outputId": "e8373ea5-1503-4cec-c214-46d28b56fd51"
      },
      "source": [
        "sentences"
      ],
      "execution_count": 91,
      "outputs": [
        {
          "output_type": "execute_result",
          "data": {
            "text/plain": [
              "['He is sitting near the river bank',\n",
              " 'He is sitting in the bank to get some cash',\n",
              " 'The elephant is sitting near the bank of the river',\n",
              " 'The bank is closed so he cannot get any money today']"
            ]
          },
          "metadata": {
            "tags": []
          },
          "execution_count": 91
        }
      ]
    },
    {
      "cell_type": "code",
      "metadata": {
        "id": "UBzY643ySkEH",
        "colab_type": "code",
        "colab": {
          "base_uri": "https://localhost:8080/",
          "height": 173
        },
        "outputId": "14c96a2b-af38-46ce-8f1c-413a05c70be9"
      },
      "source": [
        "similarity_matrix = cosine_similarity(pooled_emb)\n",
        "similarity_df = pd.DataFrame(similarity_matrix)\n",
        "similarity_df"
      ],
      "execution_count": 90,
      "outputs": [
        {
          "output_type": "execute_result",
          "data": {
            "text/html": [
              "<div>\n",
              "<style scoped>\n",
              "    .dataframe tbody tr th:only-of-type {\n",
              "        vertical-align: middle;\n",
              "    }\n",
              "\n",
              "    .dataframe tbody tr th {\n",
              "        vertical-align: top;\n",
              "    }\n",
              "\n",
              "    .dataframe thead th {\n",
              "        text-align: right;\n",
              "    }\n",
              "</style>\n",
              "<table border=\"1\" class=\"dataframe\">\n",
              "  <thead>\n",
              "    <tr style=\"text-align: right;\">\n",
              "      <th></th>\n",
              "      <th>0</th>\n",
              "      <th>1</th>\n",
              "      <th>2</th>\n",
              "      <th>3</th>\n",
              "    </tr>\n",
              "  </thead>\n",
              "  <tbody>\n",
              "    <tr>\n",
              "      <th>0</th>\n",
              "      <td>1.000000</td>\n",
              "      <td>0.756986</td>\n",
              "      <td>0.932169</td>\n",
              "      <td>0.947001</td>\n",
              "    </tr>\n",
              "    <tr>\n",
              "      <th>1</th>\n",
              "      <td>0.756986</td>\n",
              "      <td>1.000000</td>\n",
              "      <td>0.895952</td>\n",
              "      <td>0.893017</td>\n",
              "    </tr>\n",
              "    <tr>\n",
              "      <th>2</th>\n",
              "      <td>0.932169</td>\n",
              "      <td>0.895952</td>\n",
              "      <td>1.000000</td>\n",
              "      <td>0.972800</td>\n",
              "    </tr>\n",
              "    <tr>\n",
              "      <th>3</th>\n",
              "      <td>0.947001</td>\n",
              "      <td>0.893017</td>\n",
              "      <td>0.972800</td>\n",
              "      <td>1.000000</td>\n",
              "    </tr>\n",
              "  </tbody>\n",
              "</table>\n",
              "</div>"
            ],
            "text/plain": [
              "          0         1         2         3\n",
              "0  1.000000  0.756986  0.932169  0.947001\n",
              "1  0.756986  1.000000  0.895952  0.893017\n",
              "2  0.932169  0.895952  1.000000  0.972800\n",
              "3  0.947001  0.893017  0.972800  1.000000"
            ]
          },
          "metadata": {
            "tags": []
          },
          "execution_count": 90
        }
      ]
    },
    {
      "cell_type": "markdown",
      "metadata": {
        "id": "Di90gFzGnBIw",
        "colab_type": "text"
      },
      "source": [
        "# Semantic Similarity based on Averaged BERT Token Embeddings"
      ]
    },
    {
      "cell_type": "code",
      "metadata": {
        "id": "d_-Cbxl1nOn8",
        "colab_type": "code",
        "colab": {
          "base_uri": "https://localhost:8080/",
          "height": 85
        },
        "outputId": "2667cd6c-d657-41f9-eb4e-647814b81f85"
      },
      "source": [
        "sentences"
      ],
      "execution_count": 157,
      "outputs": [
        {
          "output_type": "execute_result",
          "data": {
            "text/plain": [
              "['He is sitting near the river bank',\n",
              " 'He is sitting in the bank to get some cash',\n",
              " 'The elephant is sitting near the bank of the river',\n",
              " 'The bank is closed so he cannot get any money today']"
            ]
          },
          "metadata": {
            "tags": []
          },
          "execution_count": 157
        }
      ]
    },
    {
      "cell_type": "code",
      "metadata": {
        "id": "tJrvg7J0SmzN",
        "colab_type": "code",
        "colab": {
          "base_uri": "https://localhost:8080/",
          "height": 34
        },
        "outputId": "17e98c1d-e8ec-489b-8907-426eac208d31"
      },
      "source": [
        "token_emb_flat = np.array([np.mean(item[0], axis=0) for item in token_emb])\n",
        "token_emb_flat.shape"
      ],
      "execution_count": 92,
      "outputs": [
        {
          "output_type": "execute_result",
          "data": {
            "text/plain": [
              "(4, 768)"
            ]
          },
          "metadata": {
            "tags": []
          },
          "execution_count": 92
        }
      ]
    },
    {
      "cell_type": "code",
      "metadata": {
        "id": "wFSOGRClTMjq",
        "colab_type": "code",
        "colab": {
          "base_uri": "https://localhost:8080/",
          "height": 173
        },
        "outputId": "a43988b4-74e5-454a-e3c6-33db5c4e3ab6"
      },
      "source": [
        "similarity_matrix = cosine_similarity(token_emb_flat)\n",
        "similarity_df = pd.DataFrame(similarity_matrix)\n",
        "similarity_df"
      ],
      "execution_count": 93,
      "outputs": [
        {
          "output_type": "execute_result",
          "data": {
            "text/html": [
              "<div>\n",
              "<style scoped>\n",
              "    .dataframe tbody tr th:only-of-type {\n",
              "        vertical-align: middle;\n",
              "    }\n",
              "\n",
              "    .dataframe tbody tr th {\n",
              "        vertical-align: top;\n",
              "    }\n",
              "\n",
              "    .dataframe thead th {\n",
              "        text-align: right;\n",
              "    }\n",
              "</style>\n",
              "<table border=\"1\" class=\"dataframe\">\n",
              "  <thead>\n",
              "    <tr style=\"text-align: right;\">\n",
              "      <th></th>\n",
              "      <th>0</th>\n",
              "      <th>1</th>\n",
              "      <th>2</th>\n",
              "      <th>3</th>\n",
              "    </tr>\n",
              "  </thead>\n",
              "  <tbody>\n",
              "    <tr>\n",
              "      <th>0</th>\n",
              "      <td>1.000000</td>\n",
              "      <td>0.753337</td>\n",
              "      <td>0.829573</td>\n",
              "      <td>0.716291</td>\n",
              "    </tr>\n",
              "    <tr>\n",
              "      <th>1</th>\n",
              "      <td>0.753337</td>\n",
              "      <td>1.000000</td>\n",
              "      <td>0.674486</td>\n",
              "      <td>0.857112</td>\n",
              "    </tr>\n",
              "    <tr>\n",
              "      <th>2</th>\n",
              "      <td>0.829573</td>\n",
              "      <td>0.674486</td>\n",
              "      <td>1.000000</td>\n",
              "      <td>0.686655</td>\n",
              "    </tr>\n",
              "    <tr>\n",
              "      <th>3</th>\n",
              "      <td>0.716291</td>\n",
              "      <td>0.857112</td>\n",
              "      <td>0.686655</td>\n",
              "      <td>1.000000</td>\n",
              "    </tr>\n",
              "  </tbody>\n",
              "</table>\n",
              "</div>"
            ],
            "text/plain": [
              "          0         1         2         3\n",
              "0  1.000000  0.753337  0.829573  0.716291\n",
              "1  0.753337  1.000000  0.674486  0.857112\n",
              "2  0.829573  0.674486  1.000000  0.686655\n",
              "3  0.716291  0.857112  0.686655  1.000000"
            ]
          },
          "metadata": {
            "tags": []
          },
          "execution_count": 93
        }
      ]
    },
    {
      "cell_type": "markdown",
      "metadata": {
        "id": "x26l6_VpnSIn",
        "colab_type": "text"
      },
      "source": [
        "# Fun with Embeddings: Simple Search Engine!\n",
        "\n",
        "Let's create a corpus of documents which will be our source on which we will run text searches"
      ]
    },
    {
      "cell_type": "code",
      "metadata": {
        "id": "IfvzmamjTN71",
        "colab_type": "code",
        "colab": {}
      },
      "source": [
        "corpus = np.array(['A man is eating food.',\n",
        "          'A man is eating a piece of bread.',\n",
        "          'The girl is carrying a baby.',\n",
        "          'A man is riding a horse.',\n",
        "          'A woman is playing violin.',\n",
        "          'Two men pushed carts through the woods.',\n",
        "          'A man is riding a white horse on an enclosed ground.',\n",
        "          'A monkey is playing drums.',\n",
        "          'A cheetah is running behind its prey.'\n",
        "          ])"
      ],
      "execution_count": 96,
      "outputs": []
    },
    {
      "cell_type": "markdown",
      "metadata": {
        "id": "u1Yp-Yq6nc4w",
        "colab_type": "text"
      },
      "source": [
        "## Similar document search using Word2Vec Embeddings"
      ]
    },
    {
      "cell_type": "code",
      "metadata": {
        "id": "OqAKhAECWHM8",
        "colab_type": "code",
        "colab": {}
      },
      "source": [
        "w2v_vectors = averaged_word_vectorizer(corpus, model=w2v_model, num_features=300)"
      ],
      "execution_count": 97,
      "outputs": []
    },
    {
      "cell_type": "code",
      "metadata": {
        "id": "ZlFn2z5Qat_H",
        "colab_type": "code",
        "colab": {}
      },
      "source": [
        "def get_w2v_similar_docs(new_sentence, w2v_model, num_features, corpus_vectors):\n",
        "  ns_w2v = averaged_word_vectorizer([new_sentence], model=w2v_model, num_features=num_features)\n",
        "  cs = cosine_similarity(ns_w2v, corpus_vectors)\n",
        "  top2_idx = np.argsort(-cs)[0][:2]\n",
        "  print('Top 2 most similar to:', new_sentence)\n",
        "  print(corpus[top2_idx])"
      ],
      "execution_count": 145,
      "outputs": []
    },
    {
      "cell_type": "code",
      "metadata": {
        "id": "di-24bL2WMM4",
        "colab_type": "code",
        "colab": {
          "base_uri": "https://localhost:8080/",
          "height": 51
        },
        "outputId": "76e664a2-2cfb-43ba-a582-d295aad8f5e8"
      },
      "source": [
        "new_sentence = 'A man is eating a pasta'\n",
        "get_w2v_similar_docs(new_sentence, w2v_model, num_features=300, corpus_vectors=w2v_vectors)"
      ],
      "execution_count": 146,
      "outputs": [
        {
          "output_type": "stream",
          "text": [
            "Top 2 most similar to: A man is eating a pasta\n",
            "['A man is eating food.' 'A cheetah is running behind its prey.']\n"
          ],
          "name": "stdout"
        }
      ]
    },
    {
      "cell_type": "code",
      "metadata": {
        "id": "jR5zaMwCWcYV",
        "colab_type": "code",
        "colab": {
          "base_uri": "https://localhost:8080/",
          "height": 68
        },
        "outputId": "f9b358c6-ea04-48b4-ff0c-39e11cbe76be"
      },
      "source": [
        "new_sentence = 'Someone in a gorilla costume is playing a set of drums.'\n",
        "get_w2v_similar_docs(new_sentence, w2v_model, num_features=300, corpus_vectors=w2v_vectors)"
      ],
      "execution_count": 147,
      "outputs": [
        {
          "output_type": "stream",
          "text": [
            "Top 2 most similar to: Someone in a gorilla costume is playing a set of drums.\n",
            "['A man is riding a white horse on an enclosed ground.'\n",
            " 'A man is eating food.']\n"
          ],
          "name": "stdout"
        }
      ]
    },
    {
      "cell_type": "code",
      "metadata": {
        "id": "PTp4iyBkW9Ef",
        "colab_type": "code",
        "colab": {
          "base_uri": "https://localhost:8080/",
          "height": 68
        },
        "outputId": "7a4bfdf5-8e37-4aa4-f215-16946f48df02"
      },
      "source": [
        "new_sentence = 'A cheetah chases prey on across a field.'\n",
        "get_w2v_similar_docs(new_sentence, w2v_model, num_features=300, corpus_vectors=w2v_vectors)"
      ],
      "execution_count": 148,
      "outputs": [
        {
          "output_type": "stream",
          "text": [
            "Top 2 most similar to: A cheetah chases prey on across a field.\n",
            "['A cheetah is running behind its prey.'\n",
            " 'A man is eating a piece of bread.']\n"
          ],
          "name": "stdout"
        }
      ]
    },
    {
      "cell_type": "markdown",
      "metadata": {
        "id": "WTlvk0-9nkEn",
        "colab_type": "text"
      },
      "source": [
        "## Similar document search using BERT Embeddings"
      ]
    },
    {
      "cell_type": "code",
      "metadata": {
        "id": "231IHB_TXRZt",
        "colab_type": "code",
        "colab": {}
      },
      "source": [
        "bert_token_ids = tokenizer(list(corpus))['input_ids']\n",
        "token_emb = np.array([model(np.array([tokens]))[0] for tokens in bert_token_ids])\n",
        "pooled_emb = np.array([model(np.array([tokens]))[1][0] for tokens in bert_token_ids])\n",
        "token_emb_flat = np.array([np.mean(item[0], axis=0) for item in token_emb])"
      ],
      "execution_count": 149,
      "outputs": []
    },
    {
      "cell_type": "code",
      "metadata": {
        "id": "DzPo1S9cbRIz",
        "colab_type": "code",
        "colab": {}
      },
      "source": [
        "def get_bert_similar_docs(new_sentence, bert_tokenizer, bert_model, pooled_corpus_vectors, token_corpus_vectors_flat):\n",
        "  tokens = bert_tokenizer([new_sentence])['input_ids']\n",
        "  token_ns_emb = np.array([bert_model(np.array([token]))[0] for token in tokens])\n",
        "  token_ns_emb_flat = np.array([np.mean(item[0], axis=0) for item in token_ns_emb])\n",
        "  pooled_ns_emb = np.array([bert_model(np.array([token]))[1][0] for token in tokens])\n",
        "\n",
        "  cs = cosine_similarity(pooled_ns_emb, pooled_corpus_vectors)\n",
        "  top2_idx = np.argsort(-cs)[0][:2]\n",
        "  print('[Pooled Embedding] Top 2 most similar to:', new_sentence)\n",
        "  print(corpus[top2_idx])\n",
        "  print()\n",
        "\n",
        "  cs = cosine_similarity(token_ns_emb_flat, token_corpus_vectors_flat)\n",
        "  top2_idx = np.argsort(-cs)[0][:2]\n",
        "  print('[Avg Token Embeddings] Top 2 most similar to:', new_sentence)\n",
        "  print(corpus[top2_idx])"
      ],
      "execution_count": 151,
      "outputs": []
    },
    {
      "cell_type": "code",
      "metadata": {
        "id": "781oO6m5XhPx",
        "colab_type": "code",
        "colab": {
          "base_uri": "https://localhost:8080/",
          "height": 102
        },
        "outputId": "39417933-bf3a-4a1b-d1ea-94850940f5a9"
      },
      "source": [
        "new_sentence = 'A man is eating a pasta'\n",
        "get_bert_similar_docs(new_sentence, \n",
        "                      bert_tokenizer=tokenizer, \n",
        "                      bert_model=model, \n",
        "                      pooled_corpus_vectors=pooled_emb, \n",
        "                      token_corpus_vectors_flat=token_emb_flat)"
      ],
      "execution_count": 152,
      "outputs": [
        {
          "output_type": "stream",
          "text": [
            "[Pooled Embedding] Top 2 most similar to: A man is eating a pasta\n",
            "['A cheetah is running behind its prey.' 'A man is eating food.']\n",
            "\n",
            "[Avg Token Embeddings] Top 2 most similar to: A man is eating a pasta\n",
            "['A man is eating food.' 'A man is eating a piece of bread.']\n"
          ],
          "name": "stdout"
        }
      ]
    },
    {
      "cell_type": "code",
      "metadata": {
        "id": "_9l0EBlUX4P0",
        "colab_type": "code",
        "colab": {
          "base_uri": "https://localhost:8080/",
          "height": 102
        },
        "outputId": "ebfda7eb-27ce-4fcb-ffbf-3270013bc167"
      },
      "source": [
        "new_sentence = 'Someone in a gorilla costume is playing a set of drums.'\n",
        "get_bert_similar_docs(new_sentence, \n",
        "                      bert_tokenizer=tokenizer, \n",
        "                      bert_model=model, \n",
        "                      pooled_corpus_vectors=pooled_emb, \n",
        "                      token_corpus_vectors_flat=token_emb_flat)"
      ],
      "execution_count": 154,
      "outputs": [
        {
          "output_type": "stream",
          "text": [
            "[Pooled Embedding] Top 2 most similar to: Someone in a gorilla costume is playing a set of drums.\n",
            "['A monkey is playing drums.' 'A man is riding a horse.']\n",
            "\n",
            "[Avg Token Embeddings] Top 2 most similar to: Someone in a gorilla costume is playing a set of drums.\n",
            "['A monkey is playing drums.' 'A woman is playing violin.']\n"
          ],
          "name": "stdout"
        }
      ]
    },
    {
      "cell_type": "code",
      "metadata": {
        "id": "IGqAy8JEX4wb",
        "colab_type": "code",
        "colab": {
          "base_uri": "https://localhost:8080/",
          "height": 136
        },
        "outputId": "680fd842-15a6-45ae-a037-802d893adbfa"
      },
      "source": [
        "new_sentence = 'A cheetah chases prey on across a field.'\n",
        "get_bert_similar_docs(new_sentence, \n",
        "                      bert_tokenizer=tokenizer, \n",
        "                      bert_model=model, \n",
        "                      pooled_corpus_vectors=pooled_emb, \n",
        "                      token_corpus_vectors_flat=token_emb_flat)"
      ],
      "execution_count": 155,
      "outputs": [
        {
          "output_type": "stream",
          "text": [
            "[Pooled Embedding] Top 2 most similar to: A cheetah chases prey on across a field.\n",
            "['A man is riding a white horse on an enclosed ground.'\n",
            " 'A man is riding a horse.']\n",
            "\n",
            "[Avg Token Embeddings] Top 2 most similar to: A cheetah chases prey on across a field.\n",
            "['A cheetah is running behind its prey.'\n",
            " 'A man is riding a white horse on an enclosed ground.']\n"
          ],
          "name": "stdout"
        }
      ]
    }
  ]
}