{
 "cells": [
  {
   "cell_type": "markdown",
   "metadata": {
    "colab_type": "text",
    "id": "5CQ2c3-7HIBK"
   },
   "source": [
    "# Document Summarization\n",
    "\n",
    "The idea of document summarization is a\n",
    "bit different from keyphrase extraction or topic modeling. In this case, the end result\n",
    "is still in the form of some document, but with a few sentences based on the length we\n",
    "might want the summary to be. This is similar to an abstract or an executive summary\n",
    "in a research paper. The main objective of automated document summarization is\n",
    "to perform this summarization without involving human input, except for running\n",
    "computer programs. Mathematical and statistical models help in building and\n",
    "automating the task of summarizing documents by observing their content and context.\n",
    "\n",
    "There are two broad approaches to document summarization using automated\n",
    "techniques. They are described as follows:\n",
    "- __Extraction-based techniques:__ These methods use mathematical\n",
    "and statistical concepts like SVD to extract some key subset of the\n",
    "content from the original document such that this subset of content\n",
    "contains the core information and acts as the focal point of the entire\n",
    "document. This content can be words, phrases, or even sentences.\n",
    "The end result from this approach is a short executive summary of a\n",
    "couple of lines extracted from the original document. No new content\n",
    "is generated in this technique, hence the name extraction-based.\n",
    "- __Abstraction-based techniques:__ These methods are more complex\n",
    "and sophisticated. They leverage language semantics to create\n",
    "representations and use natural language generation (NLG)\n",
    "techniques where the machine uses knowledge bases and semantic\n",
    "representations to generate text on its own and create summaries\n",
    "just like a human would write them. Thanks to deep learning, we can\n",
    "implement these techniques easily but they require a lot of data and\n",
    "compute.\n",
    "\n",
    "We will cover extraction based methods here due to constraints of needed a lot of data + compute for abstraction based methods. But you can leverage the seq2seq models you learnt in language translation on an appropriate dataset to build deep learning based abstractive summarizers"
   ]
  },
  {
   "cell_type": "markdown",
   "metadata": {
    "colab_type": "text",
    "id": "h_YoZoUprl0O"
   },
   "source": [
    "# Extractive Summarization with Transformers\n",
    "\n",
    "This method utilizes the HuggingFace transformers library to run extractive summarizations. \n",
    "\n",
    "This works by first embedding the sentences, then running a clustering algorithm, finding the sentences that are closest to the cluster's centroids. \n",
    "\n",
    "This library also uses coreference techniques, utilizing the https://github.com/huggingface/neuralcoref library to resolve words in summaries that need more context. The greedyness of the neuralcoref library can be tweaked in the CoreferenceHandler class.\n",
    "\n",
    "__Library Repo:__ https://github.com/dmmiller612/bert-extractive-summarizer\n",
    "__Paper:__ https://arxiv.org/abs/1906.04165\n",
    "\n",
    "\n",
    "### Transformer Training Process (Already Pre-trained)\n",
    "\n",
    "![](https://i.imgur.com/RMuSvTL.png)\n",
    "\n",
    "\n",
    "### What is a Transformer?\n",
    "\n",
    "The Transformer, a model architecture eschewing recurrence and instead relying entirely on an attention mechanism to draw global dependencies between input and output. It is a stacked layer of encoders and decoders.\n",
    "\n",
    "![](https://i.imgur.com/e0XratS.png)\n",
    "\n",
    "__Source:__ http://jalammar.github.io/illustrated-transformer/\n",
    "\n",
    "### Transformer Architecture\n",
    "\n",
    "Stacked encoder - decoder architecture with multi-head attention blocks\n",
    "\n",
    "![](https://i.imgur.com/LUFXrLM.png)\n",
    "\n",
    "__Source:__ https://arxiv.org/abs/1706.03762"
   ]
  },
  {
   "cell_type": "code",
   "execution_count": 1,
   "metadata": {
    "colab": {
     "base_uri": "https://localhost:8080/",
     "height": 102
    },
    "colab_type": "code",
    "id": "px3LKHIzzCcK",
    "outputId": "3e385bbe-f543-4405-8f15-218707a4b255"
   },
   "outputs": [
    {
     "name": "stdout",
     "output_type": "stream",
     "text": [
      "[nltk_data] Downloading package punkt to /root/nltk_data...\n",
      "[nltk_data]   Unzipping tokenizers/punkt.zip.\n",
      "[nltk_data] Downloading package stopwords to /root/nltk_data...\n",
      "[nltk_data]   Unzipping corpora/stopwords.zip.\n"
     ]
    },
    {
     "data": {
      "text/plain": [
       "True"
      ]
     },
     "execution_count": 1,
     "metadata": {
      "tags": []
     },
     "output_type": "execute_result"
    }
   ],
   "source": [
    "import nltk\n",
    "nltk.download('punkt')\n",
    "nltk.download('stopwords')"
   ]
  },
  {
   "cell_type": "code",
   "execution_count": 49,
   "metadata": {
    "colab": {},
    "colab_type": "code",
    "id": "0N3dQHLozC3p"
   },
   "outputs": [],
   "source": [
    "DOCUMENT = \"\"\"\n",
    "Data is foundational to business intelligence, and training data size is one of the main determinants of your model’s predictive power. \n",
    "It is like a lever you always have when you are driving a car. So more data leads to more predictive power. \n",
    "For sophisticated models such as gradient boosted trees and random forests, quality data and feature engineering reduce the errors drastically.\n",
    "But simply having more data is not useful. The saying that businesses need a lot of data is a myth. \n",
    "Large amounts of data afford simple models much more power; if you have 1 trillion data points, outliers are easier to classify and the underlying distribution of that data is clearer. \n",
    "If you have 10 data points, this is probably not the case. You’ll have to perform more sophisticated normalization and transformation routines on the data before it is useful.\n",
    "\n",
    "The big data paradigm is the assumption that big data is a substitute for conventional data collection and analysis. \n",
    "In other words, it’s the belief (and overconfidence) that huge amounts of data is the answer to everything and that we can just train machines to solve problems automatically. \n",
    "Data by itself is not a panacea and we cannot ignore traditional analysis.\n",
    "\n",
    "Researchers have demonstrated that massive data can lead to lower estimation variance and hence better predictive performance. \n",
    "More data increases the probability that it contains useful information, which is advantageous. \n",
    "\n",
    "However, not all data is always helpful. \n",
    "A good example is clickstream data utilised by e-com companies where a user’s actions are monitored and analysed. \n",
    "Such data includes parts of the page that are clicked, keywords, cookie data, cursor positions and web page components that are visible. \n",
    "This is a lot of data coming in rapidly, but only a portion is valuable in predicting a user’s characteristics and preferences. \n",
    "The rest is noise. When data are taken from human actions, noise rates usually are high due to the limitations enforced by behavioural tendencies. \n",
    "What you ideally need is a set of data points that outline the range of variations with each class that one would like to train the ML system with. \n",
    "\n",
    "Having more data certainly increases the accuracy of your model, but there comes a stage where even adding infinite amounts of data cannot improve any more accuracy. \n",
    "This is what we called the natural noise of the data. When you work with different ML models, we see that certain features of the data are spread on a given variance, which is a probabilistic distribution. \n",
    "Dipanjan Sarkar, Data Science Lead at Applied Materials explains, “The standard principle in data science is that more training data leads to better machine learning models. \n",
    "However what we need to remember is the ‘Garbage In Garbage Out’ principle! It is not just big data, but good (quality) data which helps us build better performing ML models. \n",
    "If we have a huge data repository with features which are too noisy or not having enough variation to capture critical patterns in the data, any ML models will effectively be useless regardless of the data volume.”\n",
    "\n",
    "According to research, if the model is tuned with too much to the data, then it could essentially memorise the data, and that causes model overfitting, which causes high error rates for unseen data. \n",
    "If we are overfitting, we get wrong predictions and lose the focus on what’s actually important. \n",
    "An overfitting model implies that you have low bias and high variance and more data is not going to solve your problem. \n",
    "By placing too much emphasis on each data point, data scientists have to deal with a lot of noise and, therefore, lose sight of what’s really important. \n",
    "So adding more data points to the training set will not improve the model performance. \n",
    "\n",
    "We need big data mostly when you have a ton of features, like image processing, where there is a need for ample data sources to train a model or language models for that matter. \n",
    "According to experts, you have to find the right parameters for fancy models that generally lead to big datasets to get high accuracy. \n",
    "There are many knobs, and you have to try enough knobs in the right parts of the space that contributes to reduced training error. \n",
    "\n",
    "“There are no shortcuts or direct mathematical formulae to say if we have enough data. \n",
    "The only way would be to actually get out there and build relevant ML models on the data and validate based on performance metrics (which are in-line with the business metrics & KPIs) to see if we are getting a satisfactory performance,” Dipanjan further says.\n",
    "\n",
    "More data in principle is good. \n",
    "But actually, it matters to have the right kind of data. \n",
    "Sampling training data from your actual target domain always matters. \n",
    "Even within a domain, it matters how you sample. \n",
    "So modelling choices and data sampling approach jointly matter more than just data. \n",
    "Samples must represent real-world example data that have a good chance of being encountered in the future.\n",
    "\n",
    "The main reason why data is desirable is that it lends more information about the dataset and thus becomes valuable. \n",
    "However, if the newly created data resemble the existing data, or simply repeated data, then there is no added value of having more data. \n",
    "For example, in an online review dataset, there is not much of a lift from the large dataset because you probably do not have a lot of variables and thousands of user reviews get you the same sample.\n",
    "\n",
    "From a pure regression standpoint and if you have a true sample, data size beyond a point does not matter. \n",
    "There is diminishing value in adding observations from a Mean Square Error standpoint, a standard way to measure the error of a model in predicting quantitative data. \n",
    "\n",
    "It is explicit from previous work that more data do not surely lead to greater predictive performance. \n",
    "It has been argued that sampling (decreasing the number of instances) or transformation of the data to lower the dimensional spaces (lessening the number of features) is beneficial. \n",
    "In fact, not all areas of machine learning are associated with big data. In fact, one of the most exciting and recent areas is related to making sense out of small data.\n",
    "\n",
    "When we think of advanced models, we assume that advanced machine learning models, everything has to be learned from the data. \n",
    "There are several use cases where few data points have worked equally well using techniques like simulation, etc., semi-supervised learning, etc.  \n",
    "\n",
    "Practically, there is research on neural network architectures that do reasonably well with just a thousand data points. \n",
    "They are not fancy but better than some machine learning methods if you have the right problem type. \n",
    "“With the advent of innovative methodologies like transfer learning, unsupervised, self-supervised and semi-supervised learning, we are seeing new areas of research being actually adapted in the industry to build better quality ML models with less (labeled) data,” tells Dipanjan Sarkar.\n",
    "There is also extensive work going on in terms of techniques that reduce the requirements for data. \n",
    "They are working on building ways to pull in human experience and knowledge rather than trying to discover everything from the raw data itself.  \n",
    "Organisations are focusing on building hybrid machine learning systems that combine old fashioned rule-based systems with the underlying neural architectures, and have a bi-directional flow of information that learn from logical statements. \n",
    "\n",
    "For smaller firms, fewer datasets would be equally desirable or preferable to more data, and there are situations where more data present expenses that are not justified by the added value of the additional data. \n",
    "Data storage is an expense, and analysts who can work with datasets that are too large to fit in memory, with the appropriate tools, are more expensive than those who cannot. \n",
    "\n",
    "A collection of a small dataset is good enough for answering the question of interest, and there is no incentive to collect additional data considering the practical time and financial burdens it may create. \n",
    "Hacking and privacy breaches are other possibilities with storing too much data which demands the efforts of a malicious entity to produce adverse consequences. \n",
    "There are also examples where a company may breach a privacy regulation in its quest to acquire a large dataset.\n",
    "\"\"\""
   ]
  },
  {
   "cell_type": "code",
   "execution_count": 50,
   "metadata": {
    "colab": {},
    "colab_type": "code",
    "id": "w0HDMhckzC-d"
   },
   "outputs": [],
   "source": [
    "import re\n",
    "\n",
    "DOCUMENT = re.sub(r'\\n|\\r', ' ', DOCUMENT)\n",
    "DOCUMENT = re.sub(r' +', ' ', DOCUMENT)\n",
    "DOCUMENT = DOCUMENT.strip()"
   ]
  },
  {
   "cell_type": "code",
   "execution_count": 4,
   "metadata": {
    "colab": {
     "base_uri": "https://localhost:8080/",
     "height": 1000
    },
    "colab_type": "code",
    "id": "6aLmYA6rSYJ8",
    "outputId": "bcc371a3-f901-407e-b0aa-e0a114485df4"
   },
   "outputs": [
    {
     "name": "stdout",
     "output_type": "stream",
     "text": [
      "Collecting transformers==2.11.0\n",
      "\u001b[?25l  Downloading https://files.pythonhosted.org/packages/48/35/ad2c5b1b8f99feaaf9d7cdadaeef261f098c6e1a6a2935d4d07662a6b780/transformers-2.11.0-py3-none-any.whl (674kB)\n",
      "\r",
      "\u001b[K     |▌                               | 10kB 22.3MB/s eta 0:00:01\r",
      "\u001b[K     |█                               | 20kB 6.2MB/s eta 0:00:01\r",
      "\u001b[K     |█▌                              | 30kB 7.1MB/s eta 0:00:01\r",
      "\u001b[K     |██                              | 40kB 7.9MB/s eta 0:00:01\r",
      "\u001b[K     |██▍                             | 51kB 6.9MB/s eta 0:00:01\r",
      "\u001b[K     |███                             | 61kB 7.4MB/s eta 0:00:01\r",
      "\u001b[K     |███▍                            | 71kB 8.4MB/s eta 0:00:01\r",
      "\u001b[K     |███▉                            | 81kB 8.8MB/s eta 0:00:01\r",
      "\u001b[K     |████▍                           | 92kB 8.3MB/s eta 0:00:01\r",
      "\u001b[K     |████▉                           | 102kB 8.9MB/s eta 0:00:01\r",
      "\u001b[K     |█████▍                          | 112kB 8.9MB/s eta 0:00:01\r",
      "\u001b[K     |█████▉                          | 122kB 8.9MB/s eta 0:00:01\r",
      "\u001b[K     |██████▎                         | 133kB 8.9MB/s eta 0:00:01\r",
      "\u001b[K     |██████▉                         | 143kB 8.9MB/s eta 0:00:01\r",
      "\u001b[K     |███████▎                        | 153kB 8.9MB/s eta 0:00:01\r",
      "\u001b[K     |███████▊                        | 163kB 8.9MB/s eta 0:00:01\r",
      "\u001b[K     |████████▎                       | 174kB 8.9MB/s eta 0:00:01\r",
      "\u001b[K     |████████▊                       | 184kB 8.9MB/s eta 0:00:01\r",
      "\u001b[K     |█████████▎                      | 194kB 8.9MB/s eta 0:00:01\r",
      "\u001b[K     |█████████▊                      | 204kB 8.9MB/s eta 0:00:01\r",
      "\u001b[K     |██████████▏                     | 215kB 8.9MB/s eta 0:00:01\r",
      "\u001b[K     |██████████▊                     | 225kB 8.9MB/s eta 0:00:01\r",
      "\u001b[K     |███████████▏                    | 235kB 8.9MB/s eta 0:00:01\r",
      "\u001b[K     |███████████▋                    | 245kB 8.9MB/s eta 0:00:01\r",
      "\u001b[K     |████████████▏                   | 256kB 8.9MB/s eta 0:00:01\r",
      "\u001b[K     |████████████▋                   | 266kB 8.9MB/s eta 0:00:01\r",
      "\u001b[K     |█████████████                   | 276kB 8.9MB/s eta 0:00:01\r",
      "\u001b[K     |█████████████▋                  | 286kB 8.9MB/s eta 0:00:01\r",
      "\u001b[K     |██████████████                  | 296kB 8.9MB/s eta 0:00:01\r",
      "\u001b[K     |██████████████▋                 | 307kB 8.9MB/s eta 0:00:01\r",
      "\u001b[K     |███████████████                 | 317kB 8.9MB/s eta 0:00:01\r",
      "\u001b[K     |███████████████▌                | 327kB 8.9MB/s eta 0:00:01\r",
      "\u001b[K     |████████████████                | 337kB 8.9MB/s eta 0:00:01\r",
      "\u001b[K     |████████████████▌               | 348kB 8.9MB/s eta 0:00:01\r",
      "\u001b[K     |█████████████████               | 358kB 8.9MB/s eta 0:00:01\r",
      "\u001b[K     |█████████████████▌              | 368kB 8.9MB/s eta 0:00:01\r",
      "\u001b[K     |██████████████████              | 378kB 8.9MB/s eta 0:00:01\r",
      "\u001b[K     |██████████████████▌             | 389kB 8.9MB/s eta 0:00:01\r",
      "\u001b[K     |███████████████████             | 399kB 8.9MB/s eta 0:00:01\r",
      "\u001b[K     |███████████████████▍            | 409kB 8.9MB/s eta 0:00:01\r",
      "\u001b[K     |████████████████████            | 419kB 8.9MB/s eta 0:00:01\r",
      "\u001b[K     |████████████████████▍           | 430kB 8.9MB/s eta 0:00:01\r",
      "\u001b[K     |████████████████████▉           | 440kB 8.9MB/s eta 0:00:01\r",
      "\u001b[K     |█████████████████████▍          | 450kB 8.9MB/s eta 0:00:01\r",
      "\u001b[K     |█████████████████████▉          | 460kB 8.9MB/s eta 0:00:01\r",
      "\u001b[K     |██████████████████████▍         | 471kB 8.9MB/s eta 0:00:01\r",
      "\u001b[K     |██████████████████████▉         | 481kB 8.9MB/s eta 0:00:01\r",
      "\u001b[K     |███████████████████████▎        | 491kB 8.9MB/s eta 0:00:01\r",
      "\u001b[K     |███████████████████████▉        | 501kB 8.9MB/s eta 0:00:01\r",
      "\u001b[K     |████████████████████████▎       | 512kB 8.9MB/s eta 0:00:01\r",
      "\u001b[K     |████████████████████████▊       | 522kB 8.9MB/s eta 0:00:01\r",
      "\u001b[K     |█████████████████████████▎      | 532kB 8.9MB/s eta 0:00:01\r",
      "\u001b[K     |█████████████████████████▊      | 542kB 8.9MB/s eta 0:00:01\r",
      "\u001b[K     |██████████████████████████▏     | 552kB 8.9MB/s eta 0:00:01\r",
      "\u001b[K     |██████████████████████████▊     | 563kB 8.9MB/s eta 0:00:01\r",
      "\u001b[K     |███████████████████████████▏    | 573kB 8.9MB/s eta 0:00:01\r",
      "\u001b[K     |███████████████████████████▊    | 583kB 8.9MB/s eta 0:00:01\r",
      "\u001b[K     |████████████████████████████▏   | 593kB 8.9MB/s eta 0:00:01\r",
      "\u001b[K     |████████████████████████████▋   | 604kB 8.9MB/s eta 0:00:01\r",
      "\u001b[K     |█████████████████████████████▏  | 614kB 8.9MB/s eta 0:00:01\r",
      "\u001b[K     |█████████████████████████████▋  | 624kB 8.9MB/s eta 0:00:01\r",
      "\u001b[K     |██████████████████████████████  | 634kB 8.9MB/s eta 0:00:01\r",
      "\u001b[K     |██████████████████████████████▋ | 645kB 8.9MB/s eta 0:00:01\r",
      "\u001b[K     |███████████████████████████████ | 655kB 8.9MB/s eta 0:00:01\r",
      "\u001b[K     |███████████████████████████████▋| 665kB 8.9MB/s eta 0:00:01\r",
      "\u001b[K     |████████████████████████████████| 675kB 8.9MB/s \n",
      "\u001b[?25hRequirement already satisfied: numpy in /usr/local/lib/python3.6/dist-packages (from transformers==2.11.0) (1.18.5)\n",
      "Requirement already satisfied: regex!=2019.12.17 in /usr/local/lib/python3.6/dist-packages (from transformers==2.11.0) (2019.12.20)\n",
      "Requirement already satisfied: packaging in /usr/local/lib/python3.6/dist-packages (from transformers==2.11.0) (20.4)\n",
      "Requirement already satisfied: tqdm>=4.27 in /usr/local/lib/python3.6/dist-packages (from transformers==2.11.0) (4.41.1)\n",
      "Requirement already satisfied: filelock in /usr/local/lib/python3.6/dist-packages (from transformers==2.11.0) (3.0.12)\n",
      "Requirement already satisfied: requests in /usr/local/lib/python3.6/dist-packages (from transformers==2.11.0) (2.23.0)\n",
      "Collecting tokenizers==0.7.0\n",
      "\u001b[?25l  Downloading https://files.pythonhosted.org/packages/14/e5/a26eb4716523808bb0a799fcfdceb6ebf77a18169d9591b2f46a9adb87d9/tokenizers-0.7.0-cp36-cp36m-manylinux1_x86_64.whl (3.8MB)\n",
      "\u001b[K     |████████████████████████████████| 3.8MB 23.4MB/s \n",
      "\u001b[?25hCollecting sentencepiece\n",
      "\u001b[?25l  Downloading https://files.pythonhosted.org/packages/d4/a4/d0a884c4300004a78cca907a6ff9a5e9fe4f090f5d95ab341c53d28cbc58/sentencepiece-0.1.91-cp36-cp36m-manylinux1_x86_64.whl (1.1MB)\n",
      "\u001b[K     |████████████████████████████████| 1.1MB 53.3MB/s \n",
      "\u001b[?25hRequirement already satisfied: dataclasses; python_version < \"3.7\" in /usr/local/lib/python3.6/dist-packages (from transformers==2.11.0) (0.7)\n",
      "Collecting sacremoses\n",
      "\u001b[?25l  Downloading https://files.pythonhosted.org/packages/7d/34/09d19aff26edcc8eb2a01bed8e98f13a1537005d31e95233fd48216eed10/sacremoses-0.0.43.tar.gz (883kB)\n",
      "\u001b[K     |████████████████████████████████| 890kB 62.2MB/s \n",
      "\u001b[?25hRequirement already satisfied: pyparsing>=2.0.2 in /usr/local/lib/python3.6/dist-packages (from packaging->transformers==2.11.0) (2.4.7)\n",
      "Requirement already satisfied: six in /usr/local/lib/python3.6/dist-packages (from packaging->transformers==2.11.0) (1.15.0)\n",
      "Requirement already satisfied: urllib3!=1.25.0,!=1.25.1,<1.26,>=1.21.1 in /usr/local/lib/python3.6/dist-packages (from requests->transformers==2.11.0) (1.24.3)\n",
      "Requirement already satisfied: idna<3,>=2.5 in /usr/local/lib/python3.6/dist-packages (from requests->transformers==2.11.0) (2.10)\n",
      "Requirement already satisfied: certifi>=2017.4.17 in /usr/local/lib/python3.6/dist-packages (from requests->transformers==2.11.0) (2020.6.20)\n",
      "Requirement already satisfied: chardet<4,>=3.0.2 in /usr/local/lib/python3.6/dist-packages (from requests->transformers==2.11.0) (3.0.4)\n",
      "Requirement already satisfied: click in /usr/local/lib/python3.6/dist-packages (from sacremoses->transformers==2.11.0) (7.1.2)\n",
      "Requirement already satisfied: joblib in /usr/local/lib/python3.6/dist-packages (from sacremoses->transformers==2.11.0) (0.16.0)\n",
      "Building wheels for collected packages: sacremoses\n",
      "  Building wheel for sacremoses (setup.py) ... \u001b[?25l\u001b[?25hdone\n",
      "  Created wheel for sacremoses: filename=sacremoses-0.0.43-cp36-none-any.whl size=893257 sha256=6c54655bb0a15bb0fc0304e0c22b17c2610a86caba82dea363516d8400b62a93\n",
      "  Stored in directory: /root/.cache/pip/wheels/29/3c/fd/7ce5c3f0666dab31a50123635e6fb5e19ceb42ce38d4e58f45\n",
      "Successfully built sacremoses\n",
      "Installing collected packages: tokenizers, sentencepiece, sacremoses, transformers\n",
      "Successfully installed sacremoses-0.0.43 sentencepiece-0.1.91 tokenizers-0.7.0 transformers-2.11.0\n",
      "Collecting bert-extractive-summarizer\n",
      "  Downloading https://files.pythonhosted.org/packages/e9/f3/b0cb3328d9fa41e5f430f491f6558ada4366190a38ce91bbb881195492d7/bert-extractive-summarizer-0.5.0.tar.gz\n",
      "Requirement already satisfied: transformers in /usr/local/lib/python3.6/dist-packages (from bert-extractive-summarizer) (2.11.0)\n",
      "Requirement already satisfied: scikit-learn in /usr/local/lib/python3.6/dist-packages (from bert-extractive-summarizer) (0.22.2.post1)\n",
      "Requirement already satisfied: spacy in /usr/local/lib/python3.6/dist-packages (from bert-extractive-summarizer) (2.2.4)\n",
      "Requirement already satisfied: tokenizers==0.7.0 in /usr/local/lib/python3.6/dist-packages (from transformers->bert-extractive-summarizer) (0.7.0)\n",
      "Requirement already satisfied: dataclasses; python_version < \"3.7\" in /usr/local/lib/python3.6/dist-packages (from transformers->bert-extractive-summarizer) (0.7)\n",
      "Requirement already satisfied: sacremoses in /usr/local/lib/python3.6/dist-packages (from transformers->bert-extractive-summarizer) (0.0.43)\n",
      "Requirement already satisfied: packaging in /usr/local/lib/python3.6/dist-packages (from transformers->bert-extractive-summarizer) (20.4)\n",
      "Requirement already satisfied: filelock in /usr/local/lib/python3.6/dist-packages (from transformers->bert-extractive-summarizer) (3.0.12)\n",
      "Requirement already satisfied: regex!=2019.12.17 in /usr/local/lib/python3.6/dist-packages (from transformers->bert-extractive-summarizer) (2019.12.20)\n",
      "Requirement already satisfied: requests in /usr/local/lib/python3.6/dist-packages (from transformers->bert-extractive-summarizer) (2.23.0)\n",
      "Requirement already satisfied: tqdm>=4.27 in /usr/local/lib/python3.6/dist-packages (from transformers->bert-extractive-summarizer) (4.41.1)\n",
      "Requirement already satisfied: sentencepiece in /usr/local/lib/python3.6/dist-packages (from transformers->bert-extractive-summarizer) (0.1.91)\n",
      "Requirement already satisfied: numpy in /usr/local/lib/python3.6/dist-packages (from transformers->bert-extractive-summarizer) (1.18.5)\n",
      "Requirement already satisfied: scipy>=0.17.0 in /usr/local/lib/python3.6/dist-packages (from scikit-learn->bert-extractive-summarizer) (1.4.1)\n",
      "Requirement already satisfied: joblib>=0.11 in /usr/local/lib/python3.6/dist-packages (from scikit-learn->bert-extractive-summarizer) (0.16.0)\n",
      "Requirement already satisfied: plac<1.2.0,>=0.9.6 in /usr/local/lib/python3.6/dist-packages (from spacy->bert-extractive-summarizer) (1.1.3)\n",
      "Requirement already satisfied: thinc==7.4.0 in /usr/local/lib/python3.6/dist-packages (from spacy->bert-extractive-summarizer) (7.4.0)\n",
      "Requirement already satisfied: preshed<3.1.0,>=3.0.2 in /usr/local/lib/python3.6/dist-packages (from spacy->bert-extractive-summarizer) (3.0.2)\n",
      "Requirement already satisfied: murmurhash<1.1.0,>=0.28.0 in /usr/local/lib/python3.6/dist-packages (from spacy->bert-extractive-summarizer) (1.0.2)\n",
      "Requirement already satisfied: wasabi<1.1.0,>=0.4.0 in /usr/local/lib/python3.6/dist-packages (from spacy->bert-extractive-summarizer) (0.8.0)\n",
      "Requirement already satisfied: catalogue<1.1.0,>=0.0.7 in /usr/local/lib/python3.6/dist-packages (from spacy->bert-extractive-summarizer) (1.0.0)\n",
      "Requirement already satisfied: cymem<2.1.0,>=2.0.2 in /usr/local/lib/python3.6/dist-packages (from spacy->bert-extractive-summarizer) (2.0.3)\n",
      "Requirement already satisfied: blis<0.5.0,>=0.4.0 in /usr/local/lib/python3.6/dist-packages (from spacy->bert-extractive-summarizer) (0.4.1)\n",
      "Requirement already satisfied: srsly<1.1.0,>=1.0.2 in /usr/local/lib/python3.6/dist-packages (from spacy->bert-extractive-summarizer) (1.0.2)\n",
      "Requirement already satisfied: setuptools in /usr/local/lib/python3.6/dist-packages (from spacy->bert-extractive-summarizer) (50.3.0)\n",
      "Requirement already satisfied: six in /usr/local/lib/python3.6/dist-packages (from sacremoses->transformers->bert-extractive-summarizer) (1.15.0)\n",
      "Requirement already satisfied: click in /usr/local/lib/python3.6/dist-packages (from sacremoses->transformers->bert-extractive-summarizer) (7.1.2)\n",
      "Requirement already satisfied: pyparsing>=2.0.2 in /usr/local/lib/python3.6/dist-packages (from packaging->transformers->bert-extractive-summarizer) (2.4.7)\n",
      "Requirement already satisfied: urllib3!=1.25.0,!=1.25.1,<1.26,>=1.21.1 in /usr/local/lib/python3.6/dist-packages (from requests->transformers->bert-extractive-summarizer) (1.24.3)\n",
      "Requirement already satisfied: idna<3,>=2.5 in /usr/local/lib/python3.6/dist-packages (from requests->transformers->bert-extractive-summarizer) (2.10)\n",
      "Requirement already satisfied: chardet<4,>=3.0.2 in /usr/local/lib/python3.6/dist-packages (from requests->transformers->bert-extractive-summarizer) (3.0.4)\n",
      "Requirement already satisfied: certifi>=2017.4.17 in /usr/local/lib/python3.6/dist-packages (from requests->transformers->bert-extractive-summarizer) (2020.6.20)\n",
      "Requirement already satisfied: importlib-metadata>=0.20; python_version < \"3.8\" in /usr/local/lib/python3.6/dist-packages (from catalogue<1.1.0,>=0.0.7->spacy->bert-extractive-summarizer) (1.7.0)\n",
      "Requirement already satisfied: zipp>=0.5 in /usr/local/lib/python3.6/dist-packages (from importlib-metadata>=0.20; python_version < \"3.8\"->catalogue<1.1.0,>=0.0.7->spacy->bert-extractive-summarizer) (3.1.0)\n",
      "Building wheels for collected packages: bert-extractive-summarizer\n",
      "  Building wheel for bert-extractive-summarizer (setup.py) ... \u001b[?25l\u001b[?25hdone\n",
      "  Created wheel for bert-extractive-summarizer: filename=bert_extractive_summarizer-0.5.0-cp36-none-any.whl size=16417 sha256=d5f3921c17fb70411e50b2f4bc4ab7f6be43f759bc81070cbf004f2335e3a872\n",
      "  Stored in directory: /root/.cache/pip/wheels/4c/89/f7/13d71ca6b8e825191f2c5bfbe91f425cf12d2eeca07935cf13\n",
      "Successfully built bert-extractive-summarizer\n",
      "Installing collected packages: bert-extractive-summarizer\n",
      "Successfully installed bert-extractive-summarizer-0.5.0\n"
     ]
    }
   ],
   "source": [
    "!pip install transformers==2.11.0\n",
    "!pip install bert-extractive-summarizer"
   ]
  },
  {
   "cell_type": "markdown",
   "metadata": {
    "colab_type": "text",
    "id": "8JY2Ts2Prl0S"
   },
   "source": [
    "# Extractive Summarization with BERT"
   ]
  },
  {
   "cell_type": "code",
   "execution_count": 5,
   "metadata": {
    "colab": {},
    "colab_type": "code",
    "id": "jJJAWqEUU9eQ"
   },
   "outputs": [],
   "source": [
    "from summarizer import Summarizer"
   ]
  },
  {
   "cell_type": "code",
   "execution_count": 6,
   "metadata": {
    "colab": {
     "base_uri": "https://localhost:8080/",
     "height": 164,
     "referenced_widgets": [
      "15f6504918764a83839a686d7388edb1",
      "fe32a53806714f24996d9b56b9a6a976",
      "b97185f8c1d54d099d549507c1e0b062",
      "3ad2a329f941486c920672d94b87d3f4",
      "2a0ad8d789494765878cf5b793880fb5",
      "cc2c104bc114463aa3cd463ae89c6d6f",
      "bcda14e951ee4ba98c8a41ff0dcd3d8b",
      "ab0950ec278a4fec8f3b554c9a419584",
      "edc2e64573d34dff90d73219c6765e2c",
      "cff3e821aa944bd888d9e12f92c3688f",
      "a3c30a32d9d847e897c4f6c0352cd3b3",
      "92c89a4cc6d243669570ebc3ea7f18b6",
      "15095adfb1ef4a39b14d00486c686528",
      "b1727639cb2646c8ace6e1f532448604",
      "1e3e6791567745d391b5d854906b0e3d",
      "77e6c62cef6c4a9785dbc1d05cde2fd2",
      "340d3005369147f6b05bf8d06e9bfaf1",
      "9ae72939bec1496bb6dddeabd07557d6",
      "4ae1c510af7a4feebd267fffd739a135",
      "c2b49e98c799462cb8c7ea747bcf06c1",
      "0a58df0b60db4dd5b8ab58644004d7c3",
      "513bc85600f142a384f066b60aa7afa5",
      "e7a79d896e5a456fb40a1d7ab3fdb4a2",
      "8c540f1850fb430693bad945a2b289c1"
     ]
    },
    "colab_type": "code",
    "id": "xp4Auu_BXtyb",
    "outputId": "939c9808-5ee7-4850-e0c3-b44e6830dfb1"
   },
   "outputs": [
    {
     "data": {
      "application/vnd.jupyter.widget-view+json": {
       "model_id": "15f6504918764a83839a686d7388edb1",
       "version_major": 2,
       "version_minor": 0
      },
      "text/plain": [
       "HBox(children=(FloatProgress(value=0.0, description='Downloading', max=434.0, style=ProgressStyle(description_…"
      ]
     },
     "metadata": {
      "tags": []
     },
     "output_type": "display_data"
    },
    {
     "name": "stdout",
     "output_type": "stream",
     "text": [
      "\n"
     ]
    },
    {
     "data": {
      "application/vnd.jupyter.widget-view+json": {
       "model_id": "edc2e64573d34dff90d73219c6765e2c",
       "version_major": 2,
       "version_minor": 0
      },
      "text/plain": [
       "HBox(children=(FloatProgress(value=0.0, description='Downloading', max=1344997306.0, style=ProgressStyle(descr…"
      ]
     },
     "metadata": {
      "tags": []
     },
     "output_type": "display_data"
    },
    {
     "name": "stdout",
     "output_type": "stream",
     "text": [
      "\n"
     ]
    },
    {
     "data": {
      "application/vnd.jupyter.widget-view+json": {
       "model_id": "340d3005369147f6b05bf8d06e9bfaf1",
       "version_major": 2,
       "version_minor": 0
      },
      "text/plain": [
       "HBox(children=(FloatProgress(value=0.0, description='Downloading', max=231508.0, style=ProgressStyle(descripti…"
      ]
     },
     "metadata": {
      "tags": []
     },
     "output_type": "display_data"
    },
    {
     "name": "stdout",
     "output_type": "stream",
     "text": [
      "\n"
     ]
    }
   ],
   "source": [
    "sm = Summarizer(model='bert-large-uncased')"
   ]
  },
  {
   "cell_type": "code",
   "execution_count": 7,
   "metadata": {
    "colab": {},
    "colab_type": "code",
    "id": "d7QD8rKqYQO6"
   },
   "outputs": [],
   "source": [
    "result = sm(body=DOCUMENT, ratio=0.15)"
   ]
  },
  {
   "cell_type": "code",
   "execution_count": 8,
   "metadata": {
    "colab": {
     "base_uri": "https://localhost:8080/",
     "height": 190
    },
    "colab_type": "code",
    "id": "hSl5Vl4xYqzo",
    "outputId": "9c15bea0-cccb-44bb-d249-1e23a8d0dde7"
   },
   "outputs": [
    {
     "name": "stdout",
     "output_type": "stream",
     "text": [
      "Data is foundational to business intelligence, and training data size is one of the main determinants of your model’s predictive power.\n",
      "So more data leads to more predictive power.\n",
      "However what we need to remember is the ‘Garbage In Garbage Out’ principle!\n",
      "If we have a huge data repository with features which are too noisy or not having enough variation to capture critical patterns in the data, any ML models will effectively be useless regardless of the data volume.” According to experts, you have to find the right parameters for fancy models that generally lead to big datasets to get high accuracy.\n",
      "Samples must represent real-world example data that have a good chance of being encountered in the future.\n",
      "In fact, one of the most exciting and recent areas is related to making sense out of small data.\n",
      "When we think of advanced models, we assume that advanced machine learning models, everything has to be learned from the data.\n",
      "They are working on building ways to pull in human experience and knowledge rather than trying to discover everything from the raw data itself.\n",
      "For smaller firms, fewer datasets would be equally desirable or preferable to more data, and there are situations where more data present expenses that are not justified by the added value of the additional data.\n"
     ]
    }
   ],
   "source": [
    "result = '\\n'.join(nltk.sent_tokenize(result))\n",
    "print(result)"
   ]
  },
  {
   "cell_type": "markdown",
   "metadata": {
    "colab_type": "text",
    "id": "YOSIkHUMrl0c"
   },
   "source": [
    "# Extractive Summarization with DistilBERT"
   ]
  },
  {
   "cell_type": "code",
   "execution_count": 9,
   "metadata": {
    "colab": {
     "base_uri": "https://localhost:8080/",
     "height": 164,
     "referenced_widgets": [
      "2c8d648edfb241278c81d62652ab116e",
      "524d510412e949a4baea909e4b99bc76",
      "79461f875df745f98f4615d29477a87c",
      "a022ee6b0f604acdb29df15892b50599",
      "1e12496a2d6b48568cf0f5a564fdeb44",
      "3918ebded62c4505bcfc8fed32162a4e",
      "f9ea38721702453d93a907e9698c9867",
      "315acb9d5fe142ac8bad2199a58ad20c",
      "515b47757a7a4fe29959ca6365a60014",
      "6812f6a0ab03452da4ed1d302ed6f635",
      "f69d9b98e5ca4c76962fdfb32e33559d",
      "08ace9073a4d408eb942ebbe89712e1f",
      "0d741f312d8344d6bfe59b1f9d78dec1",
      "df60b80496cb4646b28bb4ff0a7758ee",
      "a150e19a895448ec936b32ecfec00a0c",
      "fb54a74a9b144b3fbf2669e33d400a20",
      "795c61c44e594a18a85777e1f0eb00d7",
      "891fd8134788449abfac611d7c17a18c",
      "f491eb9e592f4cdb9f960b09960227e9",
      "cc2e2a777b5c442bbc2c671c36c5103a",
      "e16403e4386940dda07732b82c540d90",
      "7aba2ecb11ef45578c5084d5ea52f201",
      "baad97d3757f40aabc4f9d0fe011c5bc",
      "ab06647f350746648f64eed375cb79db"
     ]
    },
    "colab_type": "code",
    "id": "AtiMxvIuYsBL",
    "outputId": "171009f2-49ea-4b2b-a193-e16bc109ca9b"
   },
   "outputs": [
    {
     "data": {
      "application/vnd.jupyter.widget-view+json": {
       "model_id": "2c8d648edfb241278c81d62652ab116e",
       "version_major": 2,
       "version_minor": 0
      },
      "text/plain": [
       "HBox(children=(FloatProgress(value=0.0, description='Downloading', max=442.0, style=ProgressStyle(description_…"
      ]
     },
     "metadata": {
      "tags": []
     },
     "output_type": "display_data"
    },
    {
     "name": "stdout",
     "output_type": "stream",
     "text": [
      "\n"
     ]
    },
    {
     "data": {
      "application/vnd.jupyter.widget-view+json": {
       "model_id": "515b47757a7a4fe29959ca6365a60014",
       "version_major": 2,
       "version_minor": 0
      },
      "text/plain": [
       "HBox(children=(FloatProgress(value=0.0, description='Downloading', max=267967963.0, style=ProgressStyle(descri…"
      ]
     },
     "metadata": {
      "tags": []
     },
     "output_type": "display_data"
    },
    {
     "name": "stdout",
     "output_type": "stream",
     "text": [
      "\n"
     ]
    },
    {
     "data": {
      "application/vnd.jupyter.widget-view+json": {
       "model_id": "795c61c44e594a18a85777e1f0eb00d7",
       "version_major": 2,
       "version_minor": 0
      },
      "text/plain": [
       "HBox(children=(FloatProgress(value=0.0, description='Downloading', max=231508.0, style=ProgressStyle(descripti…"
      ]
     },
     "metadata": {
      "tags": []
     },
     "output_type": "display_data"
    },
    {
     "name": "stdout",
     "output_type": "stream",
     "text": [
      "\n"
     ]
    }
   ],
   "source": [
    "sm = Summarizer(model='distilbert-base-uncased')"
   ]
  },
  {
   "cell_type": "code",
   "execution_count": 10,
   "metadata": {
    "colab": {},
    "colab_type": "code",
    "id": "trI0dTLtZSCE"
   },
   "outputs": [],
   "source": [
    "result = sm(body=DOCUMENT, ratio=0.15)"
   ]
  },
  {
   "cell_type": "code",
   "execution_count": 11,
   "metadata": {
    "colab": {
     "base_uri": "https://localhost:8080/",
     "height": 187
    },
    "colab_type": "code",
    "id": "584vOKjTZoTP",
    "outputId": "2405c97d-06d7-4f21-c5b5-d7790a5a0713"
   },
   "outputs": [
    {
     "name": "stdout",
     "output_type": "stream",
     "text": [
      "Data is foundational to business intelligence, and training data size is one of the main determinants of your model’s predictive power.\n",
      "Large amounts of data afford simple models much more power; if you have 1 trillion data points, outliers are easier to classify and the underlying distribution of that data is clearer.\n",
      "When you work with different ML models, we see that certain features of the data are spread on a given variance, which is a probabilistic distribution.\n",
      "However what we need to remember is the ‘Garbage In Garbage Out’ principle!\n",
      "It is not just big data, but good (quality) data which helps us build better performing ML models.\n",
      "By placing too much emphasis on each data point, data scientists have to deal with a lot of noise and, therefore, lose sight of what’s really important.\n",
      "The only way would be to actually get out there and build relevant ML models on the data and validate based on performance metrics (which are in-line with the business metrics & KPIs) to see if we are getting a satisfactory performance,” Dipanjan further says.\n",
      "But actually, it matters to have the right kind of data.\n",
      "In fact, not all areas of machine learning are associated with big data.\n",
      "Organisations are focusing on building hybrid machine learning systems that combine old fashioned rule-based systems with the underlying neural architectures, and have a bi-directional flow of information that learn from logical statements.\n"
     ]
    }
   ],
   "source": [
    "result = '\\n'.join(nltk.sent_tokenize(result))\n",
    "print(result)"
   ]
  },
  {
   "cell_type": "markdown",
   "metadata": {
    "colab_type": "text",
    "id": "Bu0Ok5Asrl0l"
   },
   "source": [
    "# Abstractive Summarization with BART\n",
    "\n",
    "BART: Bidirectional and Auto-Regressive Transformers\n",
    "\n",
    "BART, a denoising autoencoder for pretraining sequence-to-sequence models. BART is trained by \n",
    "\n",
    "- (1) corrupting text with an arbitrary noising function\n",
    "- (2) learning a model to reconstruct the original text. \n",
    "\n",
    "It uses a standard Tranformer-based neural machine translation architecture which, despite its simplicity, can be seen as generalizing BERT (due to the bidirectional encoder), GPT (with the left-to-right decoder), and many other more recent pretraining schemes.\n",
    "\n",
    "![](https://i.imgur.com/wsRp0dk.png)\n",
    "\n",
    "__Source:__ https://arxiv.org/abs/1910.13461"
   ]
  },
  {
   "cell_type": "markdown",
   "metadata": {
    "colab_type": "text",
    "id": "UG5yPSGPK5ol"
   },
   "source": [
    "## Load BART Model"
   ]
  },
  {
   "cell_type": "code",
   "execution_count": 12,
   "metadata": {
    "colab": {},
    "colab_type": "code",
    "id": "nBBFMqrSZ5DF"
   },
   "outputs": [],
   "source": [
    "from transformers import BartTokenizer, BartForConditionalGeneration, BartConfig\n",
    "\n",
    "BART_PATH = 'facebook/bart-large-cnn'"
   ]
  },
  {
   "cell_type": "code",
   "execution_count": 13,
   "metadata": {
    "colab": {
     "base_uri": "https://localhost:8080/",
     "height": 213,
     "referenced_widgets": [
      "197880a6ea1c4374a3be6ebac99336a5",
      "3d9518b0080b4e91ab9f43f63f1e2359",
      "7d03f65d54a7431c9255bb87744f988c",
      "ce95975cd14649b294d4b4374d1121dc",
      "e2e82122065c4d21a442c6f0c1e986d8",
      "b24c8259196748e3be61775c4922a01b",
      "e28d215394704bf3b7f08e224c16f136",
      "47cbd71d3a984adc99a4506c052e246f",
      "a9c32d10f15f4b299c00be155f3636b1",
      "2edf27b5641742799d69de83bba18d14",
      "0f5b291e775343c7a086107fb33db6b0",
      "b077f03d874d440fb25d26ca80293286",
      "0425e8d324a04d09ac2d8cfab101a6cd",
      "16a73ad34ff84724962ab6d097040b99",
      "315d88c4111c455eab1836dd91e78300",
      "07e004ec136e4fccbfaa0e3690f6ae82",
      "3e038d6090fc4b13997602a64b2fcda7",
      "b45b312b171049b1a9ceeccb3581b25f",
      "10e6df9ab7a1465da70b6c27fbcddecf",
      "76cf941e3ceb42e1be214b477ff9b42d",
      "069ed90524d34159bd4ca3d5a7303e63",
      "b80757c1c32040829cc7964b26bdf10a",
      "73af37a2f6a348c59351ca06ca57d34e",
      "29b24a6cb20c4adda9efca368181310f",
      "623658639079492eb43ee4eea370c45a",
      "8ffd1abe7b9145d89884fd7b817f7ad6",
      "a81224570fa544d5834a0133ec23df8e",
      "53d6a8a9db784833b8e314112d8174a0",
      "c7293b433f4249e4b4e6f266855a0e13",
      "3947abee2c70400cbd210ece1e328bee",
      "2cdb6aa144744f3b9ab914f838405cb7",
      "acc2f315dceb4fe38f16387e02811883"
     ]
    },
    "colab_type": "code",
    "id": "6ryVxfzgalPB",
    "outputId": "41ca4034-8038-47a0-d025-6daced72fbe2"
   },
   "outputs": [
    {
     "data": {
      "application/vnd.jupyter.widget-view+json": {
       "model_id": "197880a6ea1c4374a3be6ebac99336a5",
       "version_major": 2,
       "version_minor": 0
      },
      "text/plain": [
       "HBox(children=(FloatProgress(value=0.0, description='Downloading', max=1343.0, style=ProgressStyle(description…"
      ]
     },
     "metadata": {
      "tags": []
     },
     "output_type": "display_data"
    },
    {
     "name": "stdout",
     "output_type": "stream",
     "text": [
      "\n"
     ]
    },
    {
     "data": {
      "application/vnd.jupyter.widget-view+json": {
       "model_id": "a9c32d10f15f4b299c00be155f3636b1",
       "version_major": 2,
       "version_minor": 0
      },
      "text/plain": [
       "HBox(children=(FloatProgress(value=0.0, description='Downloading', max=1625270765.0, style=ProgressStyle(descr…"
      ]
     },
     "metadata": {
      "tags": []
     },
     "output_type": "display_data"
    },
    {
     "name": "stdout",
     "output_type": "stream",
     "text": [
      "\n"
     ]
    },
    {
     "data": {
      "application/vnd.jupyter.widget-view+json": {
       "model_id": "3e038d6090fc4b13997602a64b2fcda7",
       "version_major": 2,
       "version_minor": 0
      },
      "text/plain": [
       "HBox(children=(FloatProgress(value=0.0, description='Downloading', max=898823.0, style=ProgressStyle(descripti…"
      ]
     },
     "metadata": {
      "tags": []
     },
     "output_type": "display_data"
    },
    {
     "name": "stdout",
     "output_type": "stream",
     "text": [
      "\n"
     ]
    },
    {
     "data": {
      "application/vnd.jupyter.widget-view+json": {
       "model_id": "623658639079492eb43ee4eea370c45a",
       "version_major": 2,
       "version_minor": 0
      },
      "text/plain": [
       "HBox(children=(FloatProgress(value=0.0, description='Downloading', max=456318.0, style=ProgressStyle(descripti…"
      ]
     },
     "metadata": {
      "tags": []
     },
     "output_type": "display_data"
    },
    {
     "name": "stdout",
     "output_type": "stream",
     "text": [
      "\n"
     ]
    }
   ],
   "source": [
    "bart_model = BartForConditionalGeneration.from_pretrained(BART_PATH, output_past=True)\n",
    "bart_tokenizer = BartTokenizer.from_pretrained(BART_PATH, output_past=True)"
   ]
  },
  {
   "cell_type": "markdown",
   "metadata": {
    "colab_type": "text",
    "id": "crmft8pTK9A2"
   },
   "source": [
    "## Build function to chunk text \n",
    "\n",
    "#### (BART etc. has limitations of 1024 tokens)"
   ]
  },
  {
   "cell_type": "code",
   "execution_count": 51,
   "metadata": {
    "colab": {},
    "colab_type": "code",
    "id": "V2sK2NPi-wT7"
   },
   "outputs": [],
   "source": [
    "def nest_sentences(document):\n",
    "\n",
    "  nested = []\n",
    "  sent = []\n",
    "  length = 0\n",
    "  for sentence in nltk.sent_tokenize(document):\n",
    "    length += len(sentence)\n",
    "    if length < 1024:\n",
    "      sent.append(sentence)\n",
    "    else:\n",
    "      nested.append(sent)\n",
    "      sent = []\n",
    "      length = 0\n",
    "\n",
    "  if sent:\n",
    "    nested.append(sent)\n",
    "\n",
    "  return nested"
   ]
  },
  {
   "cell_type": "markdown",
   "metadata": {
    "colab_type": "text",
    "id": "2tMj7JeCLFxx"
   },
   "source": [
    "## Chunk input document into nested list of sentences"
   ]
  },
  {
   "cell_type": "code",
   "execution_count": 52,
   "metadata": {
    "colab": {},
    "colab_type": "code",
    "id": "LY4yHzp2EOwF"
   },
   "outputs": [],
   "source": [
    "nested = nest_sentences(DOCUMENT)"
   ]
  },
  {
   "cell_type": "markdown",
   "metadata": {
    "colab_type": "text",
    "id": "IJuOrJV3LJnG"
   },
   "source": [
    "## Sample Summarization Pipeline on a batch of sentences"
   ]
  },
  {
   "cell_type": "code",
   "execution_count": 53,
   "metadata": {
    "colab": {
     "base_uri": "https://localhost:8080/",
     "height": 187
    },
    "colab_type": "code",
    "id": "nwuuVOXQCjjX",
    "outputId": "0ccbac39-3ee3-4006-9445-21f9b3a75f20"
   },
   "outputs": [
    {
     "data": {
      "text/plain": [
       "['Data is foundational to business intelligence, and training data size is one of the main determinants of your model’s predictive power.',\n",
       " 'It is like a lever you always have when you are driving a car.',\n",
       " 'So more data leads to more predictive power.',\n",
       " 'For sophisticated models such as gradient boosted trees and random forests, quality data and feature engineering reduce the errors drastically.',\n",
       " 'But simply having more data is not useful.',\n",
       " 'The saying that businesses need a lot of data is a myth.',\n",
       " 'Large amounts of data afford simple models much more power; if you have 1 trillion data points, outliers are easier to classify and the underlying distribution of that data is clearer.',\n",
       " 'If you have 10 data points, this is probably not the case.',\n",
       " 'You’ll have to perform more sophisticated normalization and transformation routines on the data before it is useful.',\n",
       " 'The big data paradigm is the assumption that big data is a substitute for conventional data collection and analysis.']"
      ]
     },
     "execution_count": 53,
     "metadata": {
      "tags": []
     },
     "output_type": "execute_result"
    }
   ],
   "source": [
    "nested[0]"
   ]
  },
  {
   "cell_type": "code",
   "execution_count": 54,
   "metadata": {
    "colab": {},
    "colab_type": "code",
    "id": "kJiZEg1jAq6v"
   },
   "outputs": [],
   "source": [
    "device = 'cuda'"
   ]
  },
  {
   "cell_type": "code",
   "execution_count": 55,
   "metadata": {
    "colab": {
     "base_uri": "https://localhost:8080/",
     "height": 357
    },
    "colab_type": "code",
    "id": "TwnuRDVw-Swq",
    "outputId": "edbb17dd-bf1d-4e31-8e05-5aff5fd9a0be"
   },
   "outputs": [
    {
     "data": {
      "text/plain": [
       "tensor([[    0,  5423,    16, 35528,     7,   265,  2316,     6,     8,  1058,\n",
       "           414,  1836,    16,    65,     9,     5,  1049, 26948,  3277,     9,\n",
       "           110,  1421,    17,    27,    29, 27930,   476,     4,    85,    16,\n",
       "           101,    10, 15178,    47,   460,    33,    77,    47,    32,  1428,\n",
       "            10,   512,     4,   407,    55,   414,  3315,     7,    55, 27930,\n",
       "           476,     4,   286, 10364,  3092,   215,    25, 43141,  5934,  3980,\n",
       "             8,  9624, 14275,     6,  1318,   414,     8,  1905,  4675,  1888,\n",
       "             5,  9126, 17811,     4,   125,  1622,   519,    55,   414,    16,\n",
       "            45,  5616,     4,    20,   584,    14,  1252,   240,    10,   319,\n",
       "             9,   414,    16,    10, 17721,     4, 13769,  5353,     9,   414,\n",
       "          4960,  2007,  3092,   203,    55,   476,   131,   114,    47,    33,\n",
       "           112,  4700,   414,   332,     6, 31187,  4733,    32,  3013,     7,\n",
       "         36029,     8,     5,  7482,  3854,     9,    14,   414,    16, 18618,\n",
       "             4,   318,    47,    33,   158,   414,   332,     6,    42,    16,\n",
       "          1153,    45,     5,   403,     4,   370,    17,    27,   890,    33,\n",
       "             7,  3008,    55, 10364,  2340,  1938,     8,  7791, 24888,    15,\n",
       "             5,   414,   137,    24,    16,  5616,     4,    20,   380,   414,\n",
       "         28323,    16,     5, 15480,    14,   380,   414,    16,    10, 10268,\n",
       "            13,  9164,   414,  2783,     8,  1966,     4,     2]],\n",
       "       device='cuda:0')"
      ]
     },
     "execution_count": 55,
     "metadata": {
      "tags": []
     },
     "output_type": "execute_result"
    }
   ],
   "source": [
    "input_tokenized = bart_tokenizer.encode(' '.join(nested[0]), truncation=True, return_tensors='pt')\n",
    "input_tokenized = input_tokenized.to(device)\n",
    "input_tokenized"
   ]
  },
  {
   "cell_type": "code",
   "execution_count": 56,
   "metadata": {
    "colab": {
     "base_uri": "https://localhost:8080/",
     "height": 153
    },
    "colab_type": "code",
    "id": "bB8zbRUqAGmq",
    "outputId": "df09839a-3daf-4f9f-9792-ec5c1c1eef2d"
   },
   "outputs": [
    {
     "data": {
      "text/plain": [
       "tensor([[    2,     0,   133,   380,   414, 28323,    16,     5, 15480,    14,\n",
       "           380,   414,    16,    10, 10268,    13,  9164,   414,  2783,     8,\n",
       "          1966,     4,  5423,    16, 35528,     7,   265,  2316,     6,     8,\n",
       "          1058,   414,  1836,    16,    65,     9,     5,  1049, 26948,  3277,\n",
       "             9,   110,  1421,    17,    27,    29, 27930,   476,     4,   286,\n",
       "         10364,  3092,   215,    25, 43141,  5934,  3980,     6,  1318,   414,\n",
       "             8,  1905,  4675,  1888,     5,  9126, 17811,     4]],\n",
       "       device='cuda:0')"
      ]
     },
     "execution_count": 56,
     "metadata": {
      "tags": []
     },
     "output_type": "execute_result"
    }
   ],
   "source": [
    "summary_ids = bart_model.to('cuda').generate(input_tokenized,\n",
    "                                      length_penalty=3.0,\n",
    "                                      min_length=30,\n",
    "                                      max_length=100)\n",
    "summary_ids"
   ]
  },
  {
   "cell_type": "code",
   "execution_count": 57,
   "metadata": {
    "colab": {
     "base_uri": "https://localhost:8080/",
     "height": 54
    },
    "colab_type": "code",
    "id": "QfA90jLNCQ43",
    "outputId": "5455f065-b29a-4ca9-b441-1db05a032a98"
   },
   "outputs": [
    {
     "data": {
      "text/plain": [
       "['The big data paradigm is the assumption that big data is a substitute for conventional data collection and analysis. Data is foundational to business intelligence, and training data size is one of the main determinants of your model’s predictive power. For sophisticated models such as gradient boosted trees, quality data and feature engineering reduce the errors drastically.']"
      ]
     },
     "execution_count": 57,
     "metadata": {
      "tags": []
     },
     "output_type": "execute_result"
    }
   ],
   "source": [
    "output = [bart_tokenizer.decode(g, skip_special_tokens=True, clean_up_tokenization_spaces=False) for g in summary_ids]\n",
    "output"
   ]
  },
  {
   "cell_type": "code",
   "execution_count": 58,
   "metadata": {
    "colab": {
     "base_uri": "https://localhost:8080/",
     "height": 187
    },
    "colab_type": "code",
    "id": "dgCW9519ConK",
    "outputId": "2e53fe12-98a9-4a89-db91-6ada583e660a"
   },
   "outputs": [
    {
     "data": {
      "text/plain": [
       "['Data is foundational to business intelligence, and training data size is one of the main determinants of your model’s predictive power.',\n",
       " 'It is like a lever you always have when you are driving a car.',\n",
       " 'So more data leads to more predictive power.',\n",
       " 'For sophisticated models such as gradient boosted trees and random forests, quality data and feature engineering reduce the errors drastically.',\n",
       " 'But simply having more data is not useful.',\n",
       " 'The saying that businesses need a lot of data is a myth.',\n",
       " 'Large amounts of data afford simple models much more power; if you have 1 trillion data points, outliers are easier to classify and the underlying distribution of that data is clearer.',\n",
       " 'If you have 10 data points, this is probably not the case.',\n",
       " 'You’ll have to perform more sophisticated normalization and transformation routines on the data before it is useful.',\n",
       " 'The big data paradigm is the assumption that big data is a substitute for conventional data collection and analysis.']"
      ]
     },
     "execution_count": 58,
     "metadata": {
      "tags": []
     },
     "output_type": "execute_result"
    }
   ],
   "source": [
    "nested[0]"
   ]
  },
  {
   "cell_type": "markdown",
   "metadata": {
    "colab_type": "text",
    "id": "kD_Xu7AcLOpO"
   },
   "source": [
    "## Build Generic Function to Summarize"
   ]
  },
  {
   "cell_type": "code",
   "execution_count": 59,
   "metadata": {
    "colab": {},
    "colab_type": "code",
    "id": "p-VwsZHdCxxt"
   },
   "outputs": [],
   "source": [
    "def generate_summary(nested_sentences):\n",
    "  device = 'cuda'\n",
    "  summaries = []\n",
    "  for nested in nested_sentences:\n",
    "    input_tokenized = bart_tokenizer.encode(' '.join(nested), truncation=True, return_tensors='pt')\n",
    "    input_tokenized = input_tokenized.to(device)\n",
    "    summary_ids = bart_model.to('cuda').generate(input_tokenized,\n",
    "                                      length_penalty=3.0,\n",
    "                                      min_length=30,\n",
    "                                      max_length=100)\n",
    "    output = [bart_tokenizer.decode(g, skip_special_tokens=True, clean_up_tokenization_spaces=False) for g in summary_ids]\n",
    "    summaries.append(output)\n",
    "  summaries = [sentence for sublist in summaries for sentence in sublist]\n",
    "  return summaries\n",
    "\n",
    "    "
   ]
  },
  {
   "cell_type": "markdown",
   "metadata": {
    "colab_type": "text",
    "id": "ooO-ZazDLRs9"
   },
   "source": [
    "## Generate 1st Level Summary"
   ]
  },
  {
   "cell_type": "code",
   "execution_count": 60,
   "metadata": {
    "colab": {},
    "colab_type": "code",
    "id": "oTONuAy1Di1t"
   },
   "outputs": [],
   "source": [
    "summ = generate_summary(nested)"
   ]
  },
  {
   "cell_type": "code",
   "execution_count": 61,
   "metadata": {
    "colab": {
     "base_uri": "https://localhost:8080/",
     "height": 173
    },
    "colab_type": "code",
    "id": "r4LVmfeGDoOL",
    "outputId": "f96e138b-a4ad-42b8-d0be-ff7c8624b65a"
   },
   "outputs": [
    {
     "data": {
      "text/plain": [
       "['The big data paradigm is the assumption that big data is a substitute for conventional data collection and analysis. Data is foundational to business intelligence, and training data size is one of the main determinants of your model’s predictive power. For sophisticated models such as gradient boosted trees, quality data and feature engineering reduce the errors drastically.',\n",
       " 'Data by itself is not a panacea and we cannot ignore traditional analysis. Massive data can lead to lower estimation variance and hence better predictive performance. More data increases the probability that it contains useful information, which is advantageous.',\n",
       " 'The standard principle in data science is that more training data leads to better machine learning models. However what we need to remember is the ‘Garbage In Garbage Out’ principle! It is not just big data, but good (quality) data which helps us build better performing ML models.',\n",
       " 'An overfitting model implies that you have low bias and high variance and more data is not going to solve your problem. By placing too much emphasis on each data point, data scientists have to deal with a lot of noise and lose sight of what’s really important.',\n",
       " 'More data in principle is good but it matters to have the right kind of data. Samples must represent real-world example data that have a good chance of being encountered in the future.',\n",
       " 'It is explicit from previous work that more data do not surely lead to greater predictive performance. It has been argued that sampling (decreasing the number of instances) or transformation of the data is beneficial.',\n",
       " 'For smaller firms, fewer datasets would be equally desirable or preferable to more data. Organisations are focusing on building hybrid machine learning systems that combine old fashioned rule-based systems with the underlying neural architectures.',\n",
       " 'Hacking and privacy breaches are other possibilities with storing too much data. There are also examples where a company may breach a privacy regulation in its quest to acquire a large dataset.']"
      ]
     },
     "execution_count": 61,
     "metadata": {
      "tags": []
     },
     "output_type": "execute_result"
    }
   ],
   "source": [
    "summ"
   ]
  },
  {
   "cell_type": "markdown",
   "metadata": {
    "colab_type": "text",
    "id": "s8bKd7S9LV7D"
   },
   "source": [
    "## Generate 2nd Level Summary"
   ]
  },
  {
   "cell_type": "code",
   "execution_count": 62,
   "metadata": {
    "colab": {
     "base_uri": "https://localhost:8080/",
     "height": 323
    },
    "colab_type": "code",
    "id": "hAbXOOuvDuSm",
    "outputId": "39291d29-3ebd-4315-ef2c-39a6a12b84c1"
   },
   "outputs": [
    {
     "data": {
      "text/plain": [
       "[['The big data paradigm is the assumption that big data is a substitute for conventional data collection and analysis.',\n",
       "  'Data is foundational to business intelligence, and training data size is one of the main determinants of your model’s predictive power.',\n",
       "  'For sophisticated models such as gradient boosted trees, quality data and feature engineering reduce the errors drastically.',\n",
       "  'Data by itself is not a panacea and we cannot ignore traditional analysis.',\n",
       "  'Massive data can lead to lower estimation variance and hence better predictive performance.',\n",
       "  'More data increases the probability that it contains useful information, which is advantageous.',\n",
       "  'The standard principle in data science is that more training data leads to better machine learning models.',\n",
       "  'However what we need to remember is the ‘Garbage In Garbage Out’ principle!',\n",
       "  'It is not just big data, but good (quality) data which helps us build better performing ML models.'],\n",
       " ['By placing too much emphasis on each data point, data scientists have to deal with a lot of noise and lose sight of what’s really important.',\n",
       "  'More data in principle is good but it matters to have the right kind of data.',\n",
       "  'Samples must represent real-world example data that have a good chance of being encountered in the future.',\n",
       "  'It is explicit from previous work that more data do not surely lead to greater predictive performance.',\n",
       "  'It has been argued that sampling (decreasing the number of instances) or transformation of the data is beneficial.',\n",
       "  'For smaller firms, fewer datasets would be equally desirable or preferable to more data.',\n",
       "  'Organisations are focusing on building hybrid machine learning systems that combine old fashioned rule-based systems with the underlying neural architectures.',\n",
       "  'Hacking and privacy breaches are other possibilities with storing too much data.',\n",
       "  'There are also examples where a company may breach a privacy regulation in its quest to acquire a large dataset.']]"
      ]
     },
     "execution_count": 62,
     "metadata": {
      "tags": []
     },
     "output_type": "execute_result"
    }
   ],
   "source": [
    "nested_summ = nest_sentences(' '.join(summ))\n",
    "nested_summ"
   ]
  },
  {
   "cell_type": "code",
   "execution_count": 63,
   "metadata": {
    "colab": {
     "base_uri": "https://localhost:8080/",
     "height": 51
    },
    "colab_type": "code",
    "id": "YnPi7ei9D5Ul",
    "outputId": "516dedb5-fc4f-4fb4-e44a-79383fa2d598"
   },
   "outputs": [
    {
     "data": {
      "text/plain": [
       "['Data is foundational to business intelligence, and training data size is one of the main determinants of your model’s predictive power. Data by itself is not a panacea and we cannot ignore traditional analysis. Massive data can lead to lower estimation variance and hence better predictive performance.',\n",
       " 'More data in principle is good but it matters to have the right kind of data. Samples must represent real-world example data that have a good chance of being encountered in the future. For smaller firms, fewer datasets would be equally desirable or preferable.']"
      ]
     },
     "execution_count": 63,
     "metadata": {
      "tags": []
     },
     "output_type": "execute_result"
    }
   ],
   "source": [
    "generate_summary(nested_summ)"
   ]
  },
  {
   "cell_type": "code",
   "execution_count": 29,
   "metadata": {
    "colab": {
     "base_uri": "https://localhost:8080/",
     "height": 477
    },
    "colab_type": "code",
    "id": "oiRwBE4iEwhz",
    "outputId": "6b68e249-d01c-47f6-8708-a0419ba23773"
   },
   "outputs": [
    {
     "data": {
      "application/vnd.google.colaboratory.intrinsic+json": {
       "type": "string"
      },
      "text/plain": [
       "'Data is foundational to business intelligence, and training data size is one of the main determinants of your model’s predictive power. It is like a lever you always have when you are driving a car. So more data leads to more predictive power. For sophisticated models such as gradient boosted trees and random forests, quality data and feature engineering reduce the errors drastically. But simply having more data is not useful. The saying that businesses need a lot of data is a myth. Large amounts of data afford simple models much more power; if you have 1 trillion data points, outliers are easier to classify and the underlying distribution of that data is clearer. If you have 10 data points, this is probably not the case. You’ll have to perform more sophisticated normalization and transformation routines on the data before it is useful. The big data paradigm is the assumption that big data is a substitute for conventional data collection and analysis. In other words, it’s the belief (and overconfidence) that huge amounts of data is the answer to everything and that we can just train machines to solve problems automatically. Data by itself is not a panacea and we cannot ignore traditional analysis. Researchers have demonstrated that massive data can lead to lower estimation variance and hence better predictive performance. More data increases the probability that it contains useful information, which is advantageous. However, not all data is always helpful. A good example is clickstream data utilised by e-com companies where a user’s actions are monitored and analysed. Such data includes parts of the page that are clicked, keywords, cookie data, cursor positions and web page components that are visible. This is a lot of data coming in rapidly, but only a portion is valuable in predicting a user’s characteristics and preferences. The rest is noise. When data are taken from human actions, noise rates usually are high due to the limitations enforced by behavioural tendencies. What you ideally need is a set of data points that outline the range of variations with each class that one would like to train the ML system with. Having more data certainly increases the accuracy of your model, but there comes a stage where even adding infinite amounts of data cannot improve any more accuracy. This is what we called the natural noise of the data. When you work with different ML models, we see that certain features of the data are spread on a given variance, which is a probabilistic distribution. Dipanjan Sarkar, Data Science Lead at Applied Materials explains, “The standard principle in data science is that more training data leads to better machine learning models. However what we need to remember is the ‘Garbage In Garbage Out’ principle! It is not just big data, but good (quality) data which helps us build better performing ML models. If we have a huge data repository with features which are too noisy or not having enough variation to capture critical patterns in the data, any ML models will effectively be useless regardless of the data volume.” According to research, if the model is tuned with too much to the data, then it could essentially memorise the data, and that causes model overfitting, which causes high error rates for unseen data. If we are overfitting, we get wrong predictions and lose the focus on what’s actually important. An overfitting model implies that you have low bias and high variance and more data is not going to solve your problem. By placing too much emphasis on each data point, data scientists have to deal with a lot of noise and, therefore, lose sight of what’s really important. So adding more data points to the training set will not improve the model performance. We need big data mostly when you have a ton of features, like image processing, where there is a need for ample data sources to train a model or language models for that matter. According to experts, you have to find the right parameters for fancy models that generally lead to big datasets to get high accuracy. There are many knobs, and you have to try enough knobs in the right parts of the space that contributes to reduced training error. “There are no shortcuts or direct mathematical formulae to say if we have enough data. The only way would be to actually get out there and build relevant ML models on the data and validate based on performance metrics (which are in-line with the business metrics & KPIs) to see if we are getting a satisfactory performance,” Dipanjan further says. More data in principle is good. But actually, it matters to have the right kind of data. Sampling training data from your actual target domain always matters. Even within a domain, it matters how you sample. So modelling choices and data sampling approach jointly matter more than just data. Samples must represent real-world example data that have a good chance of being encountered in the future. The main reason why data is desirable is that it lends more information about the dataset and thus becomes valuable. However, if the newly created data resemble the existing data, or simply repeated data, then there is no added value of having more data. For example, in an online review dataset, there is not much of a lift from the large dataset because you probably do not have a lot of variables and thousands of user reviews get you the same sample. From a pure regression standpoint and if you have a true sample, data size beyond a point does not matter. There is diminishing value in adding observations from a Mean Square Error standpoint, a standard way to measure the error of a model in predicting quantitative data. It is explicit from previous work that more data do not surely lead to greater predictive performance. It has been argued that sampling (decreasing the number of instances) or transformation of the data to lower the dimensional spaces (lessening the number of features) is beneficial. In fact, not all areas of machine learning are associated with big data. In fact, one of the most exciting and recent areas is related to making sense out of small data. When we think of advanced models, we assume that advanced machine learning models, everything has to be learned from the data. There are several use cases where few data points have worked equally well using techniques like simulation, etc., semi-supervised learning, etc. Practically, there is research on neural network architectures that do reasonably well with just a thousand data points. They are not fancy but better than some machine learning methods if you have the right problem type. “With the advent of innovative methodologies like transfer learning, unsupervised, self-supervised and semi-supervised learning, we are seeing new areas of research being actually adapted in the industry to build better quality ML models with less (labeled) data,” tells Dipanjan Sarkar. There is also extensive work going on in terms of techniques that reduce the requirements for data. They are working on building ways to pull in human experience and knowledge rather than trying to discover everything from the raw data itself. Organisations are focusing on building hybrid machine learning systems that combine old fashioned rule-based systems with the underlying neural architectures, and have a bi-directional flow of information that learn from logical statements. For smaller firms, fewer datasets would be equally desirable or preferable to more data, and there are situations where more data present expenses that are not justified by the added value of the additional data. Data storage is an expense, and analysts who can work with datasets that are too large to fit in memory, with the appropriate tools, are more expensive than those who cannot. A collection of a small dataset is good enough for answering the question of interest, and there is no incentive to collect additional data considering the practical time and financial burdens it may create. Hacking and privacy breaches are other possibilities with storing too much data which demands the efforts of a malicious entity to produce adverse consequences. There are also examples where a company may breach a privacy regulation in its quest to acquire a large dataset.'"
      ]
     },
     "execution_count": 29,
     "metadata": {
      "tags": []
     },
     "output_type": "execute_result"
    }
   ],
   "source": [
    "DOCUMENT"
   ]
  },
  {
   "cell_type": "markdown",
   "metadata": {
    "colab_type": "text",
    "id": "pDt-LImjLak5"
   },
   "source": [
    "## Another Example"
   ]
  },
  {
   "cell_type": "code",
   "execution_count": 64,
   "metadata": {
    "colab": {},
    "colab_type": "code",
    "id": "lTWtMPiiHHtf"
   },
   "outputs": [],
   "source": [
    "DOCUMENT = \"\"\"\n",
    "Association football, more commonly known as football or soccer, is a team sport played with a spherical ball between two teams of 11 players. \n",
    "It is played by approximately 250 million players in over 200 countries and dependencies, making it the world's most popular sport. \n",
    "The game is played on a rectangular field called a pitch with a goal at each end. The object of the game is to outscore the opposition by moving the ball beyond the goal line into the opposing goal. \n",
    "The team with the higher number of goals wins the game.\n",
    "Football is played in accordance with a set of rules known as the Laws of the Game. The ball is 68–70 cm (27–28 in) in circumference and known as the football. \n",
    "The two teams each compete to get the ball into the other team's goal (between the posts and under the bar), thereby scoring a goal. \n",
    "The team that has scored more goals at the end of the game is the winner; if both teams have scored an equal number of goals then the game is a draw. \n",
    "Each team is led by a captain who has only one official responsibility as mandated by the Laws of the Game: to represent their team in the coin toss prior to kick-off or penalty kicks.\n",
    "Players are not allowed to touch the ball with hands or arms while it is in play, except for the goalkeepers within the penalty area. Other players mainly use their feet to strike or pass the ball, but may also use any other part of their body except the hands and the arms. \n",
    "The team that scores most goals by the end of the match wins. If the score is level at the end of the game, either a draw is declared or the game goes into extra time or a penalty shootout depending on the format of the competition.\n",
    "Football is governed internationally by the International Federation of Association Football (FIFA; French: Fédération Internationale de Football Association), which organises World Cups for both men and women every four years. \n",
    "The FIFA World Cup has taken place every four years since 1930 with the exception of 1942 and 1946 tournaments, which were cancelled due to World War II. \n",
    "Approximately 190–200 national teams compete in qualifying tournaments within the scope of continental confederations for a place in the finals. \n",
    "The finals tournament, which is held every four years, involves 32 national teams competing over a four-week period. It is the most prestigious football tournament in the world as well as the most widely viewed and followed sporting event in the world, exceeding the Olympic Games.\n",
    "\"\"\""
   ]
  },
  {
   "cell_type": "code",
   "execution_count": 65,
   "metadata": {
    "colab": {},
    "colab_type": "code",
    "id": "q8GA6swXHydj"
   },
   "outputs": [],
   "source": [
    "DOCUMENT = re.sub(r'\\n|\\r', ' ', DOCUMENT)\n",
    "DOCUMENT = re.sub(r' +', ' ', DOCUMENT)\n",
    "DOCUMENT = DOCUMENT.strip()"
   ]
  },
  {
   "cell_type": "markdown",
   "metadata": {
    "colab_type": "text",
    "id": "mslmGgHtLc7M"
   },
   "source": [
    "## Generate 1st Level Summary"
   ]
  },
  {
   "cell_type": "code",
   "execution_count": 66,
   "metadata": {
    "colab": {
     "base_uri": "https://localhost:8080/",
     "height": 306
    },
    "colab_type": "code",
    "id": "hrm3lp3aH8MP",
    "outputId": "94d69950-a175-4a78-f336-216e11a74f31"
   },
   "outputs": [
    {
     "data": {
      "text/plain": [
       "[['Association football, more commonly known as football or soccer, is a team sport played with a spherical ball between two teams of 11 players.',\n",
       "  \"It is played by approximately 250 million players in over 200 countries and dependencies, making it the world's most popular sport.\",\n",
       "  'The game is played on a rectangular field called a pitch with a goal at each end.',\n",
       "  'The object of the game is to outscore the opposition by moving the ball beyond the goal line into the opposing goal.',\n",
       "  'The team with the higher number of goals wins the game.',\n",
       "  'Football is played in accordance with a set of rules known as the Laws of the Game.',\n",
       "  'The ball is 68–70 cm (27–28 in) in circumference and known as the football.',\n",
       "  \"The two teams each compete to get the ball into the other team's goal (between the posts and under the bar), thereby scoring a goal.\",\n",
       "  'The team that has scored more goals at the end of the game is the winner; if both teams have scored an equal number of goals then the game is a draw.'],\n",
       " ['Players are not allowed to touch the ball with hands or arms while it is in play, except for the goalkeepers within the penalty area.',\n",
       "  'Other players mainly use their feet to strike or pass the ball, but may also use any other part of their body except the hands and the arms.',\n",
       "  'The team that scores most goals by the end of the match wins.',\n",
       "  'If the score is level at the end of the game, either a draw is declared or the game goes into extra time or a penalty shootout depending on the format of the competition.',\n",
       "  'Football is governed internationally by the International Federation of Association Football (FIFA; French: Fédération Internationale de Football Association), which organises World Cups for both men and women every four years.',\n",
       "  'The FIFA World Cup has taken place every four years since 1930 with the exception of 1942 and 1946 tournaments, which were cancelled due to World War II.'],\n",
       " ['The finals tournament, which is held every four years, involves 32 national teams competing over a four-week period.',\n",
       "  '[b] It is the most prestigious football tournament in the world as well as the most widely viewed and followed sporting event in the world, exceeding the Olympic Games.']]"
      ]
     },
     "execution_count": 66,
     "metadata": {
      "tags": []
     },
     "output_type": "execute_result"
    }
   ],
   "source": [
    "doc_nest = nest_sentences(DOCUMENT)\n",
    "doc_nest"
   ]
  },
  {
   "cell_type": "code",
   "execution_count": 67,
   "metadata": {
    "colab": {
     "base_uri": "https://localhost:8080/",
     "height": 88
    },
    "colab_type": "code",
    "id": "eTgMylzEGt5F",
    "outputId": "cf757354-f2ee-46f2-ae45-9484a3670b13"
   },
   "outputs": [
    {
     "data": {
      "text/plain": [
       "[' association football is a team sport played with a spherical ball between two teams of 11 players. It is played by approximately 250 million players in over 200 countries and dependencies. The object of the game is to outscore the opposition by moving the ball beyond the goal line into the opposing goal. The team with the higher number of goals wins the game.',\n",
       " 'The FIFA World Cup has taken place every four years since 1930 with the exception of 1942 and 1946 tournaments, which were cancelled due to World War II. Players are not allowed to touch the ball with hands or arms while it is in play, except for the goalkeepers within the penalty area. Other players mainly use their feet to strike or pass the ball.',\n",
       " \"The World Cup is the most prestigious football tournament in the world. The finals tournament is held every four years. It involves 32 national teams competing over a four-week period. The tournament is the world's most widely viewed sporting event.\"]"
      ]
     },
     "execution_count": 67,
     "metadata": {
      "tags": []
     },
     "output_type": "execute_result"
    }
   ],
   "source": [
    "summ = generate_summary(doc_nest)\n",
    "summ"
   ]
  },
  {
   "cell_type": "code",
   "execution_count": 69,
   "metadata": {
    "colab": {
     "base_uri": "https://localhost:8080/",
     "height": 204
    },
    "colab_type": "code",
    "id": "4Rno7YlUIu-Y",
    "outputId": "7480e617-2ac3-4779-c48e-f8e11cac0433"
   },
   "outputs": [
    {
     "data": {
      "text/plain": [
       "[[' association football is a team sport played with a spherical ball between two teams of 11 players.',\n",
       "  'It is played by approximately 250 million players in over 200 countries and dependencies.',\n",
       "  'The object of the game is to outscore the opposition by moving the ball beyond the goal line into the opposing goal.',\n",
       "  'The team with the higher number of goals wins the game.',\n",
       "  'The FIFA World Cup has taken place every four years since 1930 with the exception of 1942 and 1946 tournaments, which were cancelled due to World War II.',\n",
       "  'Players are not allowed to touch the ball with hands or arms while it is in play, except for the goalkeepers within the penalty area.',\n",
       "  'Other players mainly use their feet to strike or pass the ball.',\n",
       "  'The World Cup is the most prestigious football tournament in the world.',\n",
       "  'The finals tournament is held every four years.',\n",
       "  'It involves 32 national teams competing over a four-week period.',\n",
       "  \"The tournament is the world's most widely viewed sporting event.\"]]"
      ]
     },
     "execution_count": 69,
     "metadata": {
      "tags": []
     },
     "output_type": "execute_result"
    }
   ],
   "source": [
    "nest_summ = nest_sentences(' '.join(summ))\n",
    "nest_summ"
   ]
  },
  {
   "cell_type": "markdown",
   "metadata": {
    "colab_type": "text",
    "id": "szoBHC8CLiMv"
   },
   "source": [
    "## Generate 2nd Level Summary"
   ]
  },
  {
   "cell_type": "code",
   "execution_count": 71,
   "metadata": {
    "colab": {
     "base_uri": "https://localhost:8080/",
     "height": 85
    },
    "colab_type": "code",
    "id": "mi0LQZHrI7RN",
    "outputId": "79b65c2e-952c-4d62-bd39-86260c5f4713"
   },
   "outputs": [
    {
     "data": {
      "text/plain": [
       "[[' association football is a team sport played with a spherical ball between two teams of 11 players.',\n",
       "  'It is played by approximately 250 million players in over 200 countries and dependencies.',\n",
       "  'The object of the game is to outscore the opposition by moving the ball beyond the goal line into the opposing goal.',\n",
       "  'The team with the higher number of goals wins the game.']]"
      ]
     },
     "execution_count": 71,
     "metadata": {
      "tags": []
     },
     "output_type": "execute_result"
    }
   ],
   "source": [
    "final_summ = generate_summary(nest_summ)\n",
    "nest_sentences(' '.join(final_summ))"
   ]
  }
 ],
 "metadata": {
  "accelerator": "GPU",
  "colab": {
   "collapsed_sections": [],
   "machine_shape": "hm",
   "name": "NLP_Applications_Text_Summarization_Transformers.ipynb",
   "provenance": []
  },
  "kernelspec": {
   "display_name": "Python 3",
   "language": "python",
   "name": "python3"
  },
  "language_info": {
   "codemirror_mode": {
    "name": "ipython",
    "version": 3
   },
   "file_extension": ".py",
   "mimetype": "text/x-python",
   "name": "python",
   "nbconvert_exporter": "python",
   "pygments_lexer": "ipython3",
   "version": "3.7.6"
  },
  "widgets": {
   "application/vnd.jupyter.widget-state+json": {
    "0425e8d324a04d09ac2d8cfab101a6cd": {
     "model_module": "@jupyter-widgets/controls",
     "model_name": "ProgressStyleModel",
     "state": {
      "_model_module": "@jupyter-widgets/controls",
      "_model_module_version": "1.5.0",
      "_model_name": "ProgressStyleModel",
      "_view_count": null,
      "_view_module": "@jupyter-widgets/base",
      "_view_module_version": "1.2.0",
      "_view_name": "StyleView",
      "bar_color": null,
      "description_width": "initial"
     }
    },
    "069ed90524d34159bd4ca3d5a7303e63": {
     "model_module": "@jupyter-widgets/controls",
     "model_name": "ProgressStyleModel",
     "state": {
      "_model_module": "@jupyter-widgets/controls",
      "_model_module_version": "1.5.0",
      "_model_name": "ProgressStyleModel",
      "_view_count": null,
      "_view_module": "@jupyter-widgets/base",
      "_view_module_version": "1.2.0",
      "_view_name": "StyleView",
      "bar_color": null,
      "description_width": "initial"
     }
    },
    "07e004ec136e4fccbfaa0e3690f6ae82": {
     "model_module": "@jupyter-widgets/base",
     "model_name": "LayoutModel",
     "state": {
      "_model_module": "@jupyter-widgets/base",
      "_model_module_version": "1.2.0",
      "_model_name": "LayoutModel",
      "_view_count": null,
      "_view_module": "@jupyter-widgets/base",
      "_view_module_version": "1.2.0",
      "_view_name": "LayoutView",
      "align_content": null,
      "align_items": null,
      "align_self": null,
      "border": null,
      "bottom": null,
      "display": null,
      "flex": null,
      "flex_flow": null,
      "grid_area": null,
      "grid_auto_columns": null,
      "grid_auto_flow": null,
      "grid_auto_rows": null,
      "grid_column": null,
      "grid_gap": null,
      "grid_row": null,
      "grid_template_areas": null,
      "grid_template_columns": null,
      "grid_template_rows": null,
      "height": null,
      "justify_content": null,
      "justify_items": null,
      "left": null,
      "margin": null,
      "max_height": null,
      "max_width": null,
      "min_height": null,
      "min_width": null,
      "object_fit": null,
      "object_position": null,
      "order": null,
      "overflow": null,
      "overflow_x": null,
      "overflow_y": null,
      "padding": null,
      "right": null,
      "top": null,
      "visibility": null,
      "width": null
     }
    },
    "08ace9073a4d408eb942ebbe89712e1f": {
     "model_module": "@jupyter-widgets/controls",
     "model_name": "HTMLModel",
     "state": {
      "_dom_classes": [],
      "_model_module": "@jupyter-widgets/controls",
      "_model_module_version": "1.5.0",
      "_model_name": "HTMLModel",
      "_view_count": null,
      "_view_module": "@jupyter-widgets/controls",
      "_view_module_version": "1.5.0",
      "_view_name": "HTMLView",
      "description": "",
      "description_tooltip": null,
      "layout": "IPY_MODEL_fb54a74a9b144b3fbf2669e33d400a20",
      "placeholder": "​",
      "style": "IPY_MODEL_a150e19a895448ec936b32ecfec00a0c",
      "value": " 268M/268M [00:03&lt;00:00, 74.2MB/s]"
     }
    },
    "0a58df0b60db4dd5b8ab58644004d7c3": {
     "model_module": "@jupyter-widgets/controls",
     "model_name": "ProgressStyleModel",
     "state": {
      "_model_module": "@jupyter-widgets/controls",
      "_model_module_version": "1.5.0",
      "_model_name": "ProgressStyleModel",
      "_view_count": null,
      "_view_module": "@jupyter-widgets/base",
      "_view_module_version": "1.2.0",
      "_view_name": "StyleView",
      "bar_color": null,
      "description_width": "initial"
     }
    },
    "0d741f312d8344d6bfe59b1f9d78dec1": {
     "model_module": "@jupyter-widgets/controls",
     "model_name": "ProgressStyleModel",
     "state": {
      "_model_module": "@jupyter-widgets/controls",
      "_model_module_version": "1.5.0",
      "_model_name": "ProgressStyleModel",
      "_view_count": null,
      "_view_module": "@jupyter-widgets/base",
      "_view_module_version": "1.2.0",
      "_view_name": "StyleView",
      "bar_color": null,
      "description_width": "initial"
     }
    },
    "0f5b291e775343c7a086107fb33db6b0": {
     "model_module": "@jupyter-widgets/controls",
     "model_name": "FloatProgressModel",
     "state": {
      "_dom_classes": [],
      "_model_module": "@jupyter-widgets/controls",
      "_model_module_version": "1.5.0",
      "_model_name": "FloatProgressModel",
      "_view_count": null,
      "_view_module": "@jupyter-widgets/controls",
      "_view_module_version": "1.5.0",
      "_view_name": "ProgressView",
      "bar_style": "success",
      "description": "Downloading: 100%",
      "description_tooltip": null,
      "layout": "IPY_MODEL_16a73ad34ff84724962ab6d097040b99",
      "max": 1625270765,
      "min": 0,
      "orientation": "horizontal",
      "style": "IPY_MODEL_0425e8d324a04d09ac2d8cfab101a6cd",
      "value": 1625270765
     }
    },
    "10e6df9ab7a1465da70b6c27fbcddecf": {
     "model_module": "@jupyter-widgets/controls",
     "model_name": "FloatProgressModel",
     "state": {
      "_dom_classes": [],
      "_model_module": "@jupyter-widgets/controls",
      "_model_module_version": "1.5.0",
      "_model_name": "FloatProgressModel",
      "_view_count": null,
      "_view_module": "@jupyter-widgets/controls",
      "_view_module_version": "1.5.0",
      "_view_name": "ProgressView",
      "bar_style": "success",
      "description": "Downloading: 100%",
      "description_tooltip": null,
      "layout": "IPY_MODEL_b80757c1c32040829cc7964b26bdf10a",
      "max": 898823,
      "min": 0,
      "orientation": "horizontal",
      "style": "IPY_MODEL_069ed90524d34159bd4ca3d5a7303e63",
      "value": 898823
     }
    },
    "15095adfb1ef4a39b14d00486c686528": {
     "model_module": "@jupyter-widgets/controls",
     "model_name": "ProgressStyleModel",
     "state": {
      "_model_module": "@jupyter-widgets/controls",
      "_model_module_version": "1.5.0",
      "_model_name": "ProgressStyleModel",
      "_view_count": null,
      "_view_module": "@jupyter-widgets/base",
      "_view_module_version": "1.2.0",
      "_view_name": "StyleView",
      "bar_color": null,
      "description_width": "initial"
     }
    },
    "15f6504918764a83839a686d7388edb1": {
     "model_module": "@jupyter-widgets/controls",
     "model_name": "HBoxModel",
     "state": {
      "_dom_classes": [],
      "_model_module": "@jupyter-widgets/controls",
      "_model_module_version": "1.5.0",
      "_model_name": "HBoxModel",
      "_view_count": null,
      "_view_module": "@jupyter-widgets/controls",
      "_view_module_version": "1.5.0",
      "_view_name": "HBoxView",
      "box_style": "",
      "children": [
       "IPY_MODEL_b97185f8c1d54d099d549507c1e0b062",
       "IPY_MODEL_3ad2a329f941486c920672d94b87d3f4"
      ],
      "layout": "IPY_MODEL_fe32a53806714f24996d9b56b9a6a976"
     }
    },
    "16a73ad34ff84724962ab6d097040b99": {
     "model_module": "@jupyter-widgets/base",
     "model_name": "LayoutModel",
     "state": {
      "_model_module": "@jupyter-widgets/base",
      "_model_module_version": "1.2.0",
      "_model_name": "LayoutModel",
      "_view_count": null,
      "_view_module": "@jupyter-widgets/base",
      "_view_module_version": "1.2.0",
      "_view_name": "LayoutView",
      "align_content": null,
      "align_items": null,
      "align_self": null,
      "border": null,
      "bottom": null,
      "display": null,
      "flex": null,
      "flex_flow": null,
      "grid_area": null,
      "grid_auto_columns": null,
      "grid_auto_flow": null,
      "grid_auto_rows": null,
      "grid_column": null,
      "grid_gap": null,
      "grid_row": null,
      "grid_template_areas": null,
      "grid_template_columns": null,
      "grid_template_rows": null,
      "height": null,
      "justify_content": null,
      "justify_items": null,
      "left": null,
      "margin": null,
      "max_height": null,
      "max_width": null,
      "min_height": null,
      "min_width": null,
      "object_fit": null,
      "object_position": null,
      "order": null,
      "overflow": null,
      "overflow_x": null,
      "overflow_y": null,
      "padding": null,
      "right": null,
      "top": null,
      "visibility": null,
      "width": null
     }
    },
    "197880a6ea1c4374a3be6ebac99336a5": {
     "model_module": "@jupyter-widgets/controls",
     "model_name": "HBoxModel",
     "state": {
      "_dom_classes": [],
      "_model_module": "@jupyter-widgets/controls",
      "_model_module_version": "1.5.0",
      "_model_name": "HBoxModel",
      "_view_count": null,
      "_view_module": "@jupyter-widgets/controls",
      "_view_module_version": "1.5.0",
      "_view_name": "HBoxView",
      "box_style": "",
      "children": [
       "IPY_MODEL_7d03f65d54a7431c9255bb87744f988c",
       "IPY_MODEL_ce95975cd14649b294d4b4374d1121dc"
      ],
      "layout": "IPY_MODEL_3d9518b0080b4e91ab9f43f63f1e2359"
     }
    },
    "1e12496a2d6b48568cf0f5a564fdeb44": {
     "model_module": "@jupyter-widgets/controls",
     "model_name": "ProgressStyleModel",
     "state": {
      "_model_module": "@jupyter-widgets/controls",
      "_model_module_version": "1.5.0",
      "_model_name": "ProgressStyleModel",
      "_view_count": null,
      "_view_module": "@jupyter-widgets/base",
      "_view_module_version": "1.2.0",
      "_view_name": "StyleView",
      "bar_color": null,
      "description_width": "initial"
     }
    },
    "1e3e6791567745d391b5d854906b0e3d": {
     "model_module": "@jupyter-widgets/controls",
     "model_name": "DescriptionStyleModel",
     "state": {
      "_model_module": "@jupyter-widgets/controls",
      "_model_module_version": "1.5.0",
      "_model_name": "DescriptionStyleModel",
      "_view_count": null,
      "_view_module": "@jupyter-widgets/base",
      "_view_module_version": "1.2.0",
      "_view_name": "StyleView",
      "description_width": ""
     }
    },
    "29b24a6cb20c4adda9efca368181310f": {
     "model_module": "@jupyter-widgets/base",
     "model_name": "LayoutModel",
     "state": {
      "_model_module": "@jupyter-widgets/base",
      "_model_module_version": "1.2.0",
      "_model_name": "LayoutModel",
      "_view_count": null,
      "_view_module": "@jupyter-widgets/base",
      "_view_module_version": "1.2.0",
      "_view_name": "LayoutView",
      "align_content": null,
      "align_items": null,
      "align_self": null,
      "border": null,
      "bottom": null,
      "display": null,
      "flex": null,
      "flex_flow": null,
      "grid_area": null,
      "grid_auto_columns": null,
      "grid_auto_flow": null,
      "grid_auto_rows": null,
      "grid_column": null,
      "grid_gap": null,
      "grid_row": null,
      "grid_template_areas": null,
      "grid_template_columns": null,
      "grid_template_rows": null,
      "height": null,
      "justify_content": null,
      "justify_items": null,
      "left": null,
      "margin": null,
      "max_height": null,
      "max_width": null,
      "min_height": null,
      "min_width": null,
      "object_fit": null,
      "object_position": null,
      "order": null,
      "overflow": null,
      "overflow_x": null,
      "overflow_y": null,
      "padding": null,
      "right": null,
      "top": null,
      "visibility": null,
      "width": null
     }
    },
    "2a0ad8d789494765878cf5b793880fb5": {
     "model_module": "@jupyter-widgets/controls",
     "model_name": "ProgressStyleModel",
     "state": {
      "_model_module": "@jupyter-widgets/controls",
      "_model_module_version": "1.5.0",
      "_model_name": "ProgressStyleModel",
      "_view_count": null,
      "_view_module": "@jupyter-widgets/base",
      "_view_module_version": "1.2.0",
      "_view_name": "StyleView",
      "bar_color": null,
      "description_width": "initial"
     }
    },
    "2c8d648edfb241278c81d62652ab116e": {
     "model_module": "@jupyter-widgets/controls",
     "model_name": "HBoxModel",
     "state": {
      "_dom_classes": [],
      "_model_module": "@jupyter-widgets/controls",
      "_model_module_version": "1.5.0",
      "_model_name": "HBoxModel",
      "_view_count": null,
      "_view_module": "@jupyter-widgets/controls",
      "_view_module_version": "1.5.0",
      "_view_name": "HBoxView",
      "box_style": "",
      "children": [
       "IPY_MODEL_79461f875df745f98f4615d29477a87c",
       "IPY_MODEL_a022ee6b0f604acdb29df15892b50599"
      ],
      "layout": "IPY_MODEL_524d510412e949a4baea909e4b99bc76"
     }
    },
    "2cdb6aa144744f3b9ab914f838405cb7": {
     "model_module": "@jupyter-widgets/controls",
     "model_name": "DescriptionStyleModel",
     "state": {
      "_model_module": "@jupyter-widgets/controls",
      "_model_module_version": "1.5.0",
      "_model_name": "DescriptionStyleModel",
      "_view_count": null,
      "_view_module": "@jupyter-widgets/base",
      "_view_module_version": "1.2.0",
      "_view_name": "StyleView",
      "description_width": ""
     }
    },
    "2edf27b5641742799d69de83bba18d14": {
     "model_module": "@jupyter-widgets/base",
     "model_name": "LayoutModel",
     "state": {
      "_model_module": "@jupyter-widgets/base",
      "_model_module_version": "1.2.0",
      "_model_name": "LayoutModel",
      "_view_count": null,
      "_view_module": "@jupyter-widgets/base",
      "_view_module_version": "1.2.0",
      "_view_name": "LayoutView",
      "align_content": null,
      "align_items": null,
      "align_self": null,
      "border": null,
      "bottom": null,
      "display": null,
      "flex": null,
      "flex_flow": null,
      "grid_area": null,
      "grid_auto_columns": null,
      "grid_auto_flow": null,
      "grid_auto_rows": null,
      "grid_column": null,
      "grid_gap": null,
      "grid_row": null,
      "grid_template_areas": null,
      "grid_template_columns": null,
      "grid_template_rows": null,
      "height": null,
      "justify_content": null,
      "justify_items": null,
      "left": null,
      "margin": null,
      "max_height": null,
      "max_width": null,
      "min_height": null,
      "min_width": null,
      "object_fit": null,
      "object_position": null,
      "order": null,
      "overflow": null,
      "overflow_x": null,
      "overflow_y": null,
      "padding": null,
      "right": null,
      "top": null,
      "visibility": null,
      "width": null
     }
    },
    "315acb9d5fe142ac8bad2199a58ad20c": {
     "model_module": "@jupyter-widgets/base",
     "model_name": "LayoutModel",
     "state": {
      "_model_module": "@jupyter-widgets/base",
      "_model_module_version": "1.2.0",
      "_model_name": "LayoutModel",
      "_view_count": null,
      "_view_module": "@jupyter-widgets/base",
      "_view_module_version": "1.2.0",
      "_view_name": "LayoutView",
      "align_content": null,
      "align_items": null,
      "align_self": null,
      "border": null,
      "bottom": null,
      "display": null,
      "flex": null,
      "flex_flow": null,
      "grid_area": null,
      "grid_auto_columns": null,
      "grid_auto_flow": null,
      "grid_auto_rows": null,
      "grid_column": null,
      "grid_gap": null,
      "grid_row": null,
      "grid_template_areas": null,
      "grid_template_columns": null,
      "grid_template_rows": null,
      "height": null,
      "justify_content": null,
      "justify_items": null,
      "left": null,
      "margin": null,
      "max_height": null,
      "max_width": null,
      "min_height": null,
      "min_width": null,
      "object_fit": null,
      "object_position": null,
      "order": null,
      "overflow": null,
      "overflow_x": null,
      "overflow_y": null,
      "padding": null,
      "right": null,
      "top": null,
      "visibility": null,
      "width": null
     }
    },
    "315d88c4111c455eab1836dd91e78300": {
     "model_module": "@jupyter-widgets/controls",
     "model_name": "DescriptionStyleModel",
     "state": {
      "_model_module": "@jupyter-widgets/controls",
      "_model_module_version": "1.5.0",
      "_model_name": "DescriptionStyleModel",
      "_view_count": null,
      "_view_module": "@jupyter-widgets/base",
      "_view_module_version": "1.2.0",
      "_view_name": "StyleView",
      "description_width": ""
     }
    },
    "340d3005369147f6b05bf8d06e9bfaf1": {
     "model_module": "@jupyter-widgets/controls",
     "model_name": "HBoxModel",
     "state": {
      "_dom_classes": [],
      "_model_module": "@jupyter-widgets/controls",
      "_model_module_version": "1.5.0",
      "_model_name": "HBoxModel",
      "_view_count": null,
      "_view_module": "@jupyter-widgets/controls",
      "_view_module_version": "1.5.0",
      "_view_name": "HBoxView",
      "box_style": "",
      "children": [
       "IPY_MODEL_4ae1c510af7a4feebd267fffd739a135",
       "IPY_MODEL_c2b49e98c799462cb8c7ea747bcf06c1"
      ],
      "layout": "IPY_MODEL_9ae72939bec1496bb6dddeabd07557d6"
     }
    },
    "3918ebded62c4505bcfc8fed32162a4e": {
     "model_module": "@jupyter-widgets/base",
     "model_name": "LayoutModel",
     "state": {
      "_model_module": "@jupyter-widgets/base",
      "_model_module_version": "1.2.0",
      "_model_name": "LayoutModel",
      "_view_count": null,
      "_view_module": "@jupyter-widgets/base",
      "_view_module_version": "1.2.0",
      "_view_name": "LayoutView",
      "align_content": null,
      "align_items": null,
      "align_self": null,
      "border": null,
      "bottom": null,
      "display": null,
      "flex": null,
      "flex_flow": null,
      "grid_area": null,
      "grid_auto_columns": null,
      "grid_auto_flow": null,
      "grid_auto_rows": null,
      "grid_column": null,
      "grid_gap": null,
      "grid_row": null,
      "grid_template_areas": null,
      "grid_template_columns": null,
      "grid_template_rows": null,
      "height": null,
      "justify_content": null,
      "justify_items": null,
      "left": null,
      "margin": null,
      "max_height": null,
      "max_width": null,
      "min_height": null,
      "min_width": null,
      "object_fit": null,
      "object_position": null,
      "order": null,
      "overflow": null,
      "overflow_x": null,
      "overflow_y": null,
      "padding": null,
      "right": null,
      "top": null,
      "visibility": null,
      "width": null
     }
    },
    "3947abee2c70400cbd210ece1e328bee": {
     "model_module": "@jupyter-widgets/base",
     "model_name": "LayoutModel",
     "state": {
      "_model_module": "@jupyter-widgets/base",
      "_model_module_version": "1.2.0",
      "_model_name": "LayoutModel",
      "_view_count": null,
      "_view_module": "@jupyter-widgets/base",
      "_view_module_version": "1.2.0",
      "_view_name": "LayoutView",
      "align_content": null,
      "align_items": null,
      "align_self": null,
      "border": null,
      "bottom": null,
      "display": null,
      "flex": null,
      "flex_flow": null,
      "grid_area": null,
      "grid_auto_columns": null,
      "grid_auto_flow": null,
      "grid_auto_rows": null,
      "grid_column": null,
      "grid_gap": null,
      "grid_row": null,
      "grid_template_areas": null,
      "grid_template_columns": null,
      "grid_template_rows": null,
      "height": null,
      "justify_content": null,
      "justify_items": null,
      "left": null,
      "margin": null,
      "max_height": null,
      "max_width": null,
      "min_height": null,
      "min_width": null,
      "object_fit": null,
      "object_position": null,
      "order": null,
      "overflow": null,
      "overflow_x": null,
      "overflow_y": null,
      "padding": null,
      "right": null,
      "top": null,
      "visibility": null,
      "width": null
     }
    },
    "3ad2a329f941486c920672d94b87d3f4": {
     "model_module": "@jupyter-widgets/controls",
     "model_name": "HTMLModel",
     "state": {
      "_dom_classes": [],
      "_model_module": "@jupyter-widgets/controls",
      "_model_module_version": "1.5.0",
      "_model_name": "HTMLModel",
      "_view_count": null,
      "_view_module": "@jupyter-widgets/controls",
      "_view_module_version": "1.5.0",
      "_view_name": "HTMLView",
      "description": "",
      "description_tooltip": null,
      "layout": "IPY_MODEL_ab0950ec278a4fec8f3b554c9a419584",
      "placeholder": "​",
      "style": "IPY_MODEL_bcda14e951ee4ba98c8a41ff0dcd3d8b",
      "value": " 434/434 [00:00&lt;00:00, 3.45kB/s]"
     }
    },
    "3d9518b0080b4e91ab9f43f63f1e2359": {
     "model_module": "@jupyter-widgets/base",
     "model_name": "LayoutModel",
     "state": {
      "_model_module": "@jupyter-widgets/base",
      "_model_module_version": "1.2.0",
      "_model_name": "LayoutModel",
      "_view_count": null,
      "_view_module": "@jupyter-widgets/base",
      "_view_module_version": "1.2.0",
      "_view_name": "LayoutView",
      "align_content": null,
      "align_items": null,
      "align_self": null,
      "border": null,
      "bottom": null,
      "display": null,
      "flex": null,
      "flex_flow": null,
      "grid_area": null,
      "grid_auto_columns": null,
      "grid_auto_flow": null,
      "grid_auto_rows": null,
      "grid_column": null,
      "grid_gap": null,
      "grid_row": null,
      "grid_template_areas": null,
      "grid_template_columns": null,
      "grid_template_rows": null,
      "height": null,
      "justify_content": null,
      "justify_items": null,
      "left": null,
      "margin": null,
      "max_height": null,
      "max_width": null,
      "min_height": null,
      "min_width": null,
      "object_fit": null,
      "object_position": null,
      "order": null,
      "overflow": null,
      "overflow_x": null,
      "overflow_y": null,
      "padding": null,
      "right": null,
      "top": null,
      "visibility": null,
      "width": null
     }
    },
    "3e038d6090fc4b13997602a64b2fcda7": {
     "model_module": "@jupyter-widgets/controls",
     "model_name": "HBoxModel",
     "state": {
      "_dom_classes": [],
      "_model_module": "@jupyter-widgets/controls",
      "_model_module_version": "1.5.0",
      "_model_name": "HBoxModel",
      "_view_count": null,
      "_view_module": "@jupyter-widgets/controls",
      "_view_module_version": "1.5.0",
      "_view_name": "HBoxView",
      "box_style": "",
      "children": [
       "IPY_MODEL_10e6df9ab7a1465da70b6c27fbcddecf",
       "IPY_MODEL_76cf941e3ceb42e1be214b477ff9b42d"
      ],
      "layout": "IPY_MODEL_b45b312b171049b1a9ceeccb3581b25f"
     }
    },
    "47cbd71d3a984adc99a4506c052e246f": {
     "model_module": "@jupyter-widgets/base",
     "model_name": "LayoutModel",
     "state": {
      "_model_module": "@jupyter-widgets/base",
      "_model_module_version": "1.2.0",
      "_model_name": "LayoutModel",
      "_view_count": null,
      "_view_module": "@jupyter-widgets/base",
      "_view_module_version": "1.2.0",
      "_view_name": "LayoutView",
      "align_content": null,
      "align_items": null,
      "align_self": null,
      "border": null,
      "bottom": null,
      "display": null,
      "flex": null,
      "flex_flow": null,
      "grid_area": null,
      "grid_auto_columns": null,
      "grid_auto_flow": null,
      "grid_auto_rows": null,
      "grid_column": null,
      "grid_gap": null,
      "grid_row": null,
      "grid_template_areas": null,
      "grid_template_columns": null,
      "grid_template_rows": null,
      "height": null,
      "justify_content": null,
      "justify_items": null,
      "left": null,
      "margin": null,
      "max_height": null,
      "max_width": null,
      "min_height": null,
      "min_width": null,
      "object_fit": null,
      "object_position": null,
      "order": null,
      "overflow": null,
      "overflow_x": null,
      "overflow_y": null,
      "padding": null,
      "right": null,
      "top": null,
      "visibility": null,
      "width": null
     }
    },
    "4ae1c510af7a4feebd267fffd739a135": {
     "model_module": "@jupyter-widgets/controls",
     "model_name": "FloatProgressModel",
     "state": {
      "_dom_classes": [],
      "_model_module": "@jupyter-widgets/controls",
      "_model_module_version": "1.5.0",
      "_model_name": "FloatProgressModel",
      "_view_count": null,
      "_view_module": "@jupyter-widgets/controls",
      "_view_module_version": "1.5.0",
      "_view_name": "ProgressView",
      "bar_style": "success",
      "description": "Downloading: 100%",
      "description_tooltip": null,
      "layout": "IPY_MODEL_513bc85600f142a384f066b60aa7afa5",
      "max": 231508,
      "min": 0,
      "orientation": "horizontal",
      "style": "IPY_MODEL_0a58df0b60db4dd5b8ab58644004d7c3",
      "value": 231508
     }
    },
    "513bc85600f142a384f066b60aa7afa5": {
     "model_module": "@jupyter-widgets/base",
     "model_name": "LayoutModel",
     "state": {
      "_model_module": "@jupyter-widgets/base",
      "_model_module_version": "1.2.0",
      "_model_name": "LayoutModel",
      "_view_count": null,
      "_view_module": "@jupyter-widgets/base",
      "_view_module_version": "1.2.0",
      "_view_name": "LayoutView",
      "align_content": null,
      "align_items": null,
      "align_self": null,
      "border": null,
      "bottom": null,
      "display": null,
      "flex": null,
      "flex_flow": null,
      "grid_area": null,
      "grid_auto_columns": null,
      "grid_auto_flow": null,
      "grid_auto_rows": null,
      "grid_column": null,
      "grid_gap": null,
      "grid_row": null,
      "grid_template_areas": null,
      "grid_template_columns": null,
      "grid_template_rows": null,
      "height": null,
      "justify_content": null,
      "justify_items": null,
      "left": null,
      "margin": null,
      "max_height": null,
      "max_width": null,
      "min_height": null,
      "min_width": null,
      "object_fit": null,
      "object_position": null,
      "order": null,
      "overflow": null,
      "overflow_x": null,
      "overflow_y": null,
      "padding": null,
      "right": null,
      "top": null,
      "visibility": null,
      "width": null
     }
    },
    "515b47757a7a4fe29959ca6365a60014": {
     "model_module": "@jupyter-widgets/controls",
     "model_name": "HBoxModel",
     "state": {
      "_dom_classes": [],
      "_model_module": "@jupyter-widgets/controls",
      "_model_module_version": "1.5.0",
      "_model_name": "HBoxModel",
      "_view_count": null,
      "_view_module": "@jupyter-widgets/controls",
      "_view_module_version": "1.5.0",
      "_view_name": "HBoxView",
      "box_style": "",
      "children": [
       "IPY_MODEL_f69d9b98e5ca4c76962fdfb32e33559d",
       "IPY_MODEL_08ace9073a4d408eb942ebbe89712e1f"
      ],
      "layout": "IPY_MODEL_6812f6a0ab03452da4ed1d302ed6f635"
     }
    },
    "524d510412e949a4baea909e4b99bc76": {
     "model_module": "@jupyter-widgets/base",
     "model_name": "LayoutModel",
     "state": {
      "_model_module": "@jupyter-widgets/base",
      "_model_module_version": "1.2.0",
      "_model_name": "LayoutModel",
      "_view_count": null,
      "_view_module": "@jupyter-widgets/base",
      "_view_module_version": "1.2.0",
      "_view_name": "LayoutView",
      "align_content": null,
      "align_items": null,
      "align_self": null,
      "border": null,
      "bottom": null,
      "display": null,
      "flex": null,
      "flex_flow": null,
      "grid_area": null,
      "grid_auto_columns": null,
      "grid_auto_flow": null,
      "grid_auto_rows": null,
      "grid_column": null,
      "grid_gap": null,
      "grid_row": null,
      "grid_template_areas": null,
      "grid_template_columns": null,
      "grid_template_rows": null,
      "height": null,
      "justify_content": null,
      "justify_items": null,
      "left": null,
      "margin": null,
      "max_height": null,
      "max_width": null,
      "min_height": null,
      "min_width": null,
      "object_fit": null,
      "object_position": null,
      "order": null,
      "overflow": null,
      "overflow_x": null,
      "overflow_y": null,
      "padding": null,
      "right": null,
      "top": null,
      "visibility": null,
      "width": null
     }
    },
    "53d6a8a9db784833b8e314112d8174a0": {
     "model_module": "@jupyter-widgets/controls",
     "model_name": "HTMLModel",
     "state": {
      "_dom_classes": [],
      "_model_module": "@jupyter-widgets/controls",
      "_model_module_version": "1.5.0",
      "_model_name": "HTMLModel",
      "_view_count": null,
      "_view_module": "@jupyter-widgets/controls",
      "_view_module_version": "1.5.0",
      "_view_name": "HTMLView",
      "description": "",
      "description_tooltip": null,
      "layout": "IPY_MODEL_acc2f315dceb4fe38f16387e02811883",
      "placeholder": "​",
      "style": "IPY_MODEL_2cdb6aa144744f3b9ab914f838405cb7",
      "value": " 456k/456k [00:00&lt;00:00, 1.10MB/s]"
     }
    },
    "623658639079492eb43ee4eea370c45a": {
     "model_module": "@jupyter-widgets/controls",
     "model_name": "HBoxModel",
     "state": {
      "_dom_classes": [],
      "_model_module": "@jupyter-widgets/controls",
      "_model_module_version": "1.5.0",
      "_model_name": "HBoxModel",
      "_view_count": null,
      "_view_module": "@jupyter-widgets/controls",
      "_view_module_version": "1.5.0",
      "_view_name": "HBoxView",
      "box_style": "",
      "children": [
       "IPY_MODEL_a81224570fa544d5834a0133ec23df8e",
       "IPY_MODEL_53d6a8a9db784833b8e314112d8174a0"
      ],
      "layout": "IPY_MODEL_8ffd1abe7b9145d89884fd7b817f7ad6"
     }
    },
    "6812f6a0ab03452da4ed1d302ed6f635": {
     "model_module": "@jupyter-widgets/base",
     "model_name": "LayoutModel",
     "state": {
      "_model_module": "@jupyter-widgets/base",
      "_model_module_version": "1.2.0",
      "_model_name": "LayoutModel",
      "_view_count": null,
      "_view_module": "@jupyter-widgets/base",
      "_view_module_version": "1.2.0",
      "_view_name": "LayoutView",
      "align_content": null,
      "align_items": null,
      "align_self": null,
      "border": null,
      "bottom": null,
      "display": null,
      "flex": null,
      "flex_flow": null,
      "grid_area": null,
      "grid_auto_columns": null,
      "grid_auto_flow": null,
      "grid_auto_rows": null,
      "grid_column": null,
      "grid_gap": null,
      "grid_row": null,
      "grid_template_areas": null,
      "grid_template_columns": null,
      "grid_template_rows": null,
      "height": null,
      "justify_content": null,
      "justify_items": null,
      "left": null,
      "margin": null,
      "max_height": null,
      "max_width": null,
      "min_height": null,
      "min_width": null,
      "object_fit": null,
      "object_position": null,
      "order": null,
      "overflow": null,
      "overflow_x": null,
      "overflow_y": null,
      "padding": null,
      "right": null,
      "top": null,
      "visibility": null,
      "width": null
     }
    },
    "73af37a2f6a348c59351ca06ca57d34e": {
     "model_module": "@jupyter-widgets/controls",
     "model_name": "DescriptionStyleModel",
     "state": {
      "_model_module": "@jupyter-widgets/controls",
      "_model_module_version": "1.5.0",
      "_model_name": "DescriptionStyleModel",
      "_view_count": null,
      "_view_module": "@jupyter-widgets/base",
      "_view_module_version": "1.2.0",
      "_view_name": "StyleView",
      "description_width": ""
     }
    },
    "76cf941e3ceb42e1be214b477ff9b42d": {
     "model_module": "@jupyter-widgets/controls",
     "model_name": "HTMLModel",
     "state": {
      "_dom_classes": [],
      "_model_module": "@jupyter-widgets/controls",
      "_model_module_version": "1.5.0",
      "_model_name": "HTMLModel",
      "_view_count": null,
      "_view_module": "@jupyter-widgets/controls",
      "_view_module_version": "1.5.0",
      "_view_name": "HTMLView",
      "description": "",
      "description_tooltip": null,
      "layout": "IPY_MODEL_29b24a6cb20c4adda9efca368181310f",
      "placeholder": "​",
      "style": "IPY_MODEL_73af37a2f6a348c59351ca06ca57d34e",
      "value": " 899k/899k [00:01&lt;00:00, 563kB/s]"
     }
    },
    "77e6c62cef6c4a9785dbc1d05cde2fd2": {
     "model_module": "@jupyter-widgets/base",
     "model_name": "LayoutModel",
     "state": {
      "_model_module": "@jupyter-widgets/base",
      "_model_module_version": "1.2.0",
      "_model_name": "LayoutModel",
      "_view_count": null,
      "_view_module": "@jupyter-widgets/base",
      "_view_module_version": "1.2.0",
      "_view_name": "LayoutView",
      "align_content": null,
      "align_items": null,
      "align_self": null,
      "border": null,
      "bottom": null,
      "display": null,
      "flex": null,
      "flex_flow": null,
      "grid_area": null,
      "grid_auto_columns": null,
      "grid_auto_flow": null,
      "grid_auto_rows": null,
      "grid_column": null,
      "grid_gap": null,
      "grid_row": null,
      "grid_template_areas": null,
      "grid_template_columns": null,
      "grid_template_rows": null,
      "height": null,
      "justify_content": null,
      "justify_items": null,
      "left": null,
      "margin": null,
      "max_height": null,
      "max_width": null,
      "min_height": null,
      "min_width": null,
      "object_fit": null,
      "object_position": null,
      "order": null,
      "overflow": null,
      "overflow_x": null,
      "overflow_y": null,
      "padding": null,
      "right": null,
      "top": null,
      "visibility": null,
      "width": null
     }
    },
    "79461f875df745f98f4615d29477a87c": {
     "model_module": "@jupyter-widgets/controls",
     "model_name": "FloatProgressModel",
     "state": {
      "_dom_classes": [],
      "_model_module": "@jupyter-widgets/controls",
      "_model_module_version": "1.5.0",
      "_model_name": "FloatProgressModel",
      "_view_count": null,
      "_view_module": "@jupyter-widgets/controls",
      "_view_module_version": "1.5.0",
      "_view_name": "ProgressView",
      "bar_style": "success",
      "description": "Downloading: 100%",
      "description_tooltip": null,
      "layout": "IPY_MODEL_3918ebded62c4505bcfc8fed32162a4e",
      "max": 442,
      "min": 0,
      "orientation": "horizontal",
      "style": "IPY_MODEL_1e12496a2d6b48568cf0f5a564fdeb44",
      "value": 442
     }
    },
    "795c61c44e594a18a85777e1f0eb00d7": {
     "model_module": "@jupyter-widgets/controls",
     "model_name": "HBoxModel",
     "state": {
      "_dom_classes": [],
      "_model_module": "@jupyter-widgets/controls",
      "_model_module_version": "1.5.0",
      "_model_name": "HBoxModel",
      "_view_count": null,
      "_view_module": "@jupyter-widgets/controls",
      "_view_module_version": "1.5.0",
      "_view_name": "HBoxView",
      "box_style": "",
      "children": [
       "IPY_MODEL_f491eb9e592f4cdb9f960b09960227e9",
       "IPY_MODEL_cc2e2a777b5c442bbc2c671c36c5103a"
      ],
      "layout": "IPY_MODEL_891fd8134788449abfac611d7c17a18c"
     }
    },
    "7aba2ecb11ef45578c5084d5ea52f201": {
     "model_module": "@jupyter-widgets/base",
     "model_name": "LayoutModel",
     "state": {
      "_model_module": "@jupyter-widgets/base",
      "_model_module_version": "1.2.0",
      "_model_name": "LayoutModel",
      "_view_count": null,
      "_view_module": "@jupyter-widgets/base",
      "_view_module_version": "1.2.0",
      "_view_name": "LayoutView",
      "align_content": null,
      "align_items": null,
      "align_self": null,
      "border": null,
      "bottom": null,
      "display": null,
      "flex": null,
      "flex_flow": null,
      "grid_area": null,
      "grid_auto_columns": null,
      "grid_auto_flow": null,
      "grid_auto_rows": null,
      "grid_column": null,
      "grid_gap": null,
      "grid_row": null,
      "grid_template_areas": null,
      "grid_template_columns": null,
      "grid_template_rows": null,
      "height": null,
      "justify_content": null,
      "justify_items": null,
      "left": null,
      "margin": null,
      "max_height": null,
      "max_width": null,
      "min_height": null,
      "min_width": null,
      "object_fit": null,
      "object_position": null,
      "order": null,
      "overflow": null,
      "overflow_x": null,
      "overflow_y": null,
      "padding": null,
      "right": null,
      "top": null,
      "visibility": null,
      "width": null
     }
    },
    "7d03f65d54a7431c9255bb87744f988c": {
     "model_module": "@jupyter-widgets/controls",
     "model_name": "FloatProgressModel",
     "state": {
      "_dom_classes": [],
      "_model_module": "@jupyter-widgets/controls",
      "_model_module_version": "1.5.0",
      "_model_name": "FloatProgressModel",
      "_view_count": null,
      "_view_module": "@jupyter-widgets/controls",
      "_view_module_version": "1.5.0",
      "_view_name": "ProgressView",
      "bar_style": "success",
      "description": "Downloading: 100%",
      "description_tooltip": null,
      "layout": "IPY_MODEL_b24c8259196748e3be61775c4922a01b",
      "max": 1343,
      "min": 0,
      "orientation": "horizontal",
      "style": "IPY_MODEL_e2e82122065c4d21a442c6f0c1e986d8",
      "value": 1343
     }
    },
    "891fd8134788449abfac611d7c17a18c": {
     "model_module": "@jupyter-widgets/base",
     "model_name": "LayoutModel",
     "state": {
      "_model_module": "@jupyter-widgets/base",
      "_model_module_version": "1.2.0",
      "_model_name": "LayoutModel",
      "_view_count": null,
      "_view_module": "@jupyter-widgets/base",
      "_view_module_version": "1.2.0",
      "_view_name": "LayoutView",
      "align_content": null,
      "align_items": null,
      "align_self": null,
      "border": null,
      "bottom": null,
      "display": null,
      "flex": null,
      "flex_flow": null,
      "grid_area": null,
      "grid_auto_columns": null,
      "grid_auto_flow": null,
      "grid_auto_rows": null,
      "grid_column": null,
      "grid_gap": null,
      "grid_row": null,
      "grid_template_areas": null,
      "grid_template_columns": null,
      "grid_template_rows": null,
      "height": null,
      "justify_content": null,
      "justify_items": null,
      "left": null,
      "margin": null,
      "max_height": null,
      "max_width": null,
      "min_height": null,
      "min_width": null,
      "object_fit": null,
      "object_position": null,
      "order": null,
      "overflow": null,
      "overflow_x": null,
      "overflow_y": null,
      "padding": null,
      "right": null,
      "top": null,
      "visibility": null,
      "width": null
     }
    },
    "8c540f1850fb430693bad945a2b289c1": {
     "model_module": "@jupyter-widgets/base",
     "model_name": "LayoutModel",
     "state": {
      "_model_module": "@jupyter-widgets/base",
      "_model_module_version": "1.2.0",
      "_model_name": "LayoutModel",
      "_view_count": null,
      "_view_module": "@jupyter-widgets/base",
      "_view_module_version": "1.2.0",
      "_view_name": "LayoutView",
      "align_content": null,
      "align_items": null,
      "align_self": null,
      "border": null,
      "bottom": null,
      "display": null,
      "flex": null,
      "flex_flow": null,
      "grid_area": null,
      "grid_auto_columns": null,
      "grid_auto_flow": null,
      "grid_auto_rows": null,
      "grid_column": null,
      "grid_gap": null,
      "grid_row": null,
      "grid_template_areas": null,
      "grid_template_columns": null,
      "grid_template_rows": null,
      "height": null,
      "justify_content": null,
      "justify_items": null,
      "left": null,
      "margin": null,
      "max_height": null,
      "max_width": null,
      "min_height": null,
      "min_width": null,
      "object_fit": null,
      "object_position": null,
      "order": null,
      "overflow": null,
      "overflow_x": null,
      "overflow_y": null,
      "padding": null,
      "right": null,
      "top": null,
      "visibility": null,
      "width": null
     }
    },
    "8ffd1abe7b9145d89884fd7b817f7ad6": {
     "model_module": "@jupyter-widgets/base",
     "model_name": "LayoutModel",
     "state": {
      "_model_module": "@jupyter-widgets/base",
      "_model_module_version": "1.2.0",
      "_model_name": "LayoutModel",
      "_view_count": null,
      "_view_module": "@jupyter-widgets/base",
      "_view_module_version": "1.2.0",
      "_view_name": "LayoutView",
      "align_content": null,
      "align_items": null,
      "align_self": null,
      "border": null,
      "bottom": null,
      "display": null,
      "flex": null,
      "flex_flow": null,
      "grid_area": null,
      "grid_auto_columns": null,
      "grid_auto_flow": null,
      "grid_auto_rows": null,
      "grid_column": null,
      "grid_gap": null,
      "grid_row": null,
      "grid_template_areas": null,
      "grid_template_columns": null,
      "grid_template_rows": null,
      "height": null,
      "justify_content": null,
      "justify_items": null,
      "left": null,
      "margin": null,
      "max_height": null,
      "max_width": null,
      "min_height": null,
      "min_width": null,
      "object_fit": null,
      "object_position": null,
      "order": null,
      "overflow": null,
      "overflow_x": null,
      "overflow_y": null,
      "padding": null,
      "right": null,
      "top": null,
      "visibility": null,
      "width": null
     }
    },
    "92c89a4cc6d243669570ebc3ea7f18b6": {
     "model_module": "@jupyter-widgets/controls",
     "model_name": "HTMLModel",
     "state": {
      "_dom_classes": [],
      "_model_module": "@jupyter-widgets/controls",
      "_model_module_version": "1.5.0",
      "_model_name": "HTMLModel",
      "_view_count": null,
      "_view_module": "@jupyter-widgets/controls",
      "_view_module_version": "1.5.0",
      "_view_name": "HTMLView",
      "description": "",
      "description_tooltip": null,
      "layout": "IPY_MODEL_77e6c62cef6c4a9785dbc1d05cde2fd2",
      "placeholder": "​",
      "style": "IPY_MODEL_1e3e6791567745d391b5d854906b0e3d",
      "value": " 1.34G/1.34G [00:18&lt;00:00, 71.3MB/s]"
     }
    },
    "9ae72939bec1496bb6dddeabd07557d6": {
     "model_module": "@jupyter-widgets/base",
     "model_name": "LayoutModel",
     "state": {
      "_model_module": "@jupyter-widgets/base",
      "_model_module_version": "1.2.0",
      "_model_name": "LayoutModel",
      "_view_count": null,
      "_view_module": "@jupyter-widgets/base",
      "_view_module_version": "1.2.0",
      "_view_name": "LayoutView",
      "align_content": null,
      "align_items": null,
      "align_self": null,
      "border": null,
      "bottom": null,
      "display": null,
      "flex": null,
      "flex_flow": null,
      "grid_area": null,
      "grid_auto_columns": null,
      "grid_auto_flow": null,
      "grid_auto_rows": null,
      "grid_column": null,
      "grid_gap": null,
      "grid_row": null,
      "grid_template_areas": null,
      "grid_template_columns": null,
      "grid_template_rows": null,
      "height": null,
      "justify_content": null,
      "justify_items": null,
      "left": null,
      "margin": null,
      "max_height": null,
      "max_width": null,
      "min_height": null,
      "min_width": null,
      "object_fit": null,
      "object_position": null,
      "order": null,
      "overflow": null,
      "overflow_x": null,
      "overflow_y": null,
      "padding": null,
      "right": null,
      "top": null,
      "visibility": null,
      "width": null
     }
    },
    "a022ee6b0f604acdb29df15892b50599": {
     "model_module": "@jupyter-widgets/controls",
     "model_name": "HTMLModel",
     "state": {
      "_dom_classes": [],
      "_model_module": "@jupyter-widgets/controls",
      "_model_module_version": "1.5.0",
      "_model_name": "HTMLModel",
      "_view_count": null,
      "_view_module": "@jupyter-widgets/controls",
      "_view_module_version": "1.5.0",
      "_view_name": "HTMLView",
      "description": "",
      "description_tooltip": null,
      "layout": "IPY_MODEL_315acb9d5fe142ac8bad2199a58ad20c",
      "placeholder": "​",
      "style": "IPY_MODEL_f9ea38721702453d93a907e9698c9867",
      "value": " 442/442 [00:00&lt;00:00, 6.50kB/s]"
     }
    },
    "a150e19a895448ec936b32ecfec00a0c": {
     "model_module": "@jupyter-widgets/controls",
     "model_name": "DescriptionStyleModel",
     "state": {
      "_model_module": "@jupyter-widgets/controls",
      "_model_module_version": "1.5.0",
      "_model_name": "DescriptionStyleModel",
      "_view_count": null,
      "_view_module": "@jupyter-widgets/base",
      "_view_module_version": "1.2.0",
      "_view_name": "StyleView",
      "description_width": ""
     }
    },
    "a3c30a32d9d847e897c4f6c0352cd3b3": {
     "model_module": "@jupyter-widgets/controls",
     "model_name": "FloatProgressModel",
     "state": {
      "_dom_classes": [],
      "_model_module": "@jupyter-widgets/controls",
      "_model_module_version": "1.5.0",
      "_model_name": "FloatProgressModel",
      "_view_count": null,
      "_view_module": "@jupyter-widgets/controls",
      "_view_module_version": "1.5.0",
      "_view_name": "ProgressView",
      "bar_style": "success",
      "description": "Downloading: 100%",
      "description_tooltip": null,
      "layout": "IPY_MODEL_b1727639cb2646c8ace6e1f532448604",
      "max": 1344997306,
      "min": 0,
      "orientation": "horizontal",
      "style": "IPY_MODEL_15095adfb1ef4a39b14d00486c686528",
      "value": 1344997306
     }
    },
    "a81224570fa544d5834a0133ec23df8e": {
     "model_module": "@jupyter-widgets/controls",
     "model_name": "FloatProgressModel",
     "state": {
      "_dom_classes": [],
      "_model_module": "@jupyter-widgets/controls",
      "_model_module_version": "1.5.0",
      "_model_name": "FloatProgressModel",
      "_view_count": null,
      "_view_module": "@jupyter-widgets/controls",
      "_view_module_version": "1.5.0",
      "_view_name": "ProgressView",
      "bar_style": "success",
      "description": "Downloading: 100%",
      "description_tooltip": null,
      "layout": "IPY_MODEL_3947abee2c70400cbd210ece1e328bee",
      "max": 456318,
      "min": 0,
      "orientation": "horizontal",
      "style": "IPY_MODEL_c7293b433f4249e4b4e6f266855a0e13",
      "value": 456318
     }
    },
    "a9c32d10f15f4b299c00be155f3636b1": {
     "model_module": "@jupyter-widgets/controls",
     "model_name": "HBoxModel",
     "state": {
      "_dom_classes": [],
      "_model_module": "@jupyter-widgets/controls",
      "_model_module_version": "1.5.0",
      "_model_name": "HBoxModel",
      "_view_count": null,
      "_view_module": "@jupyter-widgets/controls",
      "_view_module_version": "1.5.0",
      "_view_name": "HBoxView",
      "box_style": "",
      "children": [
       "IPY_MODEL_0f5b291e775343c7a086107fb33db6b0",
       "IPY_MODEL_b077f03d874d440fb25d26ca80293286"
      ],
      "layout": "IPY_MODEL_2edf27b5641742799d69de83bba18d14"
     }
    },
    "ab06647f350746648f64eed375cb79db": {
     "model_module": "@jupyter-widgets/base",
     "model_name": "LayoutModel",
     "state": {
      "_model_module": "@jupyter-widgets/base",
      "_model_module_version": "1.2.0",
      "_model_name": "LayoutModel",
      "_view_count": null,
      "_view_module": "@jupyter-widgets/base",
      "_view_module_version": "1.2.0",
      "_view_name": "LayoutView",
      "align_content": null,
      "align_items": null,
      "align_self": null,
      "border": null,
      "bottom": null,
      "display": null,
      "flex": null,
      "flex_flow": null,
      "grid_area": null,
      "grid_auto_columns": null,
      "grid_auto_flow": null,
      "grid_auto_rows": null,
      "grid_column": null,
      "grid_gap": null,
      "grid_row": null,
      "grid_template_areas": null,
      "grid_template_columns": null,
      "grid_template_rows": null,
      "height": null,
      "justify_content": null,
      "justify_items": null,
      "left": null,
      "margin": null,
      "max_height": null,
      "max_width": null,
      "min_height": null,
      "min_width": null,
      "object_fit": null,
      "object_position": null,
      "order": null,
      "overflow": null,
      "overflow_x": null,
      "overflow_y": null,
      "padding": null,
      "right": null,
      "top": null,
      "visibility": null,
      "width": null
     }
    },
    "ab0950ec278a4fec8f3b554c9a419584": {
     "model_module": "@jupyter-widgets/base",
     "model_name": "LayoutModel",
     "state": {
      "_model_module": "@jupyter-widgets/base",
      "_model_module_version": "1.2.0",
      "_model_name": "LayoutModel",
      "_view_count": null,
      "_view_module": "@jupyter-widgets/base",
      "_view_module_version": "1.2.0",
      "_view_name": "LayoutView",
      "align_content": null,
      "align_items": null,
      "align_self": null,
      "border": null,
      "bottom": null,
      "display": null,
      "flex": null,
      "flex_flow": null,
      "grid_area": null,
      "grid_auto_columns": null,
      "grid_auto_flow": null,
      "grid_auto_rows": null,
      "grid_column": null,
      "grid_gap": null,
      "grid_row": null,
      "grid_template_areas": null,
      "grid_template_columns": null,
      "grid_template_rows": null,
      "height": null,
      "justify_content": null,
      "justify_items": null,
      "left": null,
      "margin": null,
      "max_height": null,
      "max_width": null,
      "min_height": null,
      "min_width": null,
      "object_fit": null,
      "object_position": null,
      "order": null,
      "overflow": null,
      "overflow_x": null,
      "overflow_y": null,
      "padding": null,
      "right": null,
      "top": null,
      "visibility": null,
      "width": null
     }
    },
    "acc2f315dceb4fe38f16387e02811883": {
     "model_module": "@jupyter-widgets/base",
     "model_name": "LayoutModel",
     "state": {
      "_model_module": "@jupyter-widgets/base",
      "_model_module_version": "1.2.0",
      "_model_name": "LayoutModel",
      "_view_count": null,
      "_view_module": "@jupyter-widgets/base",
      "_view_module_version": "1.2.0",
      "_view_name": "LayoutView",
      "align_content": null,
      "align_items": null,
      "align_self": null,
      "border": null,
      "bottom": null,
      "display": null,
      "flex": null,
      "flex_flow": null,
      "grid_area": null,
      "grid_auto_columns": null,
      "grid_auto_flow": null,
      "grid_auto_rows": null,
      "grid_column": null,
      "grid_gap": null,
      "grid_row": null,
      "grid_template_areas": null,
      "grid_template_columns": null,
      "grid_template_rows": null,
      "height": null,
      "justify_content": null,
      "justify_items": null,
      "left": null,
      "margin": null,
      "max_height": null,
      "max_width": null,
      "min_height": null,
      "min_width": null,
      "object_fit": null,
      "object_position": null,
      "order": null,
      "overflow": null,
      "overflow_x": null,
      "overflow_y": null,
      "padding": null,
      "right": null,
      "top": null,
      "visibility": null,
      "width": null
     }
    },
    "b077f03d874d440fb25d26ca80293286": {
     "model_module": "@jupyter-widgets/controls",
     "model_name": "HTMLModel",
     "state": {
      "_dom_classes": [],
      "_model_module": "@jupyter-widgets/controls",
      "_model_module_version": "1.5.0",
      "_model_name": "HTMLModel",
      "_view_count": null,
      "_view_module": "@jupyter-widgets/controls",
      "_view_module_version": "1.5.0",
      "_view_name": "HTMLView",
      "description": "",
      "description_tooltip": null,
      "layout": "IPY_MODEL_07e004ec136e4fccbfaa0e3690f6ae82",
      "placeholder": "​",
      "style": "IPY_MODEL_315d88c4111c455eab1836dd91e78300",
      "value": " 1.63G/1.63G [00:23&lt;00:00, 69.8MB/s]"
     }
    },
    "b1727639cb2646c8ace6e1f532448604": {
     "model_module": "@jupyter-widgets/base",
     "model_name": "LayoutModel",
     "state": {
      "_model_module": "@jupyter-widgets/base",
      "_model_module_version": "1.2.0",
      "_model_name": "LayoutModel",
      "_view_count": null,
      "_view_module": "@jupyter-widgets/base",
      "_view_module_version": "1.2.0",
      "_view_name": "LayoutView",
      "align_content": null,
      "align_items": null,
      "align_self": null,
      "border": null,
      "bottom": null,
      "display": null,
      "flex": null,
      "flex_flow": null,
      "grid_area": null,
      "grid_auto_columns": null,
      "grid_auto_flow": null,
      "grid_auto_rows": null,
      "grid_column": null,
      "grid_gap": null,
      "grid_row": null,
      "grid_template_areas": null,
      "grid_template_columns": null,
      "grid_template_rows": null,
      "height": null,
      "justify_content": null,
      "justify_items": null,
      "left": null,
      "margin": null,
      "max_height": null,
      "max_width": null,
      "min_height": null,
      "min_width": null,
      "object_fit": null,
      "object_position": null,
      "order": null,
      "overflow": null,
      "overflow_x": null,
      "overflow_y": null,
      "padding": null,
      "right": null,
      "top": null,
      "visibility": null,
      "width": null
     }
    },
    "b24c8259196748e3be61775c4922a01b": {
     "model_module": "@jupyter-widgets/base",
     "model_name": "LayoutModel",
     "state": {
      "_model_module": "@jupyter-widgets/base",
      "_model_module_version": "1.2.0",
      "_model_name": "LayoutModel",
      "_view_count": null,
      "_view_module": "@jupyter-widgets/base",
      "_view_module_version": "1.2.0",
      "_view_name": "LayoutView",
      "align_content": null,
      "align_items": null,
      "align_self": null,
      "border": null,
      "bottom": null,
      "display": null,
      "flex": null,
      "flex_flow": null,
      "grid_area": null,
      "grid_auto_columns": null,
      "grid_auto_flow": null,
      "grid_auto_rows": null,
      "grid_column": null,
      "grid_gap": null,
      "grid_row": null,
      "grid_template_areas": null,
      "grid_template_columns": null,
      "grid_template_rows": null,
      "height": null,
      "justify_content": null,
      "justify_items": null,
      "left": null,
      "margin": null,
      "max_height": null,
      "max_width": null,
      "min_height": null,
      "min_width": null,
      "object_fit": null,
      "object_position": null,
      "order": null,
      "overflow": null,
      "overflow_x": null,
      "overflow_y": null,
      "padding": null,
      "right": null,
      "top": null,
      "visibility": null,
      "width": null
     }
    },
    "b45b312b171049b1a9ceeccb3581b25f": {
     "model_module": "@jupyter-widgets/base",
     "model_name": "LayoutModel",
     "state": {
      "_model_module": "@jupyter-widgets/base",
      "_model_module_version": "1.2.0",
      "_model_name": "LayoutModel",
      "_view_count": null,
      "_view_module": "@jupyter-widgets/base",
      "_view_module_version": "1.2.0",
      "_view_name": "LayoutView",
      "align_content": null,
      "align_items": null,
      "align_self": null,
      "border": null,
      "bottom": null,
      "display": null,
      "flex": null,
      "flex_flow": null,
      "grid_area": null,
      "grid_auto_columns": null,
      "grid_auto_flow": null,
      "grid_auto_rows": null,
      "grid_column": null,
      "grid_gap": null,
      "grid_row": null,
      "grid_template_areas": null,
      "grid_template_columns": null,
      "grid_template_rows": null,
      "height": null,
      "justify_content": null,
      "justify_items": null,
      "left": null,
      "margin": null,
      "max_height": null,
      "max_width": null,
      "min_height": null,
      "min_width": null,
      "object_fit": null,
      "object_position": null,
      "order": null,
      "overflow": null,
      "overflow_x": null,
      "overflow_y": null,
      "padding": null,
      "right": null,
      "top": null,
      "visibility": null,
      "width": null
     }
    },
    "b80757c1c32040829cc7964b26bdf10a": {
     "model_module": "@jupyter-widgets/base",
     "model_name": "LayoutModel",
     "state": {
      "_model_module": "@jupyter-widgets/base",
      "_model_module_version": "1.2.0",
      "_model_name": "LayoutModel",
      "_view_count": null,
      "_view_module": "@jupyter-widgets/base",
      "_view_module_version": "1.2.0",
      "_view_name": "LayoutView",
      "align_content": null,
      "align_items": null,
      "align_self": null,
      "border": null,
      "bottom": null,
      "display": null,
      "flex": null,
      "flex_flow": null,
      "grid_area": null,
      "grid_auto_columns": null,
      "grid_auto_flow": null,
      "grid_auto_rows": null,
      "grid_column": null,
      "grid_gap": null,
      "grid_row": null,
      "grid_template_areas": null,
      "grid_template_columns": null,
      "grid_template_rows": null,
      "height": null,
      "justify_content": null,
      "justify_items": null,
      "left": null,
      "margin": null,
      "max_height": null,
      "max_width": null,
      "min_height": null,
      "min_width": null,
      "object_fit": null,
      "object_position": null,
      "order": null,
      "overflow": null,
      "overflow_x": null,
      "overflow_y": null,
      "padding": null,
      "right": null,
      "top": null,
      "visibility": null,
      "width": null
     }
    },
    "b97185f8c1d54d099d549507c1e0b062": {
     "model_module": "@jupyter-widgets/controls",
     "model_name": "FloatProgressModel",
     "state": {
      "_dom_classes": [],
      "_model_module": "@jupyter-widgets/controls",
      "_model_module_version": "1.5.0",
      "_model_name": "FloatProgressModel",
      "_view_count": null,
      "_view_module": "@jupyter-widgets/controls",
      "_view_module_version": "1.5.0",
      "_view_name": "ProgressView",
      "bar_style": "success",
      "description": "Downloading: 100%",
      "description_tooltip": null,
      "layout": "IPY_MODEL_cc2c104bc114463aa3cd463ae89c6d6f",
      "max": 434,
      "min": 0,
      "orientation": "horizontal",
      "style": "IPY_MODEL_2a0ad8d789494765878cf5b793880fb5",
      "value": 434
     }
    },
    "baad97d3757f40aabc4f9d0fe011c5bc": {
     "model_module": "@jupyter-widgets/controls",
     "model_name": "DescriptionStyleModel",
     "state": {
      "_model_module": "@jupyter-widgets/controls",
      "_model_module_version": "1.5.0",
      "_model_name": "DescriptionStyleModel",
      "_view_count": null,
      "_view_module": "@jupyter-widgets/base",
      "_view_module_version": "1.2.0",
      "_view_name": "StyleView",
      "description_width": ""
     }
    },
    "bcda14e951ee4ba98c8a41ff0dcd3d8b": {
     "model_module": "@jupyter-widgets/controls",
     "model_name": "DescriptionStyleModel",
     "state": {
      "_model_module": "@jupyter-widgets/controls",
      "_model_module_version": "1.5.0",
      "_model_name": "DescriptionStyleModel",
      "_view_count": null,
      "_view_module": "@jupyter-widgets/base",
      "_view_module_version": "1.2.0",
      "_view_name": "StyleView",
      "description_width": ""
     }
    },
    "c2b49e98c799462cb8c7ea747bcf06c1": {
     "model_module": "@jupyter-widgets/controls",
     "model_name": "HTMLModel",
     "state": {
      "_dom_classes": [],
      "_model_module": "@jupyter-widgets/controls",
      "_model_module_version": "1.5.0",
      "_model_name": "HTMLModel",
      "_view_count": null,
      "_view_module": "@jupyter-widgets/controls",
      "_view_module_version": "1.5.0",
      "_view_name": "HTMLView",
      "description": "",
      "description_tooltip": null,
      "layout": "IPY_MODEL_8c540f1850fb430693bad945a2b289c1",
      "placeholder": "​",
      "style": "IPY_MODEL_e7a79d896e5a456fb40a1d7ab3fdb4a2",
      "value": " 232k/232k [00:00&lt;00:00, 630kB/s]"
     }
    },
    "c7293b433f4249e4b4e6f266855a0e13": {
     "model_module": "@jupyter-widgets/controls",
     "model_name": "ProgressStyleModel",
     "state": {
      "_model_module": "@jupyter-widgets/controls",
      "_model_module_version": "1.5.0",
      "_model_name": "ProgressStyleModel",
      "_view_count": null,
      "_view_module": "@jupyter-widgets/base",
      "_view_module_version": "1.2.0",
      "_view_name": "StyleView",
      "bar_color": null,
      "description_width": "initial"
     }
    },
    "cc2c104bc114463aa3cd463ae89c6d6f": {
     "model_module": "@jupyter-widgets/base",
     "model_name": "LayoutModel",
     "state": {
      "_model_module": "@jupyter-widgets/base",
      "_model_module_version": "1.2.0",
      "_model_name": "LayoutModel",
      "_view_count": null,
      "_view_module": "@jupyter-widgets/base",
      "_view_module_version": "1.2.0",
      "_view_name": "LayoutView",
      "align_content": null,
      "align_items": null,
      "align_self": null,
      "border": null,
      "bottom": null,
      "display": null,
      "flex": null,
      "flex_flow": null,
      "grid_area": null,
      "grid_auto_columns": null,
      "grid_auto_flow": null,
      "grid_auto_rows": null,
      "grid_column": null,
      "grid_gap": null,
      "grid_row": null,
      "grid_template_areas": null,
      "grid_template_columns": null,
      "grid_template_rows": null,
      "height": null,
      "justify_content": null,
      "justify_items": null,
      "left": null,
      "margin": null,
      "max_height": null,
      "max_width": null,
      "min_height": null,
      "min_width": null,
      "object_fit": null,
      "object_position": null,
      "order": null,
      "overflow": null,
      "overflow_x": null,
      "overflow_y": null,
      "padding": null,
      "right": null,
      "top": null,
      "visibility": null,
      "width": null
     }
    },
    "cc2e2a777b5c442bbc2c671c36c5103a": {
     "model_module": "@jupyter-widgets/controls",
     "model_name": "HTMLModel",
     "state": {
      "_dom_classes": [],
      "_model_module": "@jupyter-widgets/controls",
      "_model_module_version": "1.5.0",
      "_model_name": "HTMLModel",
      "_view_count": null,
      "_view_module": "@jupyter-widgets/controls",
      "_view_module_version": "1.5.0",
      "_view_name": "HTMLView",
      "description": "",
      "description_tooltip": null,
      "layout": "IPY_MODEL_ab06647f350746648f64eed375cb79db",
      "placeholder": "​",
      "style": "IPY_MODEL_baad97d3757f40aabc4f9d0fe011c5bc",
      "value": " 232k/232k [00:00&lt;00:00, 621kB/s]"
     }
    },
    "ce95975cd14649b294d4b4374d1121dc": {
     "model_module": "@jupyter-widgets/controls",
     "model_name": "HTMLModel",
     "state": {
      "_dom_classes": [],
      "_model_module": "@jupyter-widgets/controls",
      "_model_module_version": "1.5.0",
      "_model_name": "HTMLModel",
      "_view_count": null,
      "_view_module": "@jupyter-widgets/controls",
      "_view_module_version": "1.5.0",
      "_view_name": "HTMLView",
      "description": "",
      "description_tooltip": null,
      "layout": "IPY_MODEL_47cbd71d3a984adc99a4506c052e246f",
      "placeholder": "​",
      "style": "IPY_MODEL_e28d215394704bf3b7f08e224c16f136",
      "value": " 1.34k/1.34k [00:00&lt;00:00, 1.88kB/s]"
     }
    },
    "cff3e821aa944bd888d9e12f92c3688f": {
     "model_module": "@jupyter-widgets/base",
     "model_name": "LayoutModel",
     "state": {
      "_model_module": "@jupyter-widgets/base",
      "_model_module_version": "1.2.0",
      "_model_name": "LayoutModel",
      "_view_count": null,
      "_view_module": "@jupyter-widgets/base",
      "_view_module_version": "1.2.0",
      "_view_name": "LayoutView",
      "align_content": null,
      "align_items": null,
      "align_self": null,
      "border": null,
      "bottom": null,
      "display": null,
      "flex": null,
      "flex_flow": null,
      "grid_area": null,
      "grid_auto_columns": null,
      "grid_auto_flow": null,
      "grid_auto_rows": null,
      "grid_column": null,
      "grid_gap": null,
      "grid_row": null,
      "grid_template_areas": null,
      "grid_template_columns": null,
      "grid_template_rows": null,
      "height": null,
      "justify_content": null,
      "justify_items": null,
      "left": null,
      "margin": null,
      "max_height": null,
      "max_width": null,
      "min_height": null,
      "min_width": null,
      "object_fit": null,
      "object_position": null,
      "order": null,
      "overflow": null,
      "overflow_x": null,
      "overflow_y": null,
      "padding": null,
      "right": null,
      "top": null,
      "visibility": null,
      "width": null
     }
    },
    "df60b80496cb4646b28bb4ff0a7758ee": {
     "model_module": "@jupyter-widgets/base",
     "model_name": "LayoutModel",
     "state": {
      "_model_module": "@jupyter-widgets/base",
      "_model_module_version": "1.2.0",
      "_model_name": "LayoutModel",
      "_view_count": null,
      "_view_module": "@jupyter-widgets/base",
      "_view_module_version": "1.2.0",
      "_view_name": "LayoutView",
      "align_content": null,
      "align_items": null,
      "align_self": null,
      "border": null,
      "bottom": null,
      "display": null,
      "flex": null,
      "flex_flow": null,
      "grid_area": null,
      "grid_auto_columns": null,
      "grid_auto_flow": null,
      "grid_auto_rows": null,
      "grid_column": null,
      "grid_gap": null,
      "grid_row": null,
      "grid_template_areas": null,
      "grid_template_columns": null,
      "grid_template_rows": null,
      "height": null,
      "justify_content": null,
      "justify_items": null,
      "left": null,
      "margin": null,
      "max_height": null,
      "max_width": null,
      "min_height": null,
      "min_width": null,
      "object_fit": null,
      "object_position": null,
      "order": null,
      "overflow": null,
      "overflow_x": null,
      "overflow_y": null,
      "padding": null,
      "right": null,
      "top": null,
      "visibility": null,
      "width": null
     }
    },
    "e16403e4386940dda07732b82c540d90": {
     "model_module": "@jupyter-widgets/controls",
     "model_name": "ProgressStyleModel",
     "state": {
      "_model_module": "@jupyter-widgets/controls",
      "_model_module_version": "1.5.0",
      "_model_name": "ProgressStyleModel",
      "_view_count": null,
      "_view_module": "@jupyter-widgets/base",
      "_view_module_version": "1.2.0",
      "_view_name": "StyleView",
      "bar_color": null,
      "description_width": "initial"
     }
    },
    "e28d215394704bf3b7f08e224c16f136": {
     "model_module": "@jupyter-widgets/controls",
     "model_name": "DescriptionStyleModel",
     "state": {
      "_model_module": "@jupyter-widgets/controls",
      "_model_module_version": "1.5.0",
      "_model_name": "DescriptionStyleModel",
      "_view_count": null,
      "_view_module": "@jupyter-widgets/base",
      "_view_module_version": "1.2.0",
      "_view_name": "StyleView",
      "description_width": ""
     }
    },
    "e2e82122065c4d21a442c6f0c1e986d8": {
     "model_module": "@jupyter-widgets/controls",
     "model_name": "ProgressStyleModel",
     "state": {
      "_model_module": "@jupyter-widgets/controls",
      "_model_module_version": "1.5.0",
      "_model_name": "ProgressStyleModel",
      "_view_count": null,
      "_view_module": "@jupyter-widgets/base",
      "_view_module_version": "1.2.0",
      "_view_name": "StyleView",
      "bar_color": null,
      "description_width": "initial"
     }
    },
    "e7a79d896e5a456fb40a1d7ab3fdb4a2": {
     "model_module": "@jupyter-widgets/controls",
     "model_name": "DescriptionStyleModel",
     "state": {
      "_model_module": "@jupyter-widgets/controls",
      "_model_module_version": "1.5.0",
      "_model_name": "DescriptionStyleModel",
      "_view_count": null,
      "_view_module": "@jupyter-widgets/base",
      "_view_module_version": "1.2.0",
      "_view_name": "StyleView",
      "description_width": ""
     }
    },
    "edc2e64573d34dff90d73219c6765e2c": {
     "model_module": "@jupyter-widgets/controls",
     "model_name": "HBoxModel",
     "state": {
      "_dom_classes": [],
      "_model_module": "@jupyter-widgets/controls",
      "_model_module_version": "1.5.0",
      "_model_name": "HBoxModel",
      "_view_count": null,
      "_view_module": "@jupyter-widgets/controls",
      "_view_module_version": "1.5.0",
      "_view_name": "HBoxView",
      "box_style": "",
      "children": [
       "IPY_MODEL_a3c30a32d9d847e897c4f6c0352cd3b3",
       "IPY_MODEL_92c89a4cc6d243669570ebc3ea7f18b6"
      ],
      "layout": "IPY_MODEL_cff3e821aa944bd888d9e12f92c3688f"
     }
    },
    "f491eb9e592f4cdb9f960b09960227e9": {
     "model_module": "@jupyter-widgets/controls",
     "model_name": "FloatProgressModel",
     "state": {
      "_dom_classes": [],
      "_model_module": "@jupyter-widgets/controls",
      "_model_module_version": "1.5.0",
      "_model_name": "FloatProgressModel",
      "_view_count": null,
      "_view_module": "@jupyter-widgets/controls",
      "_view_module_version": "1.5.0",
      "_view_name": "ProgressView",
      "bar_style": "success",
      "description": "Downloading: 100%",
      "description_tooltip": null,
      "layout": "IPY_MODEL_7aba2ecb11ef45578c5084d5ea52f201",
      "max": 231508,
      "min": 0,
      "orientation": "horizontal",
      "style": "IPY_MODEL_e16403e4386940dda07732b82c540d90",
      "value": 231508
     }
    },
    "f69d9b98e5ca4c76962fdfb32e33559d": {
     "model_module": "@jupyter-widgets/controls",
     "model_name": "FloatProgressModel",
     "state": {
      "_dom_classes": [],
      "_model_module": "@jupyter-widgets/controls",
      "_model_module_version": "1.5.0",
      "_model_name": "FloatProgressModel",
      "_view_count": null,
      "_view_module": "@jupyter-widgets/controls",
      "_view_module_version": "1.5.0",
      "_view_name": "ProgressView",
      "bar_style": "success",
      "description": "Downloading: 100%",
      "description_tooltip": null,
      "layout": "IPY_MODEL_df60b80496cb4646b28bb4ff0a7758ee",
      "max": 267967963,
      "min": 0,
      "orientation": "horizontal",
      "style": "IPY_MODEL_0d741f312d8344d6bfe59b1f9d78dec1",
      "value": 267967963
     }
    },
    "f9ea38721702453d93a907e9698c9867": {
     "model_module": "@jupyter-widgets/controls",
     "model_name": "DescriptionStyleModel",
     "state": {
      "_model_module": "@jupyter-widgets/controls",
      "_model_module_version": "1.5.0",
      "_model_name": "DescriptionStyleModel",
      "_view_count": null,
      "_view_module": "@jupyter-widgets/base",
      "_view_module_version": "1.2.0",
      "_view_name": "StyleView",
      "description_width": ""
     }
    },
    "fb54a74a9b144b3fbf2669e33d400a20": {
     "model_module": "@jupyter-widgets/base",
     "model_name": "LayoutModel",
     "state": {
      "_model_module": "@jupyter-widgets/base",
      "_model_module_version": "1.2.0",
      "_model_name": "LayoutModel",
      "_view_count": null,
      "_view_module": "@jupyter-widgets/base",
      "_view_module_version": "1.2.0",
      "_view_name": "LayoutView",
      "align_content": null,
      "align_items": null,
      "align_self": null,
      "border": null,
      "bottom": null,
      "display": null,
      "flex": null,
      "flex_flow": null,
      "grid_area": null,
      "grid_auto_columns": null,
      "grid_auto_flow": null,
      "grid_auto_rows": null,
      "grid_column": null,
      "grid_gap": null,
      "grid_row": null,
      "grid_template_areas": null,
      "grid_template_columns": null,
      "grid_template_rows": null,
      "height": null,
      "justify_content": null,
      "justify_items": null,
      "left": null,
      "margin": null,
      "max_height": null,
      "max_width": null,
      "min_height": null,
      "min_width": null,
      "object_fit": null,
      "object_position": null,
      "order": null,
      "overflow": null,
      "overflow_x": null,
      "overflow_y": null,
      "padding": null,
      "right": null,
      "top": null,
      "visibility": null,
      "width": null
     }
    },
    "fe32a53806714f24996d9b56b9a6a976": {
     "model_module": "@jupyter-widgets/base",
     "model_name": "LayoutModel",
     "state": {
      "_model_module": "@jupyter-widgets/base",
      "_model_module_version": "1.2.0",
      "_model_name": "LayoutModel",
      "_view_count": null,
      "_view_module": "@jupyter-widgets/base",
      "_view_module_version": "1.2.0",
      "_view_name": "LayoutView",
      "align_content": null,
      "align_items": null,
      "align_self": null,
      "border": null,
      "bottom": null,
      "display": null,
      "flex": null,
      "flex_flow": null,
      "grid_area": null,
      "grid_auto_columns": null,
      "grid_auto_flow": null,
      "grid_auto_rows": null,
      "grid_column": null,
      "grid_gap": null,
      "grid_row": null,
      "grid_template_areas": null,
      "grid_template_columns": null,
      "grid_template_rows": null,
      "height": null,
      "justify_content": null,
      "justify_items": null,
      "left": null,
      "margin": null,
      "max_height": null,
      "max_width": null,
      "min_height": null,
      "min_width": null,
      "object_fit": null,
      "object_position": null,
      "order": null,
      "overflow": null,
      "overflow_x": null,
      "overflow_y": null,
      "padding": null,
      "right": null,
      "top": null,
      "visibility": null,
      "width": null
     }
    }
   }
  }
 },
 "nbformat": 4,
 "nbformat_minor": 1
}
